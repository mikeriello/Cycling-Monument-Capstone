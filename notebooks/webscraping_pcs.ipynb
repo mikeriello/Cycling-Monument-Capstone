{
 "cells": [
  {
   "cell_type": "code",
   "execution_count": 23,
   "id": "edbe1eaa-1886-402a-b5d5-0cea83be6acc",
   "metadata": {},
   "outputs": [
    {
     "name": "stdout",
     "output_type": "stream",
     "text": [
      "      # Prev. Diff.          h2hRider                             Team Points\n",
      "0     1     1     -     POGAČAR Tadej          UAE Team Emirates - XRG   4588\n",
      "1     2     2     -   EVENEPOEL Remco                Soudal Quick-Step   2889\n",
      "2     3     3     -  PHILIPSEN Jasper             Alpecin - Deceuninck   2355\n",
      "3     5     5     -  VINGEGAARD Jonas        Team Visma | Lease a Bike   1702\n",
      "4     6     6     -      O'CONNOR Ben                 Team Jayco AlUla   1695\n",
      "..  ...   ...   ...               ...                              ...    ...\n",
      "95  118   117    ▼1      BAUHAUS Phil             Bahrain - Victorious    502\n",
      "96  119   118    ▼1        SOLER Marc          UAE Team Emirates - XRG    500\n",
      "97  120   119    ▼1       LEMMEN Bart        Team Visma | Lease a Bike    496\n",
      "98  121   121     -  VAN POPPEL Danny      Red Bull - BORA - hansgrohe    494\n",
      "99  122   122     -      GODON Dorian  Decathlon AG2R La Mondiale Team    494\n",
      "\n",
      "[100 rows x 6 columns]\n"
     ]
    }
   ],
   "source": [
    "import requests\n",
    "from bs4 import BeautifulSoup\n",
    "import pandas as pd\n",
    "\n",
    "# URL of the page to scrape\n",
    "url = 'https://www.procyclingstats.com/rankings.php?nation=&age=&zage=&page=smallerorequal&team=&offset=0&teamlevel=1&filter=Filter'\n",
    "\n",
    "# Send a GET request to the URL\n",
    "response = requests.get(url)\n",
    "response.raise_for_status()  # Check for any request errors\n",
    "\n",
    "# Parse the HTML content\n",
    "soup = BeautifulSoup(response.content, 'html.parser')\n",
    "\n",
    "# Find the table\n",
    "table = soup.find('table', class_='basic')\n",
    "\n",
    "# Extract table headers\n",
    "headers = [th.text.strip() for th in table.find_all('th')]\n",
    "\n",
    "# Extract table rows\n",
    "rows = []\n",
    "for row in table.find_all('tr')[1:]:  # Skip the header row\n",
    "    columns = [td.text.strip() for td in row.find_all('td')]\n",
    "    rows.append(columns)\n",
    "\n",
    "# Create a DataFrame\n",
    "df = pd.DataFrame(rows, columns=headers)\n",
    "\n",
    "# Remove the \"H2H\" column\n",
    "df = df.loc[:, df.columns != 'H2H']\n",
    "\n",
    "# Display the DataFrame\n",
    "print(df)\n",
    "\n"
   ]
  },
  {
   "cell_type": "code",
   "execution_count": null,
   "id": "13dd566d-c497-421a-94d9-f5bd1acac205",
   "metadata": {},
   "outputs": [],
   "source": []
  }
 ],
 "metadata": {
  "kernelspec": {
   "display_name": "geospatial",
   "language": "python",
   "name": "geospatial"
  },
  "language_info": {
   "codemirror_mode": {
    "name": "ipython",
    "version": 3
   },
   "file_extension": ".py",
   "mimetype": "text/x-python",
   "name": "python",
   "nbconvert_exporter": "python",
   "pygments_lexer": "ipython3",
   "version": "3.10.15"
  }
 },
 "nbformat": 4,
 "nbformat_minor": 5
}
