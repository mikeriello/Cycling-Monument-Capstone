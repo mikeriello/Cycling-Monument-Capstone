{
 "cells": [
  {
   "cell_type": "code",
   "execution_count": null,
   "id": "3322dad9-b615-446e-a7f4-2971bfbc7424",
   "metadata": {},
   "outputs": [],
   "source": [
    "import pandas as pd\n",
    "import requests\n",
    "from bs4 import BeautifulSoup"
   ]
  },
  {
   "cell_type": "code",
   "execution_count": null,
   "id": "ba4a5fcd-c5f2-4502-a786-4f160c67fc81",
   "metadata": {},
   "outputs": [],
   "source": [
    "race_names = {\n",
    "    \"2020 Strade Bianche\": \"race/strade-bianche/2020/result\",\n",
    "    \"2021 Strade Bianche\": \"race/strade-bianche/2021/result\",\n",
    "    \"2022 Strade Bianche\": \"race/strade-bianche/2022/result\",\n",
    "    \"2023 Strade Bianche\": \"race/strade-bianche/2023/result\",\n",
    "    \"2017 Strade Bianche\": \"race/strade-bianche/2017/result\",\n",
    "    \"2018 Strade Bianche\": \"race/strade-bianche/2018/result\",\n",
    "    \"2019 Strade Bianche\": \"race/strade-bianche/2019/result\",\n",
    "\n",
    "    \"2020 Ronde van Vlaanderen\": \"race/ronde-van-vlaanderen/2020/result\",\n",
    "    \"2021 Ronde van Vlaanderen\": \"race/ronde-van-vlaanderen/2021/result\",\n",
    "    \"2022 Ronde van Vlaanderen\": \"race/ronde-van-vlaanderen/2022/result\",\n",
    "    \"2023 Ronde van Vlaanderen\": \"race/ronde-van-vlaanderen/2023/result\",\n",
    "    \"2017 Ronde van Vlaanderen\": \"race/ronde-van-vlaanderen/2017/result\",\n",
    "    \"2018 Ronde van Vlaanderen\": \"race/ronde-van-vlaanderen/2018/result\",\n",
    "    \"2019 Ronde van Vlaanderen\": \"race/ronde-van-vlaanderen/2019/result\",\n",
    "\n",
    "    \"2023 Milano - Torino\": \"race/milano-torino/2023/result\",\n",
    "    \"2017 Milano - Torino\": \"race/milano-torino/2017/result\",\n",
    "    \"2018 Milano - Torino\": \"race/milano-torino/2018/result\",\n",
    "    \"2019 Milano - Torino\": \"race/milano-torino/2019/result\",\n",
    "    \"2020 Milano - Torino\": \"race/milano-torino/2020/result\",\n",
    "    \"2021 Milano - Torino\": \"race/milano-torino/2021/result\",\n",
    "    \"2022 Milano - Torino\": \"race/milano-torino/2022/result\",\n",
    "\n",
    "    \"2021 E3 Saxo Bank Classic\": \"race/e3-harelbeke/2021/result\",\n",
    "    \"2022 E3 Saxo Bank Classic\": \"race/e3-harelbeke/2022/result\",\n",
    "    \"2017 Record Bank E3 Harelbeke\": \"race/e3-harelbeke/2017/result\",\n",
    "    \"2018 Record Bank E3 Harelbeke\": \"race/e3-harelbeke/2018/result\",\n",
    "    \"2019 E3 Binckbank Classic\": \"race/e3-harelbeke/2019/result\",\n",
    "    \"2023 E3 Saxo Classic\": \"race/e3-harelbeke/2023/result\",\n",
    "\n",
    "    \"2017 Gent-Wevelgem in Flanders Fields\": \"race/gent-wevelgem/2017/result\",\n",
    "    \"2018 Gent-Wevelgem in Flanders Fields\": \"race/gent-wevelgem/2018/result\",\n",
    "    \"2019 Gent-Wevelgem in Flanders Fields\": \"race/gent-wevelgem/2019/result\",\n",
    "    \"2020 Gent-Wevelgem in Flanders Fields\": \"race/gent-wevelgem/2020/result\",\n",
    "    \"2021 Gent-Wevelgem in Flanders Fields\": \"race/gent-wevelgem/2021/result\",\n",
    "    \"2022 Gent-Wevelgem in Flanders Fields\": \"race/gent-wevelgem/2022/result\",\n",
    "    \"2023 Gent-Wevelgem in Flanders Fields\": \"race/gent-wevelgem/2023/result\",\n",
    "\n",
    "    \"2023 La Flèche Wallonne\": \"race/la-fleche-wallone/2023/result\",\n",
    "    \"2017 La Flèche Wallonne\": \"race/la-fleche-wallone/2017/result\",\n",
    "    \"2018 La Flèche Wallonne\": \"race/la-fleche-wallone/2018/result\",\n",
    "    \"2019 La Flèche Wallonne\": \"race/la-fleche-wallone/2019/result\",\n",
    "    \"2020 La Flèche Wallonne\": \"race/la-fleche-wallone/2020/result\",\n",
    "    \"2021 La Flèche Wallonne\": \"race/la-fleche-wallone/2021/result\",\n",
    "    \"2022 La Flèche Wallonne\": \"race/la-fleche-wallone/2022/result\",\n",
    "\n",
    "    \"2023 Omloop Het Nieuwsblad\": \"race/omloop-het-nieuwsblad/2023/result\",\n",
    "    \"2017 Omloop Het Nieuwsblad\": \"race/omloop-het-nieuwsblad/2017/result\",\n",
    "    \"2018 Omloop Het Nieuwsblad\": \"race/omloop-het-nieuwsblad/2018/result\",\n",
    "    \"2019 Omloop Het Nieuwsblad\": \"race/omloop-het-nieuwsblad/2019/result\",\n",
    "    \"2020 Omloop Het Nieuwsblad\": \"race/omloop-het-nieuwsblad/2020/result\",\n",
    "    \"2021 Omloop Het Nieuwsblad\": \"race/omloop-het-nieuwsblad/2021/result\",\n",
    "    \"2022 Omloop Het Nieuwsblad\": \"race/omloop-het-nieuwsblad/2022/result\",\n",
    "\n",
    "    \"2023 Scheldeprijs\": \"race/scheldeprijs/2023/result\",\n",
    "    \"2017 Scheldeprijs\": \"race/scheldeprijs/2017/result\",\n",
    "    \"2018 Scheldeprijs\": \"race/scheldeprijs/2018/result\",\n",
    "    \"2019 Scheldeprijs\": \"race/scheldeprijs/2019/result\",\n",
    "    \"2020 Scheldeprijs\": \"race/scheldeprijs/2020/result\",\n",
    "    \"2021 Scheldeprijs\": \"race/scheldeprijs/2021/result\",\n",
    "    \"2022 Scheldeprijs\": \"race/scheldeprijs/2022/result\",\n",
    "\n",
    "    \"2023 De Brabantse Pijl\": \"race/brabantse-pijl/2023/result\",\n",
    "    \"2022 De Brabantse Pijl\": \"race/brabantse-pijl/2022/result\",\n",
    "    \"2021 De Brabantse Pijl\": \"race/brabantse-pijl/2021/result\",\n",
    "    \"2020 De Brabantse Pijl\": \"race/brabantse-pijl/2020/result\",\n",
    "    \"2019 De Brabantse Pijl\": \"race/brabantse-pijl/2019/result\",\n",
    "    \"2018 De Brabantse Pijl\": \"race/brabantse-pijl/2018/result\",\n",
    "    \"2017 De Brabantse Pijl\": \"race/brabantse-pijl/2017/result\",\n",
    "\n",
    "    \"2017 Brussels Cycling Classic\": \"race/brussels-cycling-classic/2017/result\",\n",
    "    \"2018 Brussels Cycling Classic\": \"race/brussels-cycling-classic/2018/result\",\n",
    "    \"2019 Brussels Cycling Classic\": \"race/brussels-cycling-classic/2019/result\",\n",
    "    \"2020 Brussels Cycling Classic\": \"race/brussels-cycling-classic/2020/result\",\n",
    "    \"2021 Brussels Cycling Classic\": \"race/brussels-cycling-classic/2021/result\",\n",
    "    \"2022 Brussels Cycling Classic\": \"race/brussels-cycling-classic/2022/result\",\n",
    "    \"2023 Brussels Cycling Classic\": \"race/brussels-cycling-classic/2023/result\",\n",
    "\n",
    "    \"2017 Liege - Bastogne - Liege\": \"race/liege-bastogne-liege/2017/result\",\n",
    "    \"2018 Liege - Bastogne - Liege\": \"race/liege-bastogne-liege/2018/result\",\n",
    "    \"2019 Liege - Bastogne - Liege\": \"race/liege-bastogne-liege/2019/result\",\n",
    "    \"2021 Liege - Bastogne - Liege\": \"race/liege-bastogne-liege/2021/result\",\n",
    "    \"2022 Liege - Bastogne - Liege\": \"race/liege-bastogne-liege/2022/result\",\n",
    "    \"2023 Liege - Bastogne - Liege\": \"race/liege-bastogne-liege/2023/result\",\n",
    "\n",
    "    \"2023 Dwars door Vlaanderen\": \"race/dwars-door-vlaanderen/2023/result\",\n",
    "    \"2017 Dwars door Vlaanderen\": \"race/dwars-door-vlaanderen/2017/result\",\n",
    "    \"2018 Dwars door Vlaanderen\": \"race/dwars-door-vlaanderen/2018/result\",\n",
    "    \"2019 Dwars door Vlaanderen\": \"race/dwars-door-vlaanderen/2019/result\",\n",
    "    \"2021 Dwars door Vlaanderen\": \"race/dwars-door-vlaanderen/2021/result\",\n",
    "    \"2022 Dwars door Vlaanderen\": \"race/dwars-door-vlaanderen/2022/result\",\n",
    "\n",
    "    \"2023 Milano-Sanremo\": \"race/milano-sanremo/2023/result\",\n",
    "    \"2022 Milano-Sanremo\": \"race/milano-sanremo/2022/result\",\n",
    "    \"2021 Milano-Sanremo\": \"race/milano-sanremo/2021/result\",\n",
    "    \"2020 Milano-Sanremo\": \"race/milano-sanremo/2020/result\",\n",
    "    \"2019 Milano-Sanremo\": \"race/milano-sanremo/2019/result\",\n",
    "    \"2018 Milano-Sanremo\": \"race/milano-sanremo/2018/result\",\n",
    "    \"2017 Milano-Sanremo\": \"race/milano-sanremo/2017/result\",\n",
    "\n",
    "    \"2017 Paris-Roubaix\": \"race/paris-roubaix/2017/result\",\n",
    "    \"2018 Paris-Roubaix\": \"race/paris-roubaix/2018/result\",\n",
    "    \"2019 Paris-Roubaix\": \"race/paris-roubaix/2019/result\",\n",
    "    \"2021 Paris-Roubaix\": \"race/paris-roubaix/2021/result\",\n",
    "    \"2022 Paris-Roubaix\": \"race/paris-roubaix/2022/result\",\n",
    "    \"2023 Paris-Roubaix\": \"race/paris-roubaix/2023/result\",\n",
    "\n",
    "    \"2017 Amstel Gold Race\": \"race/amstel-gold-race/2017/result\",\n",
    "    \"2018 Amstel Gold Race\": \"race/amstel-gold-race/2018/result\",\n",
    "    \"2019 Amstel Gold Race\": \"race/amstel-gold-race/2019/result\",\n",
    "    \"2021 Amstel Gold Race\": \"race/amstel-gold-race/2021/result\",\n",
    "    \"2022 Amstel Gold Race\": \"race/amstel-gold-race/2022/result\",\n",
    "    \"2023 Amstel Gold Race\": \"race/amstel-gold-race/2023/result\",\n",
    "\n",
    "    \"2017 Il Lombardia\": \"race/il-lombardia/2017/result\",\n",
    "    \"2018 Il Lombardia\": \"race/il-lombardia/2018/result\",\n",
    "    \"2019 Il Lombardia\": \"race/il-lombardia/2019/result\",\n",
    "    \"2020 Il Lombardia\": \"race/il-lombardia/2020/result\",\n",
    "    \"2021 Il Lombardia\": \"race/il-lombardia/2021/result\",\n",
    "    \"2022 Il Lombardia\": \"race/il-lombardia/2022/result\",\n",
    "    \"2023 Il Lombardia\": \"race/il-lombardia/2023/result\",\n",
    "    \n",
    "    \"2017 Kuurne-Brussel-Kuurne\": \"race/kuurne-brussel-kuurne/2017/result\",\n",
    "    \"2018 Kuurne-Brussel-Kuurne\": \"race/kuurne-brussel-kuurne/2018/result\",\n",
    "    \"2019 Kuurne-Brussel-Kuurne\": \"race/kuurne-brussel-kuurne/2019/result\",\n",
    "    \"2020 Kuurne-Brussel-Kuurne\": \"race/kuurne-brussel-kuurne/2020/result\",\n",
    "    \"2021 Kuurne-Brussel-Kuurne\": \"race/kuurne-brussel-kuurne/2021/result\",\n",
    "    \"2022 Kuurne-Brussel-Kuurne\": \"race/kuurne-brussel-kuurne/2022/result\",\n",
    "    \"2023 Kuurne-Brussel-Kuurne\": \"race/kuurne-brussel-kuurne/2023/result\"\n",
    "}"
   ]
  },
  {
   "cell_type": "code",
   "execution_count": null,
   "id": "cc5356b0-3779-49b1-9fd2-19db9cfb9207",
   "metadata": {},
   "outputs": [],
   "source": [
    "from procyclingstats import Stage\n",
    "race_names\n",
    "all_race_data = []\n",
    "\n",
    "for race_name, race_url in race_names.items():\n",
    "    try:\n",
    "        stage = Stage(race_url)\n",
    "\n",
    "        race_data = {\n",
    "            \"PCS race entry\": race_name.lower(),\n",
    "            \"date\": stage.date(),\n",
    "            \"profile_icon\": stage.profile_icon(),\n",
    "            \"profile_score\": stage.profile_score(),\n",
    "            \"departure\": stage.departure(),\n",
    "            \"arrival\": stage.arrival(),\n",
    "            \"average_temperature\": stage.avg_temperature(),\n",
    "            \"start_time\": stage.start_time(),\n",
    "        }\n",
    "\n",
    "        all_race_data.append(race_data)\n",
    "\n",
    "        print(f\"Successfully retrieved {race_name}\")\n",
    "\n",
    "    except Exception as e:\n",
    "        print(f\"Error fetching {race_name}: {e}\")\n",
    "\n",
    "updated_df = pd.DataFrame(all_race_data)\n",
    "\n",
    "merged_df = total_races.merge(updated_df, on=\"PCS race entry\", how=\"left\")\n",
    "\n",
    "output_file = \"merged_race_data3.xlsx\"\n",
    "merged_df.to_excel(output_file, index=False)"
   ]
  },
  {
   "cell_type": "code",
   "execution_count": null,
   "id": "20411dfe-0cbf-4f53-9f39-881b278578d0",
   "metadata": {},
   "outputs": [],
   "source": [
    "for index, column_name in enumerate(oneday.columns):\n",
    "    print(f\"Column index: {index}, Column name: {column_name}\")"
   ]
  },
  {
   "cell_type": "code",
   "execution_count": null,
   "id": "a982ed20-bdb9-4418-816f-b6231e61e181",
   "metadata": {},
   "outputs": [],
   "source": [
    "oneday = oneday.iloc[:, [0,23,1,2,3,4,5,6,7,8,9,10,11,12,13,14,15,16,17,18,19,20,21,22]]"
   ]
  },
  {
   "cell_type": "code",
   "execution_count": null,
   "id": "0d62a2b0-636d-4eee-acd9-a740444686b8",
   "metadata": {},
   "outputs": [],
   "source": [
    "oneday['Year'] = oneday['Race Name'].str.extract(r'(\\d{4})')"
   ]
  },
  {
   "cell_type": "code",
   "execution_count": null,
   "id": "52b1c071-5c3d-4cc9-b747-149f5f75b922",
   "metadata": {},
   "outputs": [],
   "source": [
    "oneday['Race Name'] = oneday['Race Name'].str.replace(r'\\b\\d{4}\\b', '', regex=True).str.strip()"
   ]
  },
  {
   "cell_type": "code",
   "execution_count": null,
   "id": "e96b7936-1a06-4c1c-a6d1-76bee6d09754",
   "metadata": {},
   "outputs": [],
   "source": [
    "oneday.info()"
   ]
  },
  {
   "cell_type": "code",
   "execution_count": null,
   "id": "b9d5878e-ffa3-4faf-9c64-04b9bb5f5807",
   "metadata": {},
   "outputs": [],
   "source": [
    "oneday['PCS race entry'] = oneday['PCS race entry'].astype(str).str.lower()"
   ]
  },
  {
   "cell_type": "code",
   "execution_count": null,
   "id": "5f4c6662-10b4-4871-b7fd-e3486ffb141e",
   "metadata": {
    "scrolled": true
   },
   "outputs": [],
   "source": [
    "oneday.to_excel('oneday_terrain.xlsx')"
   ]
  },
  {
   "cell_type": "code",
   "execution_count": null,
   "id": "7150026b-aa7e-4a62-9f33-bce5f2e6bf0d",
   "metadata": {},
   "outputs": [],
   "source": [
    "# Both datasheets now have the same PCS race entry and Race Name columns. PCS race entry links to PCS site for API purposes. Race Name is the key between these sheets.\n",
    "# Now, I pull in external data to support the difficulty argument. At a later point, I join all data into a single sheet called final join."
   ]
  },
  {
   "cell_type": "code",
   "execution_count": null,
   "id": "585393d2-6b66-4d8a-b82d-af4afa281d2c",
   "metadata": {},
   "outputs": [],
   "source": [
    "# First task is to pull in lat long coordinates for the windspeed on departure/arrival cities. "
   ]
  },
  {
   "cell_type": "code",
   "execution_count": null,
   "id": "ff22c9f5-3366-4637-9067-6c707dea68fe",
   "metadata": {},
   "outputs": [],
   "source": [
    "baseline = pd.read_excel(r\"C:\\Users\\mrmik\\OneDrive\\Desktop\\NSS\\Python\\Projects\\Cycling_Capstone\\notebooks\\baseline data.xlsx\")"
   ]
  },
  {
   "cell_type": "code",
   "execution_count": null,
   "id": "2a614d95-ee22-4b41-b999-76027c4bc6ad",
   "metadata": {},
   "outputs": [],
   "source": [
    "baseline['date'] = pd.to_datetime(baseline['date'])"
   ]
  },
  {
   "cell_type": "code",
   "execution_count": null,
   "id": "9b7f0497-7031-49c8-a5fc-381f3eb1de3a",
   "metadata": {},
   "outputs": [],
   "source": [
    "pip install gpxpy openpyxl"
   ]
  },
  {
   "cell_type": "code",
   "execution_count": null,
   "id": "273826d6-aac9-48f3-a03e-23083f1e20dc",
   "metadata": {},
   "outputs": [],
   "source": [
    "baseline['race coords'] = ''"
   ]
  },
  {
   "cell_type": "code",
   "execution_count": null,
   "id": "f5038f13-5c13-40de-a376-0e3b236f97a2",
   "metadata": {},
   "outputs": [],
   "source": [
    "baseline['start_time'] = baseline['start_time'].astype(str).str.strip()"
   ]
  },
  {
   "cell_type": "code",
   "execution_count": null,
   "id": "7976bb45-64b9-4c3f-b0ed-927b1f3cd14a",
   "metadata": {},
   "outputs": [],
   "source": [
    "baseline[['first_time', 'cet_time']] = baseline['start_time'].str.extract(r\"(\\b\\d{1,2}:\\d{2}\\b)\\s*(?:\\((\\d{1,2}:\\d{2}) CET\\))?\")"
   ]
  },
  {
   "cell_type": "code",
   "execution_count": null,
   "id": "09d89dcd-5405-4afe-811d-3646249388a0",
   "metadata": {},
   "outputs": [],
   "source": [
    "baseline['start_time'] = baseline[\"cet_time\"].fillna(baseline[\"first_time\"])"
   ]
  },
  {
   "cell_type": "code",
   "execution_count": null,
   "id": "859c510c-f9e3-4b18-95d2-52fefbc0b3e0",
   "metadata": {},
   "outputs": [],
   "source": [
    "baseline['start_time'] = pd.to_datetime(baseline['start_time'], format=\"%H:%M\", errors=\"coerce\").dt.strftime(\"%H:%M\")"
   ]
  },
  {
   "cell_type": "code",
   "execution_count": null,
   "id": "adfda166-d71b-42ed-8c21-51a844b74a6a",
   "metadata": {},
   "outputs": [],
   "source": [
    "baseline.drop(columns=['first_time', 'cet_time'], inplace=True)"
   ]
  },
  {
   "cell_type": "code",
   "execution_count": null,
   "id": "29751491-bd12-4d41-9263-910f58145875",
   "metadata": {},
   "outputs": [],
   "source": [
    "baseline['start_time']"
   ]
  },
  {
   "cell_type": "code",
   "execution_count": null,
   "id": "17a98257-6705-429b-ba21-a03849364e43",
   "metadata": {},
   "outputs": [],
   "source": [
    "baseline = pd.read_excel(r\"C:\\Users\\mrmik\\OneDrive\\Desktop\\NSS\\Python\\Projects\\Cycling_Capstone\\notebooks\\baseline data.xlsx\")"
   ]
  }
 ],
 "metadata": {
  "kernelspec": {
   "display_name": "Python 3 (ipykernel)",
   "language": "python",
   "name": "python3"
  },
  "language_info": {
   "codemirror_mode": {
    "name": "ipython",
    "version": 3
   },
   "file_extension": ".py",
   "mimetype": "text/x-python",
   "name": "python",
   "nbconvert_exporter": "python",
   "pygments_lexer": "ipython3",
   "version": "3.12.7"
  }
 },
 "nbformat": 4,
 "nbformat_minor": 5
}
