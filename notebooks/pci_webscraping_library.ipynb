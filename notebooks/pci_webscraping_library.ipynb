{
 "cells": [
  {
   "cell_type": "code",
   "execution_count": 7,
   "id": "b974abd6-345b-4296-8be6-5c13c9d3816a",
   "metadata": {},
   "outputs": [
    {
     "name": "stdout",
     "output_type": "stream",
     "text": [
      "Requirement already satisfied: procyclingstats in c:\\users\\mrmik\\anaconda3\\lib\\site-packages (0.2.1)\n",
      "Requirement already satisfied: requests in c:\\users\\mrmik\\anaconda3\\lib\\site-packages (from procyclingstats) (2.32.3)\n",
      "Requirement already satisfied: selectolax in c:\\users\\mrmik\\anaconda3\\lib\\site-packages (from procyclingstats) (0.3.27)\n",
      "Requirement already satisfied: charset-normalizer<4,>=2 in c:\\users\\mrmik\\anaconda3\\lib\\site-packages (from requests->procyclingstats) (3.3.2)\n",
      "Requirement already satisfied: idna<4,>=2.5 in c:\\users\\mrmik\\anaconda3\\lib\\site-packages (from requests->procyclingstats) (3.7)\n",
      "Requirement already satisfied: urllib3<3,>=1.21.1 in c:\\users\\mrmik\\anaconda3\\lib\\site-packages (from requests->procyclingstats) (2.3.0)\n",
      "Requirement already satisfied: certifi>=2017.4.17 in c:\\users\\mrmik\\anaconda3\\lib\\site-packages (from requests->procyclingstats) (2024.8.30)\n",
      "Note: you may need to restart the kernel to use updated packages.\n"
     ]
    }
   ],
   "source": [
    "pip install procyclingstats --upgrade"
   ]
  },
  {
   "cell_type": "code",
   "execution_count": 9,
   "id": "41b57ea3-3b66-4b3b-b399-700f6b99b84e",
   "metadata": {},
   "outputs": [
    {
     "ename": "UnexpectedParsingError",
     "evalue": "Field 'stage_url' wasn't parsed correctly",
     "output_type": "error",
     "traceback": [
      "\u001b[1;31m---------------------------------------------------------------------------\u001b[0m",
      "\u001b[1;31mUnexpectedParsingError\u001b[0m                    Traceback (most recent call last)",
      "Cell \u001b[1;32mIn[9], line 3\u001b[0m\n\u001b[0;32m      1\u001b[0m \u001b[38;5;28;01mfrom\u001b[39;00m \u001b[38;5;21;01mprocyclingstats\u001b[39;00m \u001b[38;5;28;01mimport\u001b[39;00m Rider\n\u001b[0;32m      2\u001b[0m rider \u001b[38;5;241m=\u001b[39m Rider(\u001b[38;5;124m\"\u001b[39m\u001b[38;5;124mrider/adam-yates\u001b[39m\u001b[38;5;124m\"\u001b[39m)\n\u001b[1;32m----> 3\u001b[0m rider\u001b[38;5;241m.\u001b[39mparse()\n",
      "File \u001b[1;32m~\\anaconda3\\Lib\\site-packages\\procyclingstats\\scraper.py:112\u001b[0m, in \u001b[0;36mScraper.parse\u001b[1;34m(self, exceptions_to_ignore, none_when_unavailable)\u001b[0m\n\u001b[0;32m    110\u001b[0m \u001b[38;5;28;01mfor\u001b[39;00m method_name, method \u001b[38;5;129;01min\u001b[39;00m parsing_methods:\n\u001b[0;32m    111\u001b[0m     \u001b[38;5;28;01mtry\u001b[39;00m:\n\u001b[1;32m--> 112\u001b[0m         parsed_data[method_name] \u001b[38;5;241m=\u001b[39m method()\n\u001b[0;32m    113\u001b[0m     \u001b[38;5;28;01mexcept\u001b[39;00m exceptions_to_ignore:\n\u001b[0;32m    114\u001b[0m         \u001b[38;5;28;01mif\u001b[39;00m none_when_unavailable:\n",
      "File \u001b[1;32m~\\anaconda3\\Lib\\site-packages\\procyclingstats\\rider_scraper.py:267\u001b[0m, in \u001b[0;36mRider.season_results\u001b[1;34m(self, *args)\u001b[0m\n\u001b[0;32m    265\u001b[0m table_parser \u001b[38;5;241m=\u001b[39m TableParser(results_html)\n\u001b[0;32m    266\u001b[0m \u001b[38;5;28;01mif\u001b[39;00m casual_fields:\n\u001b[1;32m--> 267\u001b[0m     table_parser\u001b[38;5;241m.\u001b[39mparse(casual_fields)\n\u001b[0;32m    268\u001b[0m \u001b[38;5;28;01mif\u001b[39;00m \u001b[38;5;124m\"\u001b[39m\u001b[38;5;124mdate\u001b[39m\u001b[38;5;124m\"\u001b[39m \u001b[38;5;129;01min\u001b[39;00m fields:\n\u001b[0;32m    269\u001b[0m     \u001b[38;5;28;01mtry\u001b[39;00m:\n",
      "File \u001b[1;32m~\\anaconda3\\Lib\\site-packages\\procyclingstats\\table_parser.py:102\u001b[0m, in \u001b[0;36mTableParser.parse\u001b[1;34m(self, fields)\u001b[0m\n\u001b[0;32m    100\u001b[0m \u001b[38;5;28;01mif\u001b[39;00m \u001b[38;5;28mlen\u001b[39m(parsed_field_list) \u001b[38;5;241m!=\u001b[39m \u001b[38;5;28mself\u001b[39m\u001b[38;5;241m.\u001b[39mtable_length:\n\u001b[0;32m    101\u001b[0m     message \u001b[38;5;241m=\u001b[39m \u001b[38;5;124mf\u001b[39m\u001b[38;5;124m\"\u001b[39m\u001b[38;5;124mField \u001b[39m\u001b[38;5;124m'\u001b[39m\u001b[38;5;132;01m{\u001b[39;00mfield\u001b[38;5;132;01m}\u001b[39;00m\u001b[38;5;124m'\u001b[39m\u001b[38;5;124m wasn\u001b[39m\u001b[38;5;124m'\u001b[39m\u001b[38;5;124mt parsed correctly\u001b[39m\u001b[38;5;124m\"\u001b[39m\n\u001b[1;32m--> 102\u001b[0m     \u001b[38;5;28;01mraise\u001b[39;00m UnexpectedParsingError(message)\n\u001b[0;32m    104\u001b[0m \u001b[38;5;28;01mfor\u001b[39;00m row, parsed_value \u001b[38;5;129;01min\u001b[39;00m \u001b[38;5;28mzip\u001b[39m(raw_table, parsed_field_list):\n\u001b[0;32m    105\u001b[0m     row[field] \u001b[38;5;241m=\u001b[39m parsed_value\n",
      "\u001b[1;31mUnexpectedParsingError\u001b[0m: Field 'stage_url' wasn't parsed correctly"
     ]
    }
   ],
   "source": [
    "from procyclingstats import Rider\n",
    "rider = Rider(\"rider/adam-yates\")\n",
    "rider.parse()"
   ]
  },
  {
   "cell_type": "code",
   "execution_count": null,
   "id": "39545d50-a8bb-478f-95b3-ff7444a49cb8",
   "metadata": {},
   "outputs": [],
   "source": []
  }
 ],
 "metadata": {
  "kernelspec": {
   "display_name": "Python 3 (ipykernel)",
   "language": "python",
   "name": "python3"
  },
  "language_info": {
   "codemirror_mode": {
    "name": "ipython",
    "version": 3
   },
   "file_extension": ".py",
   "mimetype": "text/x-python",
   "name": "python",
   "nbconvert_exporter": "python",
   "pygments_lexer": "ipython3",
   "version": "3.12.7"
  }
 },
 "nbformat": 4,
 "nbformat_minor": 5
}
