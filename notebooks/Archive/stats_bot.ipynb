{
 "cells": [
  {
   "cell_type": "code",
   "execution_count": 1,
   "id": "72f38873-9461-4520-996e-58c195e39e4d",
   "metadata": {},
   "outputs": [],
   "source": [
    "import discord\n",
    "import requests\n",
    "from bs4 import BeautifulSoup\n",
    "import nest_asyncio"
   ]
  },
  {
   "cell_type": "code",
   "execution_count": 3,
   "id": "d6646ad3-328e-47f8-a5dd-8705aac476a4",
   "metadata": {},
   "outputs": [],
   "source": [
    "nest_asyncio.apply()"
   ]
  },
  {
   "cell_type": "code",
   "execution_count": 7,
   "id": "ce73c173-c8a9-487a-8432-131e108c93ef",
   "metadata": {},
   "outputs": [],
   "source": [
    "with open('../keys.json') as fi:\n",
    "    credentials = json.load(fi)"
   ]
  },
  {
   "cell_type": "code",
   "execution_count": null,
   "id": "38c8b544-586b-474b-8352-b9dc76cadbed",
   "metadata": {},
   "outputs": [],
   "source": [
    "token = credentials['api_key']\n",
    "channel_id = 1336126743223996521\n",
    "\n",
    "intents = discord.Intents.default()\n",
    "intents.message_content = True\n",
    "\n",
    "bot = discord.Client(intents=intents)\n",
    "\n",
    "@bot.event\n",
    "async def on_ready():\n",
    "    print(f'Logged in as {bot.user}')  \n",
    "    print(\"He is risen\") \n",
    "\n",
    "@bot.event\n",
    "async def on_ready():\n",
    "    print(f'Logged in as {bot.user}')\n",
    "    for guild in bot.guilds:\n",
    "        print(f'Connected to: {guild.name} (ID: {guild.id})')\n",
    "        for channel in guild.text_channels:\n",
    "            print(f' - {channel.name} (ID: {channel.id})')\n",
    "\n",
    "@bot.event\n",
    "async def on_message(message):\n",
    "    print(f\"Received message: {message.content}\") \n",
    "\n",
    "    if message.author == bot.user:\n",
    "        return  \n",
    "\n",
    "    if message.channel.id != channel_id:\n",
    "        return  \n",
    "\n",
    "    if message.content.startswith(\"!rider\"):\n",
    "        print(f\"Processing rider query: {message.content}\") \n",
    "        rider_name = message.content[len(\"!rider \"):].replace(\" \", \"-\").lower()\n",
    "        url = f\"https://www.procyclingstats.com/rider/{rider_name}\"\n",
    "\n",
    "        headers = {\"User-Agent\": \"Mozilla/5.0\"}\n",
    "        response = requests.get(url, headers=headers)\n",
    "        soup = BeautifulSoup(response.text, \"html.parser\")\n",
    "\n",
    "        try:\n",
    "            name_tag = soup.find(\"h1\")\n",
    "            if name_tag:\n",
    "                name = name_tag.text.strip()\n",
    "                await message.channel.send(f\"Rider found: **{name}**. More details: {url}\")\n",
    "            else:\n",
    "                await message.channel.send(\"Could not find rider\")\n",
    "        except Exception as e:\n",
    "            print(f\"Error occured: {e}\")\n",
    "            await message.channel.send(\"Error occured\")\n",
    "\n",
    "bot.run(token)"
   ]
  },
  {
   "cell_type": "code",
   "execution_count": null,
   "id": "c5c886c6-8f2f-4575-bbc3-f2678ddcf104",
   "metadata": {},
   "outputs": [],
   "source": []
  }
 ],
 "metadata": {
  "kernelspec": {
   "display_name": "Python 3 (ipykernel)",
   "language": "python",
   "name": "python3"
  },
  "language_info": {
   "codemirror_mode": {
    "name": "ipython",
    "version": 3
   },
   "file_extension": ".py",
   "mimetype": "text/x-python",
   "name": "python",
   "nbconvert_exporter": "python",
   "pygments_lexer": "ipython3",
   "version": "3.12.7"
  }
 },
 "nbformat": 4,
 "nbformat_minor": 5
}
