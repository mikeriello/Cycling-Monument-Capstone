{
 "cells": [
  {
   "cell_type": "code",
   "execution_count": 3,
   "id": "6027476f-637c-4903-8ed4-3eeaa90f4e15",
   "metadata": {},
   "outputs": [],
   "source": [
    "import bs4\n",
    "import json\n",
    "import pandas as pd\n",
    "import datetime"
   ]
  },
  {
   "cell_type": "code",
   "execution_count": 5,
   "id": "a4c98a58-6e55-4569-9238-936fa3444754",
   "metadata": {
    "collapsed": true,
    "jupyter": {
     "outputs_hidden": true
    },
    "scrolled": true
   },
   "outputs": [
    {
     "name": "stdout",
     "output_type": "stream",
     "text": [
      "Requirement already satisfied: beautifulsoup4 in c:\\users\\mrmik\\anaconda3\\lib\\site-packages (4.12.3)\n",
      "Requirement already satisfied: lxml in c:\\users\\mrmik\\anaconda3\\lib\\site-packages (5.3.0)\n",
      "Requirement already satisfied: numpy in c:\\users\\mrmik\\anaconda3\\lib\\site-packages (2.2.2)\n",
      "Requirement already satisfied: pandas in c:\\users\\mrmik\\anaconda3\\lib\\site-packages (2.2.3)\n",
      "Requirement already satisfied: python-dateutil in c:\\users\\mrmik\\anaconda3\\lib\\site-packages (2.9.0.post0)\n",
      "Requirement already satisfied: pytz in c:\\users\\mrmik\\anaconda3\\lib\\site-packages (2024.2)\n",
      "Requirement already satisfied: requests in c:\\users\\mrmik\\anaconda3\\lib\\site-packages (2.32.3)\n",
      "Requirement already satisfied: setuptools in c:\\users\\mrmik\\anaconda3\\lib\\site-packages (75.8.0)\n",
      "Requirement already satisfied: slumber in c:\\users\\mrmik\\anaconda3\\lib\\site-packages (0.7.1)\n",
      "Requirement already satisfied: soupsieve in c:\\users\\mrmik\\anaconda3\\lib\\site-packages (2.6)\n",
      "Requirement already satisfied: urllib3 in c:\\users\\mrmik\\anaconda3\\lib\\site-packages (2.3.0)\n",
      "Requirement already satisfied: tzdata>=2022.7 in c:\\users\\mrmik\\anaconda3\\lib\\site-packages (from pandas) (2023.3)\n",
      "Requirement already satisfied: six>=1.5 in c:\\users\\mrmik\\anaconda3\\lib\\site-packages (from python-dateutil) (1.16.0)\n",
      "Requirement already satisfied: charset-normalizer<4,>=2 in c:\\users\\mrmik\\anaconda3\\lib\\site-packages (from requests) (3.3.2)\n",
      "Requirement already satisfied: idna<4,>=2.5 in c:\\users\\mrmik\\anaconda3\\lib\\site-packages (from requests) (3.7)\n",
      "Requirement already satisfied: certifi>=2017.4.17 in c:\\users\\mrmik\\anaconda3\\lib\\site-packages (from requests) (2024.8.30)\n",
      "Note: you may need to restart the kernel to use updated packages.\n"
     ]
    }
   ],
   "source": [
    "pip install --upgrade beautifulsoup4 lxml numpy pandas python-dateutil pytz requests setuptools slumber soupsieve urllib3"
   ]
  },
  {
   "cell_type": "code",
   "execution_count": 7,
   "id": "12f0f634-769a-40c5-81c7-44659a64ed52",
   "metadata": {
    "collapsed": true,
    "jupyter": {
     "outputs_hidden": true
    }
   },
   "outputs": [
    {
     "name": "stdout",
     "output_type": "stream",
     "text": [
      "Requirement already satisfied: slumber in c:\\users\\mrmik\\anaconda3\\lib\\site-packages (0.7.1)\n",
      "Requirement already satisfied: requests in c:\\users\\mrmik\\anaconda3\\lib\\site-packages (from slumber) (2.32.3)\n",
      "Requirement already satisfied: charset-normalizer<4,>=2 in c:\\users\\mrmik\\anaconda3\\lib\\site-packages (from requests->slumber) (3.3.2)\n",
      "Requirement already satisfied: idna<4,>=2.5 in c:\\users\\mrmik\\anaconda3\\lib\\site-packages (from requests->slumber) (3.7)\n",
      "Requirement already satisfied: urllib3<3,>=1.21.1 in c:\\users\\mrmik\\anaconda3\\lib\\site-packages (from requests->slumber) (2.3.0)\n",
      "Requirement already satisfied: certifi>=2017.4.17 in c:\\users\\mrmik\\anaconda3\\lib\\site-packages (from requests->slumber) (2024.8.30)\n",
      "Note: you may need to restart the kernel to use updated packages.\n"
     ]
    }
   ],
   "source": [
    "pip install slumber"
   ]
  },
  {
   "cell_type": "code",
   "execution_count": 40,
   "id": "afc077b2-9196-4c4a-a3d3-5bddc9f0f011",
   "metadata": {},
   "outputs": [],
   "source": [
    "from slumber import API\n",
    "\n",
    "class FirstCyclingAPI(API):\n",
    "    \"\"\" Wrapper for FirstCycling API \"\"\"\n",
    "    def __init__(self):\n",
    "        super().__init__(\"https://firstcycling.com\", append_slash=False)\n",
    "        \n",
    "    def __getitem__(self, key):\n",
    "        return getattr(self, key)\n",
    "    \n",
    "    def _fix_kwargs(self, **kwargs):\n",
    "        return {k: v for k, v in kwargs.items() if v}\n",
    "    \n",
    "    def _get_resource_response(self, resource, **kwargs):\n",
    "        return self._store['session'].get(resource.url(), params=self._fix_kwargs(**kwargs)).content\n",
    "\n",
    "    def get_rider_endpoint(self, rider_id, **kwargs):\n",
    "        return self._get_resource_response(self['rider.php'], r=rider_id, **kwargs)\n",
    "\n",
    "    def get_race_endpoint(self, race_id, **kwargs):\n",
    "        return self._get_resource_response(self['race.php'], r=race_id, **kwargs)\n",
    "\n",
    "    def get_ranking_endpoint(self, **kwargs):\n",
    "        return self._get_resource_response(self['ranking.php'], **kwargs)\n",
    "\n",
    "fc = FirstCyclingAPI()"
   ]
  },
  {
   "cell_type": "code",
   "execution_count": 42,
   "id": "c5b918e6-6d9d-4841-b04a-235893d1809e",
   "metadata": {},
   "outputs": [],
   "source": [
    "class Endpoint:\n",
    "\t\"\"\"\n",
    "\tGeneralized class to store endpoint responses.\n",
    "\n",
    "\tAttributes\n",
    "\t----------\n",
    "\tresponse : bytes\n",
    "\t\tRaw response from firstcycling.com\n",
    "\t\"\"\"\n",
    "\n",
    "\tdef __init__(self, response):\n",
    "\t\tself.response = response\n",
    "\t\t\"\"\" Raw response from firstcycling.com. \"\"\"\n",
    "\n",
    "\tdef _to_json(self):\n",
    "\t\treturn vars(self).copy()\n",
    "\n",
    "\tdef get_json(self):\n",
    "\t\t\"\"\" Get JSON representation of endpoint response. \"\"\"\n",
    "\t\treturn json.dumps(self, default=ComplexHandler)\n",
    "\n",
    "\n",
    "class ParsedEndpoint(Endpoint):\n",
    "\tdef __init__(self, response):\n",
    "\t\tsuper().__init__(response)\n",
    "\t\tself._parse_result()\n",
    "\n",
    "\tdef _parse_result(self):\n",
    "\t\tself.soup = bs4.BeautifulSoup(self.response, 'html.parser')\n",
    "\t\tself._parse_soup()\n",
    "\tdef _parse_soup(self):\n",
    "\t\treturn\n",
    "\n",
    "\n",
    "def ComplexHandler(obj):\n",
    "\t\"\"\"\n",
    "\tCustomized handler to convert object to JSON by recursively calling to_json() method.\n",
    "\tAdapted from https://stackoverflow.com/questions/5160077/encoding-nested-python-object-in-json\n",
    "\t\"\"\" \n",
    "\tif hasattr(obj, '_to_json'):\n",
    "\t\treturn obj._to_json()\n",
    "\telif isinstance(obj, datetime.date):\n",
    "\t\treturn str(obj)\n",
    "\telif isinstance(obj, pd.DataFrame):\n",
    "\t\treturn obj.to_json()\n",
    "\telif isinstance(obj, bytes):\n",
    "\t\treturn obj.decode(\"utf-8\")\n",
    "\telse:\n",
    "\t\traise TypeError('Object of type %s with value of %s is not JSON serializable' % (type(obj), repr(obj)))\n"
   ]
  },
  {
   "cell_type": "code",
   "execution_count": 46,
   "id": "0e46a3dc-34c8-4243-af47-66b3b9a05c14",
   "metadata": {
    "collapsed": true,
    "jupyter": {
     "outputs_hidden": true
    },
    "scrolled": true
   },
   "outputs": [
    {
     "name": "stdout",
     "output_type": "stream",
     "text": [
      "b'<!DOCTYPE html>\\r\\n<html lang=\"en\">\\r\\n<head>\\r\\n  <title>Tadej Pogacar | FirstCycling</title>\\r\\n  <meta http-equiv=\"Content-Type\" content=\"text/html; charset=UTF-8\" />\\r\\n  <meta name=\"viewport\" content=\"width=device-width, initial-scale=1.0\">\\r\\n  <meta name=\"description\" content=\"Tadej Pogacar is a 26-year-old professional cyclist from Slovenia, born September 21st 1998. He rides for UAE Team Emirates XRG, a UCI WorldTeam. He has won 92 UCI races, and is currently ranked 1st in the UCI Ranking. \" />\\r\\n  <meta name=\"keywords\" content=\"Tadej Pogacar, Pogacar, UAE Team Emirates XRG\" />\\r\\n  <link rel=\"alternate\" media=\"only screen and (max-width: 720px)\" href=\"https://firstcycling.com/m/rider.php?r=45992\" />\\r\\n  <link rel=\"alternate\" hreflang=\"x-default\" href=\"https://firstcycling.com/rider.php?r=45992\" />\\r\\n  <link rel=\"alternate\" hreflang=\"en\" href=\"https://firstcycling.com/rider.php?r=45992\" />\\r\\n  <link rel=\"alternate\" hreflang=\"da\" href=\"https://dk.firstcycling.com/rider.php?r=45992\" />\\r\\n  <link rel=\"alternate\" hreflang=\"de\" href=\"https://de.firstcycling.com/rider.php?r=45992\" />\\r\\n  <link rel=\"alternate\" hreflang=\"es\" href=\"https://es.firstcycling.com/rider.php?r=45992\" />\\r\\n  <link rel=\"alternate\" hreflang=\"eu\" href=\"https://eu.firstcycling.com/rider.php?r=45992\" />\\r\\n  <link rel=\"alternate\" hreflang=\"fr\" href=\"https://fr.firstcycling.com/rider.php?r=45992\" />\\r\\n  <link rel=\"alternate\" hreflang=\"hr\" href=\"https://hr.firstcycling.com/rider.php?r=45992\" />\\r\\n  <link rel=\"alternate\" hreflang=\"id\" href=\"https://id.firstcycling.com/rider.php?r=45992\" />\\r\\n  <link rel=\"alternate\" hreflang=\"it\" href=\"https://it.firstcycling.com/rider.php?r=45992\" />\\r\\n  <link rel=\"alternate\" hreflang=\"ja\" href=\"https://jp.firstcycling.com/rider.php?r=45992\" />\\r\\n  <link rel=\"alternate\" hreflang=\"nl\" href=\"https://nl.firstcycling.com/rider.php?r=45992\" />\\r\\n  <link rel=\"alternate\" hreflang=\"no\" href=\"https://no.firstcycling.com/rider.php?r=45992\" />\\r\\n  <link rel=\"alternate\" hreflang=\"pl\" href=\"https://pl.firstcycling.com/rider.php?r=45992\" />\\r\\n  <link rel=\"alternate\" hreflang=\"pt\" href=\"https://pt.firstcycling.com/rider.php?r=45992\" />\\r\\n  <link rel=\"alternate\" hreflang=\"sl\" href=\"https://si.firstcycling.com/rider.php?r=45992\" />\\r\\n  <link rel=\"alternate\" hreflang=\"sv\" href=\"https://se.firstcycling.com/rider.php?r=45992\" />\\r\\n  <link rel=\"alternate\" hreflang=\"tr\" href=\"https://tr.firstcycling.com/rider.php?r=45992\" />\\r\\n  <meta name=\"twitter:card\" content=\"summary\" />\\r\\n  <meta name=\"twitter:site\" content=\"@FirstCycling\" />\\r\\n  <meta name=\"twitter:creator\" content=\"@FirstCycling\" />\\r\\n  <meta name=\"twitter:image\" content=\"https://firstcycling.com/img/SoMe.png\" />\\r\\n  <meta name=\"twitter:title\" content=\"Tadej Pogacar\" />\\r\\n  <meta name=\"twitter:description\" content=\"Tadej Pogacar is a 26-year-old professional cyclist from Slovenia, born September 21st 1998. He rides for UAE Team Emirates XRG, a UCI WorldTeam.\" />\\r\\n  <meta property=\"og:title\" content=\"Tadej Pogacar\" />\\r\\n  <meta property=\"og:site_name\" content=\"FirstCycling.com\" />\\r\\n  <meta property=\"og:description\" content=\"Tadej Pogacar is a 26-year-old professional cyclist from Slovenia, born September 21st 1998. He rides for UAE Team Emirates XRG, a UCI WorldTeam.\" />\\r\\n  <meta property=\"og:type\" content=\"website\" />\\r\\n  <meta property=\"og:image\" content=\"https://firstcycling.com/img/SoMe.png\" />\\r\\n  <meta property=\"og:image:secure_url\" content=\"https://firstcycling.com/img/SoMe.png\" />\\r\\n  <meta property=\"og:image:type\" content=\"image/png\" />\\r\\n  <meta property=\"og:image:width\" content=\"144\" />\\r\\n  <meta property=\"og:image:height\" content=\"144\" />\\r\\n  <meta property=\"og:url\" content=\"https://firstcycling.com/rider.php?r=45992\" />\\r\\n  <link rel=\"apple-touch-icon\" href=\"https://firstcycling.com/img/icon.png\">\\r\\n  <link rel=\"icon\" sizes=\"150x150\" href=\"https://firstcycling.com/img/icon.png\">\\r\\n  <link rel=\"shortcut icon\" sizes=\"150x150\" href=\"https://firstcycling.com/img/icon.png\">\\r\\n  <link rel=\"shortcut icon\" type=\"image/png\" href=\"https://firstcycling.com/img/favicon.png\" />\\r\\n  <link rel=\"stylesheet\" type=\"text/css\" href=\"lib/font-awesome-4.6.3/css/font-awesome.min.css\" async />\\r\\n  <link rel=\"stylesheet\" type=\"text/css\" href=\"css/5point98.css\" />\\r\\n  <link rel=\"stylesheet\" type=\"text/css\" href=\"css/bigflags3.css\" />\\r\\n  <style>\\r\\n  \\t@font-face\\r\\n\\t{\\r\\n\\t  font-family: \\'Oswald\\';\\r\\n\\t  font-style: normal;\\r\\n\\t  font-weight: 400;\\r\\n\\t  src: url(https://fonts.gstatic.com/s/oswald/v48/TK3_WkUHHAIjg75cFRf3bXL8LICs1_FvsUZiZQ.woff2) format(\\'woff2\\');\\r\\n\\t  unicode-range: U+0000-00FF, U+0131, U+0152-0153, U+02BB-02BC, U+02C6, U+02DA, U+02DC, U+2000-206F, U+2074, U+20AC, U+2122, U+2191, U+2193, U+2212, U+2215, U+FEFF, U+FFFD;\\r\\n\\t  font-display: swap;\\r\\n\\t}\\r\\n  \\tbutton:hover\\r\\n  \\t{\\r\\n  \\t\\tcursor: pointer;\\r\\n  \\t\\tbackground:white;\\r\\n  \\t\\tcolor:blue;\\r\\n  \\t}\\r\\n\\ttable.tablesorter tbody tr.vin td\\r\\n\\t{\\r\\n\\t\\tbackground:rgb(203, 219, 247,.25);\\r\\n\\t\\tcolor: black;\\r\\n\\t}\\r\\n\\ttable.tablesorter tbody tr.vin td a\\r\\n\\t{\\r\\n\\t\\tbackground:none;\\r\\n\\t}\\r\\n\\t\\t@-moz-document url-prefix() {\\r\\n      .sidemeny2 a\\r\\n      {\\r\\n      \\tpadding-bottom:2px;\\r\\n      }\\r\\n\\t}\\r\\n\\t  </style>\\r\\n    <script async src=\"https://cdn.fuseplatform.net/publift/tags/2/3515/fuse.js\"></script>\\r\\n    <script type=\"text/javascript\" src=\"js/jquery-3.6.0.min.js\"></script>\\r\\n  \\t<script type=\"text/javascript\">\\r\\n\\t\\t$(document).ready(function(){\\r\\n\\t\\t\\t$(\\'table.tablesorter:not(.notOddEven) tbody tr\\').mouseover(function() {\\r\\n\\t\\t\\t\\t$(this).addClass(\\'vin\\');\\r\\n\\t\\t\\t}).mouseout(function() {\\r\\n\\t\\t\\t\\t$(this).removeClass(\\'vin\\');\\r\\n\\t\\t\\t});\\r\\n     \\t\\t     \\t\\t$(\".ballesteros\").click(function(){\\r\\n  \\t\\t\\t\\t$(\\'.linje2synlig\\').fadeOut(function() {\\r\\n\\t\\t\\t\\t    $(\\'.visSokeFelt\\').fadeIn();\\r\\n\\t\\t\\t\\t\\t$(\\'.visSokeFelt input\\').focus();\\r\\n\\t\\t\\t\\t});\\r\\n\\t\\t\\t});\\r\\n     \\t\\t\\t\\t});\\r\\n\\t\\t</script>\\r\\n\\t<script async src=\"https://www.googletagmanager.com/gtag/js?id=G-891JSNFXKL\"></script>\\r\\n\\t<script>\\r\\n\\t  window.dataLayer = window.dataLayer || [];\\r\\n\\t  function gtag(){dataLayer.push(arguments);}\\r\\n\\t  gtag(\\'js\\', new Date());\\r\\n\\r\\n\\t  gtag(\\'config\\', \\'G-891JSNFXKL\\');\\r\\n\\t</script>\\r\\n</head>\\r\\n\\r\\n\\r\\n<body>\\r\\n\\t\\t<!-- GAM 71161633/FCYCL_firstcycling/header (min-height:250px;) -->\\r\\n\\t<div data-fuse=\"23065203999\" style=\"width:100%;height:250px;\"></div>\\r\\n\\t<div id=\\'topp\\' style=\"z-index:998;height:55px;border-bottom:1px solid #555;background:#eee\">\\r\\n\\t<div id=\\'toppInner\\' style=\"z-index:8;\">\\r\\n\\t\\t<div class=\"left\" style=\"width:130px;\">\\r\\n\\t\\t\\t<div style=\\'float:left;margin:13px 9px 0 3px;\\';>\\r\\n\\t\\t\\t\\t <a href=\\'index.php\\' style=\"background:#252525;color:white;font-size:1.25em;padding:1px 8px 2px;border-radius:2px;\">FIRSTCYCLING</a>\\r\\n\\t\\t\\t</div>\\r\\n\\t\\t</div>\\r\\n\\r\\n\\t\\t<div class=\\'right\\' style=\\'margin:4px 0 0;\\'>\\r\\n\\r\\n\\t\\t<div class=\"dropdown\">\\r\\n\\t\\t  <input id=\"dropcheck\" class=\"dropcheck\" type=\"checkbox\">\\r\\n\\t\\t  <label for=\"dropcheck\" class=\"dropbtn\" style=\"color:#252525;font-size:1.1em;\">Road <i class=\"fa fa-caret-down\" style=\"font-size:1em;color:#252525;\"></i></label>\\r\\n\\r\\n\\t\\t  <div class=\"dropdown-content\">\\r\\n\\t\\t    <a title=\"Road\"href=\"index.php\">Road</a>\\r\\n\\t\\t    <a title=\"Amateur\"href=\"amateur.php\">Amateur</a>\\r\\n\\t\\t    <a title=\"Junior\"href=\"junior.php\">Junior</a>\\r\\n\\t\\t    <a title=\"Cyclocross\"href=\"cyclocross.php\">Cyclocross</a>\\r\\n\\t\\t    <a title=\"MTB\"href=\"mountainbike.php\">MTB</a>\\r\\n\\t\\t    <a title=\"Track\"href=\"track.php\">Track</a>\\r\\n\\t\\t    <a title=\"Transfers\"href=\"transfers.php\">Transfers</a>\\r\\n\\t\\t    <a title=\"Fantasy\"href=\"fantasy.php\">Fantasy</a>\\r\\n\\t\\t    \\t\\t  </div>\\r\\n\\t\\t</div>\\r\\n\\r\\n\\t\\t\\t<table class=\"right\" cellspacing=\"2\" style=\"width:20px;\">\\r\\n\\t\\t\\t<tr>\\r\\n\\t\\t\\t\\t<td align=\"center\">\\r\\n\\t\\t\\t\\t\\t<a href=\\'languages.php\\' title=\\'Change language\\' style=\"margin:0;padding:3px 2px\">\\r\\n\\t\\t\\t\\t\\t\\t<span style=\"margin-top:12px;\" class=\"flag flag-gb\"></span></a>\\r\\n\\t\\t\\t\\t</td>\\r\\n\\t\\t\\t\\t<td align=\"center\">\\r\\n\\t\\t\\t\\t\\t<a href=\"signUp.php\" title=\"Personal profile\" style=\"font-size:0.8em;margin:0;padding:3px 2px;\"><i class=\"fa fa-user fa-lg fa-fw\"></i></a>\\r\\n\\t\\t\\t\\t</td>\\r\\n\\t\\t\\t\\t\\t\\t\\t\\t<td align=\"center\" style=\"padding-top:3px;\">\\r\\n\\t\\t\\t\\t\\t<a title=\"Search\" href=\"#search\" class=\"ballesteros\" style=\"font-size:1.03em;margin:0;padding:3px 2px;\"><i class=\"fa fa-search la-lg\"></i></a>\\r\\n\\t\\t\\t\\t</td>\\r\\n\\t\\t\\t\\t\\t\\t\\t</tr>\\r\\n\\t\\t\\t</table>\\r\\n\\t\\t</div>\\r\\n\\r\\n\\t\\t\\t<div id=\\'meny\\' class=\"left\" style=\"font-size:1.1em;margin:13px 24px 0 0;\">\\r\\n\\r\\n\\t\\t\\t\\t<div class=\"left\">\\r\\n\\r\\n\\t\\t\\t\\t\\t<div class=\"linje2synlig\" style=\"font-size:0.95em;\">\\r\\n\\r\\n\\t\\t\\t\\t\\t\\t\\t\\t<a title=\"Home\" href=\\'index.php\\'>Home</a>\\r\\n\\t\\t\\t<a title=\"Races\" href=\\'race.php?y=2025&t=2\\'>Races</a>\\r\\n\\t\\t\\t<a title=\"Races\" href=\\'team.php\\'>Teams</a>\\r\\n\\t\\t\\t<a title=\"Ranking\" href=\\'ranking.php?h=1&rank=1&y=2025-3\\' >Ranking</a>\\r\\n\\t\\t\\t<a title=\"Transfers\" href=\\'transfers.php\\'>Transfers</a> \\r\\n\\t\\t</div>\\r\\n\\r\\n\\t\\t\\r\\n\\t\\t\\t<form name=\\'sokefelt\\' action=\\'search.php\\' method=\\'GET\\' style=\"margin-left:9px;display:none;\" class=\"visSokeFelt\">\\r\\n\\t\\t\\t\\t<input type=\\'text\\' name=\\'s\\' value=\\'\\' placeholder=\\'Search for riders, teams or races ...\\' size=\\'18\\' style=\\'width:380px;padding:3px 9px 4px;height:20px;font-size:0.9em;\\' required />\\r\\n\\t\\t\\t</form>\\r\\n\\r\\n\\t\\t\\r\\n\\t\\t\\t\\t</div>\\r\\n\\r\\n\\t\\t\\t</div>\\r\\n\\r\\n\\t\\t</div>\\r\\n\\t\\t</div>\\r\\n\\r\\n\\t</div>\\r\\n</div>\\r\\n\\r\\n\\r\\n\\r\\n<div style=\\'background: url(\"img/team/dumbo2.jpg\") center no-repeat;margin:-4px 0 0;min-width: 100%;display: inline-block;\\'>\\r\\n<div style=\\'background-color: rgba(203, 219, 247,.85);height:110px;color:white;overflow:hidden;\\' id=\\'rider\\'>\\r\\n\\r\\n<div style=\"width:816px;margin:auto;\">\\r\\n\\r\\n\\t\\t<div style=\"float:left;background:#eee;width:80px;height:80px;overflow:hidden;border-radius:80px;margin:15px 10px 15px 5px;\"><img src=\"img/rider/2025/45992.png\" style=\"width:120px;height:120px;margin-left:-20px;margin-top:-3px;\" title=\"Tadej Pogacar\" /></div>\\r\\n\\r\\n<div class=\"left\">\\r\\n\\r\\n<h1 style=\\'font-size:2em;white-space:nowrap;display:inline-block;overflow:hidden;text-overflow:ellipsis;width:680px;color:black;margin:12px 6px -9px 3px;padding-bottom:8px;\\' title=\"Tadej Pogacar\">Tadej Pogacar</h1>\\r\\n\\r\\n<h2 style=\"border-bottom:0;border-top:2px solid black;width: fit-content;padding-top:5px;margin-bottom:6px;padding-left:0;font-size:1em;color:black;\">\\r\\n\\t\\t<a href=\"team.php?l=21842\" style=\\'color:black;font-weight:600;\\' title=\"UAE Team Emirates XRG\">UAE Team Emirates XRG</a>, Slovenia, 26 years\\t<a href=\\'https://www.twitter.com/TamauPogi/\\' target=\\'_blank\\'><img src=\\'img/mini/twitter_bw.png\\' title=\\'Twitter\\' align=\\'center\\' width=\\'16\\' height=\\'16\\' style=\\'margin-left:6px;\\' /></a>\\r\\n\\t<a href=\\'https://www.instagram.com/tadejpogacar/\\' target=\\'_blank\\'><img src=\\'img/mini/instagram_bw.png\\' title=\\'Instagram\\' align=\\'center\\' width=\\'16\\' height=\\'16\\' style=\\'margin-left:6px;\\' /></a>\\r\\n\\t<a href=\\'https://www.strava.com/athletes/tpogaar\\' target=\\'_blank\\'>\\r\\n\\t\\t<img src=\\'img/mini/strava_bw.png\\' title=\\'Strava\\' align=\\'center\\' width=\\'16\\' height=\\'16\\' style=\\'margin-left:6px;\\' /></a>\\r\\n</h2></div>\\r\\n</div>\\r\\n\\r\\n</div>\\r\\n\\r\\n</div>\\r\\n</div>\\r\\n</div>\\r\\n\\r\\n<div style=\"width:1460px;margin:auto;\">\\r\\n<div id=\\'wrapper\\'>\\r\\n\\t<div style=\"width:300px;height:600px;position:-webkit-sticky;position:sticky;float:left;top:42px;margin:18px 22px 0 0;\">\\r\\n\\t\\t<!-- GAM 71161633/FCYCL_firstcycling/sidebar_lhs -->\\r\\n\\t\\t<div data-fuse=\"23065203768\"></div>\\r\\n\\t</div><div style=\"width:300px;height:600px;position:-webkit-sticky;position:sticky;float:right;top:42px;margin:18px 0 0 8px;\">\\r\\n\\t\\t<!-- GAM 71161633/FCYCL_firstcycling/sidebar_rhs -->\\r\\n\\t\\t<div data-fuse=\"23065204002\"></div>\\r\\n\\t</div>\\r\\n\\r\\n<div class=\\'cont320h\\' style=\\'width:200px;margin:12px 0 0;position:-webkit-sticky;position:sticky;top:17px;\\'>\\r\\n\\r\\n\\t\\t\\r\\n\\t\\t<h3>Pro Cycling Manager</h3>\\r\\n\\r\\n\\t\\t<div class=\"sideBox\" style=\"padding:1px;\">\\r\\n\\r\\n\\t\\t<p style=\"text-align:center;\"><a href=\"rider.php?r=45992&pcmdata=1\" style=\"text-decoration:underline;\">Display data</a></p>\\r\\n\\t\\t</div>\\r\\n\\r\\n\\r\\n\\r\\n\\t\\t\\r\\n\\t\\t<h3>Race program</h3>\\r\\n\\r\\n\\t\\t<div class=\"sideBox\" style=\"padding:1px;\">\\r\\n\\r\\n\\t\\t\\t<p><span style=\"font-size:0.85em;\" width=\"5%\">17.02</span>\\r\\n\\t\\t\\t\\t<span class=\"flag flag-ae\"></span>\\r\\n\\t\\t\\t\\t<a href=\"race.php?r=9800&y=2025&k=start\" title=\"UAE Tour\">UAE Tour</a><br><span style=\"font-size:0.85em;\" width=\"5%\">08.03</span>\\r\\n\\t\\t\\t\\t<span class=\"flag flag-it\"></span>\\r\\n\\t\\t\\t\\t<a href=\"race.php?r=54&y=2025&k=start\" title=\"Strade Bianche\">Strade Bianche</a><br><span style=\"font-size:0.85em;\" width=\"5%\">22.03</span>\\r\\n\\t\\t\\t\\t<span class=\"flag flag-it\"></span>\\r\\n\\t\\t\\t\\t<a href=\"race.php?r=4&y=2025&k=start\" title=\"Milano-Sanremo\">Milano-Sanremo</a><br></p>\\r\\n\\r\\n\\t\\t\\t\\t\\t</div>\\r\\n\\r\\n\\t\\r\\n\\t\\t<h3>Information</h3>\\r\\n\\r\\n\\t\\t<div class=\"sideBox\">\\r\\n\\r\\n\\t\\t\\t<p>\\r\\n\\t\\t<span class=\"flag flag-si\"></span>\\r\\n\\t\\tKomenda, <a href=\"nation.php?nat=SLO&k=ri\" style=\"font-weight:600;\">Slovenia</a>\\r\\n\\t</p><p>21st September 1998 (26)</p><p>1.76 m</p><hr><p>\\r\\n\\t\\t\\t<a href=\"rider.php?r=45992&high=1&k=1&wt=1\" style=\"font-weight:normal;\">WorldTour: 66 Wins</a>\\r\\n\\t\\t</p><p>\\r\\n\\t\\t\\t<a href=\"rider.php?r=45992&high=1&k=1&uci=1\" style=\"font-weight:normal;\">UCI: 92 Wins</a>\\r\\n\\t</p><p>\\r\\n\\t<a href=\"ranking.php?h=1&rank=1&y=2025-3\" style=\"font-weight:normal;\">UCI Ranking: <span class=\"grey\">No.</span> 1</a>\\r\\n\\t</p><p>\\r\\n\\t\\t<span style=\"width:49%;\">\\r\\n\\t\\t\\tAgency\\r\\n\\t\\t</span>\\r\\n\\t\\t<span style=\"width:49%;\">\\r\\n\\t\\t\\t<a href=\"agent.php?k=52\">A&J All Sports</a>\\r\\n\\t\\t</span>\\r\\n\\t</p>\\r\\n\\t\\t</div>\\r\\n\\r\\n\\t\\r\\n</div>\\r\\n\\r\\n\\t<div style=\"width:600px;float:left;\">\\r\\n\\r\\n\\r\\n\\t<p class=\"jallax\">Tadej Pogacar is a 26-year-old professional cyclist from Slovenia, born September 21st 1998. He rides for UAE Team Emirates XRG, a UCI WorldTeam. He has won 92 UCI races, and is currently ranked 1st in the UCI Ranking. \\r\\n\\r\\n\\tStrengths: <img src=\"img/mini/Fjell.svg\" title=\"Mountain\" width=\"11\" height=\"11\" align=\"center\" style=\"border-radius:10px;\" /> Mountain, <img src=\"img/mini/Smaakupert.svg\" title=\"Hilly\" width=\"11\" height=\"11\" align=\"center\" style=\"border-radius:10px;\" /> Hilly, <img src=\"img/mini/Smaakupert.svg\" title=\"Stage race\" width=\"11\" height=\"11\" align=\"center\" style=\"border-radius:10px;\" /> Stage race, <img src=\"img/mini/Tempo.svg\" title=\"ITT\" width=\"11\" height=\"11\" align=\"center\" style=\"border-radius:10px;\" /> Time Trial, <img src=\"img/mini/Brosten.svg\" title=\"Cobbles\" width=\"11\" height=\"11\" align=\"center\" style=\"border-radius:10px;\" /> Cobbles.\\r\\n\\r\\n </p> \\r\\n<div id=\\'banner\\' style=\\'background:#fff;border-top:1px solid #bbb;border-bottom:1px solid #bbb;margin:18px 0 9px;font-size:0.95em;height:40px;overflow:hidden;width:600px;\\'>\\r\\n\\t<div id=\\'bannerInner\\'>\\r\\n\\t\\t<div class=\\'left\\'>\\r\\n\\r\\n\\t\\t\\t<a href=\\'rider.php?r=45992\\' title=\\'Results\\'class=\"valgt\">Results</a>\\r\\n\\r\\n\\t\\t\\t<a href=\\'rider.php?r=45992&high=1\\' title=\\'Highlights\\'>Highlights</a>\\r\\n\\t\\t\\t\\t\\t\\t\\t<a href=\\'rider.php?r=45992&stats=1\\' title=\\'Statistics\\'>Statistics</a>\\r\\n\\t\\t\\t\\t<a href=\\'rider.php?r=45992&teams=1\\' title=\\'Teams\\'>Teams</a>\\r\\n\\t\\t\\t\\r\\n\\t\\t</div>\\r\\n\\t\\t\\t\\t</div>\\r\\n</div>\\r\\n\\r\\n\\r\\n\\r\\n<script type=\\'text/javascript\\'>\\r\\n$(document).ready(function() {\\r\\n\\t$(\\'.vis\\').click(function(){\\r\\n\\t\\t$(this).closest(\\'p\\').hide();\\r\\n\\t\\tvar str = $(this).attr(\\'name\\');\\r\\n\\t\\t$(\\'.\\'+str).fadeIn(\\'\\');\\r\\n\\t});\\r\\n});\\r\\n</script>\\r\\n<style>\\r\\n form.fvYear\\r\\n {\\r\\n \\tmargin:-24px 1px 0 0;\\r\\n }\\r\\n @-moz-document url-prefix() {\\r\\n form.fvYear\\r\\n {\\r\\n \\tmargin-top:-22px;\\r\\n }\\r\\n  }\\r\\n</style>\\r\\n\\r\\n\\t<p class=\"sidemeny2\">\\r\\n\\t<a href=\"rider.php?r=45992\" class=\"valgt\">All</a><a href=\"rider.php?r=45992&road=1\">Road</a><a href=\"rider.php?r=45992&cx=1\">Cyclocross</a></p>\\r\\n<div class=\"sidefane\"></div>\\r\\n\\r\\n<div class=\"cont720\" style=\"width:600px;min-height:400px;margin:0 0 20px 0;\">\\r\\n\\r\\n<p class=\"sidemeny2\">\\r\\n\\t<a href=\"#racedata\" name=\"2024\" class=\"2024 year valgt\" title=\"2024\">2024</a> <a href=\"#racedata\" name=\"2023\" class=\"2023 year\" title=\"2023\">2023</a> <a href=\"#racedata\" name=\"2022\" class=\"2022 year\" title=\"2022\">2022</a> <a href=\"#racedata\" name=\"2021\" class=\"2021 year\" title=\"2021\">2021</a> <a href=\"#racedata\" name=\"2020\" class=\"2020 year\" title=\"2020\">2020</a> <a href=\"#racedata\" name=\"2019\" class=\"2019 year\" title=\"2019\">2019</a> <a href=\"#racedata\" name=\"2018\" class=\"2018 year\" title=\"2018\">2018</a> <a href=\"#racedata\" name=\"2017\" class=\"2017 year\" title=\"2017\">2017</a> <a href=\"#racedata\" name=\"2016\" class=\"2016 year\" title=\"2016\">2016</a> <a href=\"#racedata\" name=\"2015\" class=\"2015 year\" title=\"2015\">2015</a> </p>\\r\\n<div class=\"sidefane\"></div>\\r\\n\\r\\n<div id=\"yearData\">\\r\\n\\t\\r\\n<div class=\"yearData\">\\r\\n\\r\\n\\r\\n<div style=\\'margin-top:-12px;padding:0 3px;border-right:1px solid #eee;border-left:1px solid #eee;overflow:hidden;\\'>\\r\\n\\r\\n\\t<table class=\"tablesorter notOddEven\" style=\"width:520px;\">\\r\\n\\t\\t<tbody>\\r\\n\\t\\t\\t<tr>\\r\\n\\t\\t\\t\\t<td style=\"border:0;margin:0;padding:0;\">\\r\\n\\t\\t\\t\\t<span style=\"padding:1px 4px;\">\\r\\n\\t\\t\\t\\t<span class=\"flag flag-ae\"></span> <a href=\"team.php?l=21841\">UAE Team Emirates</a> (WorldTeam)</span> <span style=\"border-left:1px solid #ddd;padding:1px 4px;\">UCI: Wins: 25</span> </td>\\r\\n\\t\\t\\t</tr>\\t\\t</tbody>\\r\\n\\t</table>\\r\\n\\r\\n</div>\\r\\n\\r\\n\\r\\n<table style=\"margin-top:-12px;padding-top:6px;font-size:0.75em;border-right:1px solid #eee;width:100%;padding-left:3px;\">\\r\\n\\t<tr>\\r\\n\\t\\t<td>\\r\\n\\t\\t  <input type=\\'radio\\' id=\\'sportAlle20242191\\' name=\\'sport\\' class=\\'sport20242191\\' value=\\'Alle\\' style=\"margin-top:3px;\" checked />\\r\\n\\t\\t</td>\\r\\n\\t\\t<td style=\"white-space:nowrap;\">\\r\\n\\t\\t  <label for=\\'sportAlle20242191\\'>\\r\\n\\t\\t    All\\t\\t  </label>\\r\\n\\t\\t</td>\\r\\n\\r\\n\\t\\t\\t\\t<td>\\r\\n\\t\\t  <input type=\\'radio\\' id=\\'sportFlatt20242191\\' name=\\'sport\\' class=\\'sport20242191\\' value=\\'Flatt\\' style=\"margin-top:3px;\" />\\r\\n\\t\\t</td>\\r\\n\\t\\t<td style=\"white-space:nowrap;\">\\r\\n\\t\\t  <label for=\\'sportFlatt20242191\\'>\\r\\n\\t\\t    Flat\\t\\t  </label>\\r\\n\\t\\t</td>\\r\\n\\t\\t\\t\\t<td>\\r\\n\\t\\t  <input type=\\'radio\\' id=\\'sportHilly20242191\\' name=\\'sport\\' class=\\'sport20242191\\' value=\\'Smaakupert\\' style=\"margin-top:3px;\" />\\r\\n\\t\\t</td>\\r\\n\\t\\t<td style=\"white-space:nowrap;\">\\r\\n\\t\\t  <label for=\\'sportHilly20242191\\'>\\r\\n\\t\\t    Hilly\\t\\t  </label>\\r\\n\\t\\t</td>\\r\\n\\t\\t\\t\\t<td>\\r\\n\\t\\t  <input type=\\'radio\\' id=\\'sportFjell20242191\\' name=\\'sport\\' class=\\'sport20242191\\' value=\\'Fjell\\' style=\"margin-top:3px;\\'\"/>\\r\\n\\t\\t</td>\\r\\n\\t\\t<td style=\"white-space:nowrap;\">\\r\\n\\t\\t  <label for=\\'sportFjell20242191\\'>\\r\\n\\t\\t    Mountain\\t\\t  </label>\\r\\n\\t\\t</td>\\r\\n\\t\\t\\t\\t<td>\\r\\n\\t\\t  <input type=\\'radio\\' id=\\'sportTempo20242191\\' name=\\'sport\\' class=\\'sport20242191\\' value=\\'Tempo\\' style=\"margin-top:3px;\" />\\r\\n\\t\\t</td>\\r\\n\\t\\t<td style=\"white-space:nowrap;\">\\r\\n\\t\\t  <label for=\\'sportTempo20242191\\'>\\r\\n\\t\\t    Time Trial\\t\\t  </label>\\r\\n\\t\\t</td>\\r\\n\\t\\t\\t\\t<td width=\"85%\" align=\"right\">\\r\\n\\t\\t\\t\\t\\t\\t<label for=\\'displayUCI\\' style=\"color:black;\">UCI?</label></td>\\r\\n\\t\\t\\t<td width=\"3%\"><input id=\\'displayUCI\\' type=\\'checkbox\\' class=\\'displayUCI20242191\\' style=\"width:15px;margin-top:3px;\" />\\r\\n\\t\\t\\t\\t\\t</td>\\r\\n\\t</tr>\\r\\n</table>\\r\\n\\r\\n\\r\\n<table class=\\'sortTabell tablesorter\\' style=\\'border-right:1px solid #eee;margin-top:0;\\'>\\r\\n\\t<thead>\\r\\n\\t\\t<tr>\\r\\n\\t\\t\\t<th width=\"6%\">Date</th>\\r\\n\\t\\t\\t<th width=\"5%\" style=\"text-align:center;\">Pos</th>\\r\\n\\t\\t\\t<th width=\"5%\" style=\"text-align:center;\">GC</th>\\t\\t\\t<th colspan=\"2\">Race</th>\\r\\n\\t\\t\\t<th style=\"display:none;\"></th>\\r\\n\\t\\t\\t\\t\\t\\t<th width=\"4%\">UCI</th>\\t\\t\\t\\t\\t\\t<th width=\"5%\"></th>\\r\\n\\t\\t</tr>\\r\\n\\t</thead>\\r\\n\\t<tbody>\\r\\n\\t\\t<tr class=\"uci Smaakupert\">\\r\\n\\t\\t\\t<td class=\"small\">12.10</td>\\r\\n\\t\\t\\t<td align=\"center\"><span class=\"n\" style=\"background:#ffeb80;color:black;\">1</span></td><td></td><td width=\"2%\"><span class=\"flag flag-it\"></span></td>\\r\\n\\t\\t\\t<td>\\r\\n\\t\\t\\t\\t\\r\\n\\t\\t\\t\\t<a href=\"race.php?r=24&y=2024\" title=\"Il Lombardia\" style=\"font-weight:600;\">Il Lombardia</a>\\r\\n\\t\\t\\t\\t<span style=\"font-size:0.95em;\"></span>\\r\\n\\t\\t\\t\\t<span class=\"small\"><span style=\"padding:0 1px;\">|</span> 1.UWT</span>\\r\\n\\t\\t\\t</td>\\r\\n\\t\\t\\t\\r\\n\\t\\t\\t<td style=\"display:none;\">2024-10-12</td><td style=\"white-space:nowrap;\">800</td><td><a href=\"rider.php?r=45992&ra=24\" style=\"white-space:nowrap;font-size:0.8em;\" title=\"Show more\">Show more</a></td></tr><tr class=\"uci \">\\r\\n\\t\\t\\t<td class=\"small\">24.03</td>\\r\\n\\t\\t\\t<td colspan=\"2\"></td>\\r\\n\\t\\t\\t<td>\\r\\n\\t\\t\\t\\t<span class=\"flag flag-es\"></span>\\r\\n\\t\\t\\t</td>\\r\\n\\t\\t\\t<td>\\r\\n\\t\\t\\t\\t<a href=\"race.php?r=14&y=2024\" title=\"Volta Catalunya\" style=\"font-weight:600;\">Volta Catalunya</a>\\r\\n\\t\\t\\t\\t<span class=\"small\"><span style=\"padding:0 1px;\">|</span> 2.UWT</span>\\r\\n\\t\\t\\t</td>\\r\\n\\t\\t\\t<td style=\"display:none;\">2024-03-24</td>\\r\\n\\t\\t\\t<td></td><td><a href=\"rider.php?r=45992&ra=14\" style=\"white-space:nowrap;font-size:0.8em;\" title=\"Show more\">Show more</a></td>\\r\\n\\t\\t</tr><tr class=\"uci \">\\r\\n\\t\\t\\t<td class=\"small\">24.03</td>\\r\\n\\t\\t\\t<td align=\"center\"><span class=\"n\" style=\"background:#ffeb80;color:black;\">1</span></td><td></td><td width=\"2%\"></td>\\r\\n\\t\\t\\t<td>\\r\\n\\t\\t\\t\\t<img align=\"center\" src=\"img/mini/green.gif\" title=\"Leader jersey icon\" width=\"12\" height=\"12\" />\\r\\n\\t\\t\\t\\t<a href=\"race.php?r=14&y=2024\" title=\"Volta Catalunya\" style=\"font-size:0.95em;\">Volta Catalunya</a>\\r\\n\\t\\t\\t\\t<span style=\"font-size:0.95em;\"><span style=\"padding:0 1px;\">|</span> Overall</span>\\r\\n\\t\\t\\t\\t\\r\\n\\t\\t\\t</td>\\r\\n\\t\\t\\t\\r\\n\\t\\t\\t<td style=\"display:none;\">2024-03-24</td><td style=\"white-space:nowrap;\">400</td><td></td></tr><tr class=\"uci Flatt\">\\r\\n\\t\\t\\t<td class=\"small\">16.03</td>\\r\\n\\t\\t\\t<td align=\"center\">3</td><td></td><td width=\"2%\"><span class=\"flag flag-it\"></span></td>\\r\\n\\t\\t\\t<td>\\r\\n\\t\\t\\t\\t\\r\\n\\t\\t\\t\\t<a href=\"race.php?r=4&y=2024\" title=\"Milano-Sanremo\" style=\"font-weight:600;\">Milano-Sanremo</a>\\r\\n\\t\\t\\t\\t<span style=\"font-size:0.95em;\"></span>\\r\\n\\t\\t\\t\\t<span class=\"small\"><span style=\"padding:0 1px;\">|</span> 1.UWT</span>\\r\\n\\t\\t\\t</td>\\r\\n\\t\\t\\t\\r\\n\\t\\t\\t<td style=\"display:none;\">2024-03-16</td><td style=\"white-space:nowrap;\">520</td><td><a href=\"rider.php?r=45992&ra=4\" style=\"white-space:nowrap;font-size:0.8em;\" title=\"Show more\">Show more</a></td></tr><tr class=\"uci Smaakupert\">\\r\\n\\t\\t\\t<td class=\"small\">02.03</td>\\r\\n\\t\\t\\t<td align=\"center\"><span class=\"n\" style=\"background:#ffeb80;color:black;\">1</span></td><td></td><td width=\"2%\"><span class=\"flag flag-it\"></span></td>\\r\\n\\t\\t\\t<td>\\r\\n\\t\\t\\t\\t\\r\\n\\t\\t\\t\\t<a href=\"race.php?r=54&y=2024\" title=\"Strade Bianche\" style=\"font-weight:600;\">Strade Bianche</a>\\r\\n\\t\\t\\t\\t<span style=\"font-size:0.95em;\"></span>\\r\\n\\t\\t\\t\\t<span class=\"small\"><span style=\"padding:0 1px;\">|</span> 1.UWT</span>\\r\\n\\t\\t\\t</td>\\r\\n\\t\\t\\t\\r\\n\\t\\t\\t<td style=\"display:none;\">2024-03-02</td><td style=\"white-space:nowrap;\">400</td><td><a href=\"rider.php?r=45992&ra=54\" style=\"white-space:nowrap;font-size:0.8em;\" title=\"Show more\">Show more</a></td></tr><tr class=\"uci Smaakupert\">\\r\\n\\t\\t\\t<td class=\"small\">21.04</td>\\r\\n\\t\\t\\t<td align=\"center\"><span class=\"n\" style=\"background:#ffeb80;color:black;\">1</span></td><td></td><td width=\"2%\"><span class=\"flag flag-be\"></span></td>\\r\\n\\t\\t\\t<td>\\r\\n\\t\\t\\t\\t\\r\\n\\t\\t\\t\\t<a href=\"race.php?r=11&y=2024\" title=\"Li\\xc3\\xa8ge-Bastogne-Li\\xc3\\xa8ge\" style=\"font-weight:600;\">Li\\xc3\\xa8ge-Bastogne-Li\\xc3\\xa8ge</a>\\r\\n\\t\\t\\t\\t<span style=\"font-size:0.95em;\"></span>\\r\\n\\t\\t\\t\\t<span class=\"small\"><span style=\"padding:0 1px;\">|</span> 1.UWT</span>\\r\\n\\t\\t\\t</td>\\r\\n\\t\\t\\t\\r\\n\\t\\t\\t<td style=\"display:none;\">2024-04-21</td><td style=\"white-space:nowrap;\">800</td><td><a href=\"rider.php?r=45992&ra=11\" style=\"white-space:nowrap;font-size:0.8em;\" title=\"Show more\">Show more</a></td></tr><tr class=\"uci \">\\r\\n\\t\\t\\t<td class=\"small\">26.05</td>\\r\\n\\t\\t\\t<td colspan=\"2\"></td>\\r\\n\\t\\t\\t<td>\\r\\n\\t\\t\\t\\t<span class=\"flag flag-it\"></span>\\r\\n\\t\\t\\t</td>\\r\\n\\t\\t\\t<td>\\r\\n\\t\\t\\t\\t<a href=\"race.php?r=13&y=2024\" title=\"Giro d\\'Italia\" style=\"font-weight:600;\">Giro d\\'Italia</a>\\r\\n\\t\\t\\t\\t<span class=\"small\"><span style=\"padding:0 1px;\">|</span> 2.UWT</span>\\r\\n\\t\\t\\t</td>\\r\\n\\t\\t\\t<td style=\"display:none;\">2024-05-26</td>\\r\\n\\t\\t\\t<td></td><td><a href=\"rider.php?r=45992&ra=13\" style=\"white-space:nowrap;font-size:0.8em;\" title=\"Show more\">Show more</a></td>\\r\\n\\t\\t</tr><tr class=\"uci \">\\r\\n\\t\\t\\t<td class=\"small\">26.05</td>\\r\\n\\t\\t\\t<td align=\"center\"><span class=\"n\" style=\"background:#ffeb80;color:black;\">1</span></td><td></td><td width=\"2%\"></td>\\r\\n\\t\\t\\t<td>\\r\\n\\t\\t\\t\\t<img align=\"center\" src=\"img/mini/pink.png\" title=\"Leader jersey icon\" width=\"12\" height=\"12\" />\\r\\n\\t\\t\\t\\t<a href=\"race.php?r=13&y=2024\" title=\"Giro d\\'Italia\" style=\"font-size:0.95em;\">Giro d\\'Italia</a>\\r\\n\\t\\t\\t\\t<span style=\"font-size:0.95em;\"><span style=\"padding:0 1px;\">|</span> Overall</span>\\r\\n\\t\\t\\t\\t\\r\\n\\t\\t\\t</td>\\r\\n\\t\\t\\t\\r\\n\\t\\t\\t<td style=\"display:none;\">2024-05-26</td><td style=\"white-space:nowrap;\">1100</td><td></td></tr><tr class=\"other \">\\r\\n\\t\\t\\t<td class=\"small\">23.07</td>\\r\\n\\t\\t\\t<td align=\"center\"><span class=\"n\" style=\"background:#ffeb80;color:black;\">1</span></td><td></td><td width=\"2%\"><span class=\"flag flag-nl\"></span></td>\\r\\n\\t\\t\\t<td>\\r\\n\\t\\t\\t\\t\\r\\n\\t\\t\\t\\t<a href=\"race.php?r=12479&y=2024\" title=\"Profronde van Surhuisterveen Professionals\" style=\"font-weight:600;\">Profronde van Surhuisterveen Professionals</a>\\r\\n\\t\\t\\t\\t<span style=\"font-size:0.95em;\"></span>\\r\\n\\t\\t\\t\\t<span class=\"small\"><span style=\"padding:0 1px;\">|</span> 1.CRT</span>\\r\\n\\t\\t\\t</td>\\r\\n\\t\\t\\t\\r\\n\\t\\t\\t<td style=\"display:none;\">2024-07-23</td><td style=\"white-space:nowrap;\"></td><td><a href=\"rider.php?r=45992&ra=12479\" style=\"white-space:nowrap;font-size:0.8em;\" title=\"Show more\">Show more</a></td></tr><tr class=\"uci Smaakupert\">\\r\\n\\t\\t\\t<td class=\"small\">05.10</td>\\r\\n\\t\\t\\t<td align=\"center\"><span class=\"n\" style=\"background:#ffeb80;color:black;\">1</span></td><td></td><td width=\"2%\"><span class=\"flag flag-it\"></span></td>\\r\\n\\t\\t\\t<td>\\r\\n\\t\\t\\t\\t\\r\\n\\t\\t\\t\\t<a href=\"race.php?r=29&y=2024\" title=\"Giro dell\\'Emilia\" style=\"font-weight:600;\">Giro dell\\'Emilia</a>\\r\\n\\t\\t\\t\\t<span style=\"font-size:0.95em;\"></span>\\r\\n\\t\\t\\t\\t<span class=\"small\"><span style=\"padding:0 1px;\">|</span> 1.Pro</span>\\r\\n\\t\\t\\t</td>\\r\\n\\t\\t\\t\\r\\n\\t\\t\\t<td style=\"display:none;\">2024-10-05</td><td style=\"white-space:nowrap;\">200</td><td><a href=\"rider.php?r=45992&ra=29\" style=\"white-space:nowrap;font-size:0.8em;\" title=\"Show more\">Show more</a></td></tr><tr class=\"uci \">\\r\\n\\t\\t\\t<td class=\"small\">29.09</td>\\r\\n\\t\\t\\t<td align=\"center\"><span class=\"n\" style=\"background:#ffeb80;color:black;\">1</span></td><td></td><td width=\"2%\"><span class=\"flag flag-\"></span></td>\\r\\n\\t\\t\\t<td>\\r\\n\\t\\t\\t\\t\\r\\n\\t\\t\\t\\t<a href=\"race.php?r=26&y=2024\" title=\"World Championship RR\" style=\"font-weight:600;\">World Championship RR</a>\\r\\n\\t\\t\\t\\t<span style=\"font-size:0.95em;\"></span>\\r\\n\\t\\t\\t\\t<span class=\"small\"><span style=\"padding:0 1px;\">|</span> WCRR</span>\\r\\n\\t\\t\\t</td>\\r\\n\\t\\t\\t\\r\\n\\t\\t\\t<td style=\"display:none;\">2024-09-29</td><td style=\"white-space:nowrap;\">900</td><td><a href=\"rider.php?r=45992&ra=26\" style=\"white-space:nowrap;font-size:0.8em;\" title=\"Show more\">Show more</a></td></tr><tr class=\"uci Smaakupert\">\\r\\n\\t\\t\\t<td class=\"small\">15.09</td>\\r\\n\\t\\t\\t<td align=\"center\"><span class=\"n\" style=\"background:#ffeb80;color:black;\">1</span></td><td></td><td width=\"2%\"><span class=\"flag flag-ca\"></span></td>\\r\\n\\t\\t\\t<td>\\r\\n\\t\\t\\t\\t\\r\\n\\t\\t\\t\\t<a href=\"race.php?r=58&y=2024\" title=\"GP Montreal\" style=\"font-weight:600;\">GP Montreal</a>\\r\\n\\t\\t\\t\\t<span style=\"font-size:0.95em;\"></span>\\r\\n\\t\\t\\t\\t<span class=\"small\"><span style=\"padding:0 1px;\">|</span> 1.UWT</span>\\r\\n\\t\\t\\t</td>\\r\\n\\t\\t\\t\\r\\n\\t\\t\\t<td style=\"display:none;\">2024-09-15</td><td style=\"white-space:nowrap;\">500</td><td><a href=\"rider.php?r=45992&ra=58\" style=\"white-space:nowrap;font-size:0.8em;\" title=\"Show more\">Show more</a></td></tr><tr class=\"uci Smaakupert\">\\r\\n\\t\\t\\t<td class=\"small\">13.09</td>\\r\\n\\t\\t\\t<td align=\"center\">7</td><td></td><td width=\"2%\"><span class=\"flag flag-ca\"></span></td>\\r\\n\\t\\t\\t<td>\\r\\n\\t\\t\\t\\t\\r\\n\\t\\t\\t\\t<a href=\"race.php?r=59&y=2024\" title=\"GP Qu\\xc3\\xa9bec\" style=\"font-weight:600;\">GP Qu\\xc3\\xa9bec</a>\\r\\n\\t\\t\\t\\t<span style=\"font-size:0.95em;\"></span>\\r\\n\\t\\t\\t\\t<span class=\"small\"><span style=\"padding:0 1px;\">|</span> 1.UWT</span>\\r\\n\\t\\t\\t</td>\\r\\n\\t\\t\\t\\r\\n\\t\\t\\t<td style=\"display:none;\">2024-09-13</td><td style=\"white-space:nowrap;\">150</td><td><a href=\"rider.php?r=45992&ra=59\" style=\"white-space:nowrap;font-size:0.8em;\" title=\"Show more\">Show more</a></td></tr><tr class=\"uci \">\\r\\n\\t\\t\\t<td class=\"small\">21.07</td>\\r\\n\\t\\t\\t<td colspan=\"2\"></td>\\r\\n\\t\\t\\t<td>\\r\\n\\t\\t\\t\\t<span class=\"flag flag-fr\"></span>\\r\\n\\t\\t\\t</td>\\r\\n\\t\\t\\t<td>\\r\\n\\t\\t\\t\\t<a href=\"race.php?r=17&y=2024\" title=\"Tour de France\" style=\"font-weight:600;\">Tour de France</a>\\r\\n\\t\\t\\t\\t<span class=\"small\"><span style=\"padding:0 1px;\">|</span> 2.UWT</span>\\r\\n\\t\\t\\t</td>\\r\\n\\t\\t\\t<td style=\"display:none;\">2024-07-21</td>\\r\\n\\t\\t\\t<td></td><td><a href=\"rider.php?r=45992&ra=17\" style=\"white-space:nowrap;font-size:0.8em;\" title=\"Show more\">Show more</a></td>\\r\\n\\t\\t</tr><tr class=\"uci \">\\r\\n\\t\\t\\t<td class=\"small\">21.07</td>\\r\\n\\t\\t\\t<td align=\"center\"><span class=\"n\" style=\"background:#ffeb80;color:black;\">1</span></td><td></td><td width=\"2%\"></td>\\r\\n\\t\\t\\t<td>\\r\\n\\t\\t\\t\\t<img align=\"center\" src=\"img/mini/yellow.gif\" title=\"Leader jersey icon\" width=\"12\" height=\"12\" />\\r\\n\\t\\t\\t\\t<a href=\"race.php?r=17&y=2024\" title=\"Tour de France\" style=\"font-size:0.95em;\">Tour de France</a>\\r\\n\\t\\t\\t\\t<span style=\"font-size:0.95em;\"><span style=\"padding:0 1px;\">|</span> Overall</span>\\r\\n\\t\\t\\t\\t\\r\\n\\t\\t\\t</td>\\r\\n\\t\\t\\t\\r\\n\\t\\t\\t<td style=\"display:none;\">2024-07-21</td><td style=\"white-space:nowrap;\">1300</td><td></td></tr><tr class=\"uci \">\\r\\n\\t\\t\\t<td class=\"small\">26.05</td>\\r\\n\\t\\t\\t<td align=\"center\">5</td><td></td><td width=\"2%\"></td>\\r\\n\\t\\t\\t<td>\\r\\n\\t\\t\\t\\t<img align=\"center\" src=\"img/mini/violet.png\" title=\"Point jersey icon\" width=\"12\" height=\"12\" />\\r\\n\\t\\t\\t\\t<a href=\"race.php?r=13&y=2024\" title=\"Giro d\\'Italia\" style=\"font-size:0.95em;\">Giro d\\'Italia</a>\\r\\n\\t\\t\\t\\t<span style=\"font-size:0.95em;\"><span style=\"padding:0 1px;\">|</span> Points</span>\\r\\n\\t\\t\\t\\t\\r\\n\\t\\t\\t</td>\\r\\n\\t\\t\\t\\r\\n\\t\\t\\t<td style=\"display:none;\">2024-05-26</td><td style=\"white-space:nowrap;\"></td><td></td></tr><tr class=\"uci \">\\r\\n\\t\\t\\t<td class=\"small\">24.03</td>\\r\\n\\t\\t\\t<td align=\"center\"><span class=\"n\" style=\"background:#ffeb80;color:black;\">1</span></td><td></td><td width=\"2%\"></td>\\r\\n\\t\\t\\t<td>\\r\\n\\t\\t\\t\\t<img align=\"center\" src=\"img/mini/blue.png\" title=\"Point jersey icon\" width=\"12\" height=\"12\" />\\r\\n\\t\\t\\t\\t<a href=\"race.php?r=14&y=2024\" title=\"Volta Catalunya\" style=\"font-size:0.95em;\">Volta Catalunya</a>\\r\\n\\t\\t\\t\\t<span style=\"font-size:0.95em;\"><span style=\"padding:0 1px;\">|</span> Points</span>\\r\\n\\t\\t\\t\\t\\r\\n\\t\\t\\t</td>\\r\\n\\t\\t\\t\\r\\n\\t\\t\\t<td style=\"display:none;\">2024-03-24</td><td style=\"white-space:nowrap;\"></td><td></td></tr><tr class=\"uci \">\\r\\n\\t\\t\\t<td class=\"small\">21.07</td>\\r\\n\\t\\t\\t<td align=\"center\">4</td><td></td><td width=\"2%\"></td>\\r\\n\\t\\t\\t<td>\\r\\n\\t\\t\\t\\t<img align=\"center\" src=\"img/mini/green.gif\" title=\"Point jersey icon\" width=\"12\" height=\"12\" />\\r\\n\\t\\t\\t\\t<a href=\"race.php?r=17&y=2024\" title=\"Tour de France\" style=\"font-size:0.95em;\">Tour de France</a>\\r\\n\\t\\t\\t\\t<span style=\"font-size:0.95em;\"><span style=\"padding:0 1px;\">|</span> Points</span>\\r\\n\\t\\t\\t\\t\\r\\n\\t\\t\\t</td>\\r\\n\\t\\t\\t\\r\\n\\t\\t\\t<td style=\"display:none;\">2024-07-21</td><td style=\"white-space:nowrap;\"></td><td></td></tr><tr class=\"uci \">\\r\\n\\t\\t\\t<td class=\"small\">24.03</td>\\r\\n\\t\\t\\t<td align=\"center\"><span class=\"n\" style=\"background:#ffeb80;color:black;\">1</span></td><td></td><td width=\"2%\"></td>\\r\\n\\t\\t\\t<td>\\r\\n\\t\\t\\t\\t<img align=\"center\" src=\"img/mini/red.png\" title=\"Mountain jersey icon\" width=\"12\" height=\"12\" />\\r\\n\\t\\t\\t\\t<a href=\"race.php?r=14&y=2024\" title=\"Volta Catalunya\" style=\"font-size:0.95em;\">Volta Catalunya</a>\\r\\n\\t\\t\\t\\t<span style=\"font-size:0.95em;\"><span style=\"padding:0 1px;\">|</span> Mountain</span>\\r\\n\\t\\t\\t\\t\\r\\n\\t\\t\\t</td>\\r\\n\\t\\t\\t\\r\\n\\t\\t\\t<td style=\"display:none;\">2024-03-24</td><td style=\"white-space:nowrap;\"></td><td></td></tr><tr class=\"uci \">\\r\\n\\t\\t\\t<td class=\"small\">26.05</td>\\r\\n\\t\\t\\t<td align=\"center\"><span class=\"n\" style=\"background:#ffeb80;color:black;\">1</span></td><td></td><td width=\"2%\"></td>\\r\\n\\t\\t\\t<td>\\r\\n\\t\\t\\t\\t<img align=\"center\" src=\"img/mini/blue.png\" title=\"Mountain jersey icon\" width=\"12\" height=\"12\" />\\r\\n\\t\\t\\t\\t<a href=\"race.php?r=13&y=2024\" title=\"Giro d\\'Italia\" style=\"font-size:0.95em;\">Giro d\\'Italia</a>\\r\\n\\t\\t\\t\\t<span style=\"font-size:0.95em;\"><span style=\"padding:0 1px;\">|</span> Mountain</span>\\r\\n\\t\\t\\t\\t\\r\\n\\t\\t\\t</td>\\r\\n\\t\\t\\t\\r\\n\\t\\t\\t<td style=\"display:none;\">2024-05-26</td><td style=\"white-space:nowrap;\"></td><td></td></tr><tr class=\"uci \">\\r\\n\\t\\t\\t<td class=\"small\">21.07</td>\\r\\n\\t\\t\\t<td align=\"center\">2</td><td></td><td width=\"2%\"></td>\\r\\n\\t\\t\\t<td>\\r\\n\\t\\t\\t\\t<img align=\"center\" src=\"img/mini/polka.gif\" title=\"Mountain jersey icon\" width=\"12\" height=\"12\" />\\r\\n\\t\\t\\t\\t<a href=\"race.php?r=17&y=2024\" title=\"Tour de France\" style=\"font-size:0.95em;\">Tour de France</a>\\r\\n\\t\\t\\t\\t<span style=\"font-size:0.95em;\"><span style=\"padding:0 1px;\">|</span> Mountain</span>\\r\\n\\t\\t\\t\\t\\r\\n\\t\\t\\t</td>\\r\\n\\t\\t\\t\\r\\n\\t\\t\\t<td style=\"display:none;\">2024-07-21</td><td style=\"white-space:nowrap;\"></td><td></td></tr><tr class=\"uci Tempo\">\\r\\n\\t\\t\\t<td class=\"small\">21.07</td>\\r\\n\\t\\t\\t<td align=\"center\"><span class=\"n\" style=\"background:#ffeb80;color:black;\">1</span></td><td align=\"center\" style=\"color:#4a4a4a;font-size:0.8em;\">1</td><td width=\"2%\"></td>\\r\\n\\t\\t\\t<td style=\"font-size:0.95em;\">\\r\\n\\t\\t\\t\\t<img align=\"center\" src=\"img/mini/Tempo.svg\" title=\"Stage profile icon\" width=\"12\" height=\"12\" style=\"margin-right:2px;border-radius:5px;\" /> \\r\\n\\t\\t\\t\\t<a href=\"race.php?r=17&y=2024&e=21\">Tour de France</a> <span style=\"padding:0 1px;font-size:0.95em;\">|</span> <a href=\"race.php?r=17&y=2024&e=21\" style=\"font-size:0.95em;\">21st stage</a>\\r\\n\\t\\t\\t\\t\\r\\n\\t\\t\\t</td>\\r\\n\\t\\t\\t<td style=\"display:none;\">2024-07-21</td><td style=\"white-space:nowrap;\">210</td><td></td></tr><tr class=\"uci Fjell\">\\r\\n\\t\\t\\t<td class=\"small\">20.07</td>\\r\\n\\t\\t\\t<td align=\"center\"><span class=\"n\" style=\"background:#ffeb80;color:black;\">1</span></td><td align=\"center\" style=\"color:#4a4a4a;font-size:0.8em;\">1</td><td width=\"2%\"></td>\\r\\n\\t\\t\\t<td style=\"font-size:0.95em;\">\\r\\n\\t\\t\\t\\t<img align=\"center\" src=\"img/mini/Fjell-MF.svg\" title=\"Stage profile icon\" width=\"12\" height=\"12\" style=\"margin-right:2px;border-radius:5px;\" /> \\r\\n\\t\\t\\t\\t<a href=\"race.php?r=17&y=2024&e=20\">Tour de France</a> <span style=\"padding:0 1px;font-size:0.95em;\">|</span> <a href=\"race.php?r=17&y=2024&e=20\" style=\"font-size:0.95em;\">20th stage</a>\\r\\n\\t\\t\\t\\t\\r\\n\\t\\t\\t</td>\\r\\n\\t\\t\\t<td style=\"display:none;\">2024-07-20</td><td style=\"white-space:nowrap;\">210</td><td></td></tr><tr class=\"uci Fjell\">\\r\\n\\t\\t\\t<td class=\"small\">19.07</td>\\r\\n\\t\\t\\t<td align=\"center\"><span class=\"n\" style=\"background:#ffeb80;color:black;\">1</span></td><td align=\"center\" style=\"color:#4a4a4a;font-size:0.8em;\">1</td><td width=\"2%\"></td>\\r\\n\\t\\t\\t<td style=\"font-size:0.95em;\">\\r\\n\\t\\t\\t\\t<img align=\"center\" src=\"img/mini/Fjell-MF.svg\" title=\"Stage profile icon\" width=\"12\" height=\"12\" style=\"margin-right:2px;border-radius:5px;\" /> \\r\\n\\t\\t\\t\\t<a href=\"race.php?r=17&y=2024&e=19\">Tour de France</a> <span style=\"padding:0 1px;font-size:0.95em;\">|</span> <a href=\"race.php?r=17&y=2024&e=19\" style=\"font-size:0.95em;\">19th stage</a>\\r\\n\\t\\t\\t\\t\\r\\n\\t\\t\\t</td>\\r\\n\\t\\t\\t<td style=\"display:none;\">2024-07-19</td><td style=\"white-space:nowrap;\">210</td><td></td></tr><tr class=\"uci Smaakupert\">\\r\\n\\t\\t\\t<td class=\"small\">18.07</td>\\r\\n\\t\\t\\t<td align=\"center\">44</td><td align=\"center\" style=\"color:#4a4a4a;font-size:0.8em;\">1</td><td width=\"2%\"></td>\\r\\n\\t\\t\\t<td style=\"font-size:0.95em;\">\\r\\n\\t\\t\\t\\t<img align=\"center\" src=\"img/mini/Smaakupert.svg\" title=\"Stage profile icon\" width=\"12\" height=\"12\" style=\"margin-right:2px;border-radius:5px;\" /> \\r\\n\\t\\t\\t\\t<a href=\"race.php?r=17&y=2024&e=18\">Tour de France</a> <span style=\"padding:0 1px;font-size:0.95em;\">|</span> <a href=\"race.php?r=17&y=2024&e=18\" style=\"font-size:0.95em;\">18th stage</a>\\r\\n\\t\\t\\t\\t\\r\\n\\t\\t\\t</td>\\r\\n\\t\\t\\t<td style=\"display:none;\">2024-07-18</td><td style=\"white-space:nowrap;\"></td><td></td></tr><tr class=\"uci Fjell\">\\r\\n\\t\\t\\t<td class=\"small\">17.07</td>\\r\\n\\t\\t\\t<td align=\"center\">27</td><td align=\"center\" style=\"color:#4a4a4a;font-size:0.8em;\">1</td><td width=\"2%\"></td>\\r\\n\\t\\t\\t<td style=\"font-size:0.95em;\">\\r\\n\\t\\t\\t\\t<img align=\"center\" src=\"img/mini/Fjell-MF.svg\" title=\"Stage profile icon\" width=\"12\" height=\"12\" style=\"margin-right:2px;border-radius:5px;\" /> \\r\\n\\t\\t\\t\\t<a href=\"race.php?r=17&y=2024&e=17\">Tour de France</a> <span style=\"padding:0 1px;font-size:0.95em;\">|</span> <a href=\"race.php?r=17&y=2024&e=17\" style=\"font-size:0.95em;\">17th stage</a>\\r\\n\\t\\t\\t\\t\\r\\n\\t\\t\\t</td>\\r\\n\\t\\t\\t<td style=\"display:none;\">2024-07-17</td><td style=\"white-space:nowrap;\"></td><td></td></tr><tr class=\"uci Flatt\">\\r\\n\\t\\t\\t<td class=\"small\">16.07</td>\\r\\n\\t\\t\\t<td align=\"center\">37</td><td align=\"center\" style=\"color:#4a4a4a;font-size:0.8em;\">1</td><td width=\"2%\"></td>\\r\\n\\t\\t\\t<td style=\"font-size:0.95em;\">\\r\\n\\t\\t\\t\\t<img align=\"center\" src=\"img/mini/Flatt.svg\" title=\"Stage profile icon\" width=\"12\" height=\"12\" style=\"margin-right:2px;border-radius:5px;\" /> \\r\\n\\t\\t\\t\\t<a href=\"race.php?r=17&y=2024&e=16\">Tour de France</a> <span style=\"padding:0 1px;font-size:0.95em;\">|</span> <a href=\"race.php?r=17&y=2024&e=16\" style=\"font-size:0.95em;\">16th stage</a>\\r\\n\\t\\t\\t\\t\\r\\n\\t\\t\\t</td>\\r\\n\\t\\t\\t<td style=\"display:none;\">2024-07-16</td><td style=\"white-space:nowrap;\"></td><td></td></tr><tr class=\"uci Fjell\">\\r\\n\\t\\t\\t<td class=\"small\">14.07</td>\\r\\n\\t\\t\\t<td align=\"center\"><span class=\"n\" style=\"background:#ffeb80;color:black;\">1</span></td><td align=\"center\" style=\"color:#4a4a4a;font-size:0.8em;\">1</td><td width=\"2%\"></td>\\r\\n\\t\\t\\t<td style=\"font-size:0.95em;\">\\r\\n\\t\\t\\t\\t<img align=\"center\" src=\"img/mini/Fjell-MF.svg\" title=\"Stage profile icon\" width=\"12\" height=\"12\" style=\"margin-right:2px;border-radius:5px;\" /> \\r\\n\\t\\t\\t\\t<a href=\"race.php?r=17&y=2024&e=15\">Tour de France</a> <span style=\"padding:0 1px;font-size:0.95em;\">|</span> <a href=\"race.php?r=17&y=2024&e=15\" style=\"font-size:0.95em;\">15th stage</a>\\r\\n\\t\\t\\t\\t\\r\\n\\t\\t\\t</td>\\r\\n\\t\\t\\t<td style=\"display:none;\">2024-07-14</td><td style=\"white-space:nowrap;\">210</td><td></td></tr><tr class=\"uci Fjell\">\\r\\n\\t\\t\\t<td class=\"small\">13.07</td>\\r\\n\\t\\t\\t<td align=\"center\"><span class=\"n\" style=\"background:#ffeb80;color:black;\">1</span></td><td align=\"center\" style=\"color:#4a4a4a;font-size:0.8em;\">1</td><td width=\"2%\"></td>\\r\\n\\t\\t\\t<td style=\"font-size:0.95em;\">\\r\\n\\t\\t\\t\\t<img align=\"center\" src=\"img/mini/Fjell-MF.svg\" title=\"Stage profile icon\" width=\"12\" height=\"12\" style=\"margin-right:2px;border-radius:5px;\" /> \\r\\n\\t\\t\\t\\t<a href=\"race.php?r=17&y=2024&e=14\">Tour de France</a> <span style=\"padding:0 1px;font-size:0.95em;\">|</span> <a href=\"race.php?r=17&y=2024&e=14\" style=\"font-size:0.95em;\">14th stage</a>\\r\\n\\t\\t\\t\\t\\r\\n\\t\\t\\t</td>\\r\\n\\t\\t\\t<td style=\"display:none;\">2024-07-13</td><td style=\"white-space:nowrap;\">210</td><td></td></tr><tr class=\"uci Flatt\">\\r\\n\\t\\t\\t<td class=\"small\">12.07</td>\\r\\n\\t\\t\\t<td align=\"center\">9</td><td align=\"center\" style=\"color:#4a4a4a;font-size:0.8em;\">1</td><td width=\"2%\"></td>\\r\\n\\t\\t\\t<td style=\"font-size:0.95em;\">\\r\\n\\t\\t\\t\\t<img align=\"center\" src=\"img/mini/Flatt.svg\" title=\"Stage profile icon\" width=\"12\" height=\"12\" style=\"margin-right:2px;border-radius:5px;\" /> \\r\\n\\t\\t\\t\\t<a href=\"race.php?r=17&y=2024&e=13\">Tour de France</a> <span style=\"padding:0 1px;font-size:0.95em;\">|</span> <a href=\"race.php?r=17&y=2024&e=13\" style=\"font-size:0.95em;\">13th stage</a>\\r\\n\\t\\t\\t\\t\\r\\n\\t\\t\\t</td>\\r\\n\\t\\t\\t<td style=\"display:none;\">2024-07-12</td><td style=\"white-space:nowrap;\">35</td><td></td></tr><tr class=\"uci Flatt\">\\r\\n\\t\\t\\t<td class=\"small\">11.07</td>\\r\\n\\t\\t\\t<td align=\"center\">23</td><td align=\"center\" style=\"color:#4a4a4a;font-size:0.8em;\">1</td><td width=\"2%\"></td>\\r\\n\\t\\t\\t<td style=\"font-size:0.95em;\">\\r\\n\\t\\t\\t\\t<img align=\"center\" src=\"img/mini/Flatt.svg\" title=\"Stage profile icon\" width=\"12\" height=\"12\" style=\"margin-right:2px;border-radius:5px;\" /> \\r\\n\\t\\t\\t\\t<a href=\"race.php?r=17&y=2024&e=12\">Tour de France</a> <span style=\"padding:0 1px;font-size:0.95em;\">|</span> <a href=\"race.php?r=17&y=2024&e=12\" style=\"font-size:0.95em;\">12th stage</a>\\r\\n\\t\\t\\t\\t\\r\\n\\t\\t\\t</td>\\r\\n\\t\\t\\t<td style=\"display:none;\">2024-07-11</td><td style=\"white-space:nowrap;\"></td><td></td></tr><tr class=\"uci Fjell\">\\r\\n\\t\\t\\t<td class=\"small\">10.07</td>\\r\\n\\t\\t\\t<td align=\"center\">2</td><td align=\"center\" style=\"color:#4a4a4a;font-size:0.8em;\">1</td><td width=\"2%\"></td>\\r\\n\\t\\t\\t<td style=\"font-size:0.95em;\">\\r\\n\\t\\t\\t\\t<img align=\"center\" src=\"img/mini/Fjell.svg\" title=\"Stage profile icon\" width=\"12\" height=\"12\" style=\"margin-right:2px;border-radius:5px;\" /> \\r\\n\\t\\t\\t\\t<a href=\"race.php?r=17&y=2024&e=11\">Tour de France</a> <span style=\"padding:0 1px;font-size:0.95em;\">|</span> <a href=\"race.php?r=17&y=2024&e=11\" style=\"font-size:0.95em;\">11th stage</a>\\r\\n\\t\\t\\t\\t\\r\\n\\t\\t\\t</td>\\r\\n\\t\\t\\t<td style=\"display:none;\">2024-07-10</td><td style=\"white-space:nowrap;\">150</td><td></td></tr><tr class=\"uci Flatt\">\\r\\n\\t\\t\\t<td class=\"small\">09.07</td>\\r\\n\\t\\t\\t<td align=\"center\">29</td><td align=\"center\" style=\"color:#4a4a4a;font-size:0.8em;\">1</td><td width=\"2%\"></td>\\r\\n\\t\\t\\t<td style=\"font-size:0.95em;\">\\r\\n\\t\\t\\t\\t<img align=\"center\" src=\"img/mini/Flatt.svg\" title=\"Stage profile icon\" width=\"12\" height=\"12\" style=\"margin-right:2px;border-radius:5px;\" /> \\r\\n\\t\\t\\t\\t<a href=\"race.php?r=17&y=2024&e=10\">Tour de France</a> <span style=\"padding:0 1px;font-size:0.95em;\">|</span> <a href=\"race.php?r=17&y=2024&e=10\" style=\"font-size:0.95em;\">10th stage</a>\\r\\n\\t\\t\\t\\t\\r\\n\\t\\t\\t</td>\\r\\n\\t\\t\\t<td style=\"display:none;\">2024-07-09</td><td style=\"white-space:nowrap;\"></td><td></td></tr><tr class=\"uci Smaakupert\">\\r\\n\\t\\t\\t<td class=\"small\">07.07</td>\\r\\n\\t\\t\\t<td align=\"center\">44</td><td align=\"center\" style=\"color:#4a4a4a;font-size:0.8em;\">1</td><td width=\"2%\"></td>\\r\\n\\t\\t\\t<td style=\"font-size:0.95em;\">\\r\\n\\t\\t\\t\\t<img align=\"center\" src=\"img/mini/Smaakupert.svg\" title=\"Stage profile icon\" width=\"12\" height=\"12\" style=\"margin-right:2px;border-radius:5px;\" /> \\r\\n\\t\\t\\t\\t<a href=\"race.php?r=17&y=2024&e=09\">Tour de France</a> <span style=\"padding:0 1px;font-size:0.95em;\">|</span> <a href=\"race.php?r=17&y=2024&e=09\" style=\"font-size:0.95em;\">9th stage</a>\\r\\n\\t\\t\\t\\t\\r\\n\\t\\t\\t</td>\\r\\n\\t\\t\\t<td style=\"display:none;\">2024-07-07</td><td style=\"white-space:nowrap;\"></td><td></td></tr><tr class=\"uci Flatt\">\\r\\n\\t\\t\\t<td class=\"small\">06.07</td>\\r\\n\\t\\t\\t<td align=\"center\">13</td><td align=\"center\" style=\"color:#4a4a4a;font-size:0.8em;\">1</td><td width=\"2%\"></td>\\r\\n\\t\\t\\t<td style=\"font-size:0.95em;\">\\r\\n\\t\\t\\t\\t<img align=\"center\" src=\"img/mini/Flatt.svg\" title=\"Stage profile icon\" width=\"12\" height=\"12\" style=\"margin-right:2px;border-radius:5px;\" /> \\r\\n\\t\\t\\t\\t<a href=\"race.php?r=17&y=2024&e=08\">Tour de France</a> <span style=\"padding:0 1px;font-size:0.95em;\">|</span> <a href=\"race.php?r=17&y=2024&e=08\" style=\"font-size:0.95em;\">8th stage</a>\\r\\n\\t\\t\\t\\t\\r\\n\\t\\t\\t</td>\\r\\n\\t\\t\\t<td style=\"display:none;\">2024-07-06</td><td style=\"white-space:nowrap;\">15</td><td></td></tr><tr class=\"uci Tempo\">\\r\\n\\t\\t\\t<td class=\"small\">05.07</td>\\r\\n\\t\\t\\t<td align=\"center\">2</td><td align=\"center\" style=\"color:#4a4a4a;font-size:0.8em;\">1</td><td width=\"2%\"></td>\\r\\n\\t\\t\\t<td style=\"font-size:0.95em;\">\\r\\n\\t\\t\\t\\t<img align=\"center\" src=\"img/mini/Tempo.svg\" title=\"Stage profile icon\" width=\"12\" height=\"12\" style=\"margin-right:2px;border-radius:5px;\" /> \\r\\n\\t\\t\\t\\t<a href=\"race.php?r=17&y=2024&e=07\">Tour de France</a> <span style=\"padding:0 1px;font-size:0.95em;\">|</span> <a href=\"race.php?r=17&y=2024&e=07\" style=\"font-size:0.95em;\">7th stage</a>\\r\\n\\t\\t\\t\\t\\r\\n\\t\\t\\t</td>\\r\\n\\t\\t\\t<td style=\"display:none;\">2024-07-05</td><td style=\"white-space:nowrap;\">150</td><td></td></tr><tr class=\"uci Flatt\">\\r\\n\\t\\t\\t<td class=\"small\">04.07</td>\\r\\n\\t\\t\\t<td align=\"center\">34</td><td align=\"center\" style=\"color:#4a4a4a;font-size:0.8em;\">1</td><td width=\"2%\"></td>\\r\\n\\t\\t\\t<td style=\"font-size:0.95em;\">\\r\\n\\t\\t\\t\\t<img align=\"center\" src=\"img/mini/Flatt.svg\" title=\"Stage profile icon\" width=\"12\" height=\"12\" style=\"margin-right:2px;border-radius:5px;\" /> \\r\\n\\t\\t\\t\\t<a href=\"race.php?r=17&y=2024&e=06\">Tour de France</a> <span style=\"padding:0 1px;font-size:0.95em;\">|</span> <a href=\"race.php?r=17&y=2024&e=06\" style=\"font-size:0.95em;\">6th stage</a>\\r\\n\\t\\t\\t\\t\\r\\n\\t\\t\\t</td>\\r\\n\\t\\t\\t<td style=\"display:none;\">2024-07-04</td><td style=\"white-space:nowrap;\"></td><td></td></tr><tr class=\"uci Flatt\">\\r\\n\\t\\t\\t<td class=\"small\">03.07</td>\\r\\n\\t\\t\\t<td align=\"center\">35</td><td align=\"center\" style=\"color:#4a4a4a;font-size:0.8em;\">1</td><td width=\"2%\"></td>\\r\\n\\t\\t\\t<td style=\"font-size:0.95em;\">\\r\\n\\t\\t\\t\\t<img align=\"center\" src=\"img/mini/Flatt.svg\" title=\"Stage profile icon\" width=\"12\" height=\"12\" style=\"margin-right:2px;border-radius:5px;\" /> \\r\\n\\t\\t\\t\\t<a href=\"race.php?r=17&y=2024&e=05\">Tour de France</a> <span style=\"padding:0 1px;font-size:0.95em;\">|</span> <a href=\"race.php?r=17&y=2024&e=05\" style=\"font-size:0.95em;\">5th stage</a>\\r\\n\\t\\t\\t\\t\\r\\n\\t\\t\\t</td>\\r\\n\\t\\t\\t<td style=\"display:none;\">2024-07-03</td><td style=\"white-space:nowrap;\"></td><td></td></tr><tr class=\"uci Fjell\">\\r\\n\\t\\t\\t<td class=\"small\">02.07</td>\\r\\n\\t\\t\\t<td align=\"center\"><span class=\"n\" style=\"background:#ffeb80;color:black;\">1</span></td><td align=\"center\" style=\"color:#4a4a4a;font-size:0.8em;\">1</td><td width=\"2%\"></td>\\r\\n\\t\\t\\t<td style=\"font-size:0.95em;\">\\r\\n\\t\\t\\t\\t<img align=\"center\" src=\"img/mini/Fjell.svg\" title=\"Stage profile icon\" width=\"12\" height=\"12\" style=\"margin-right:2px;border-radius:5px;\" /> \\r\\n\\t\\t\\t\\t<a href=\"race.php?r=17&y=2024&e=04\">Tour de France</a> <span style=\"padding:0 1px;font-size:0.95em;\">|</span> <a href=\"race.php?r=17&y=2024&e=04\" style=\"font-size:0.95em;\">4th stage</a>\\r\\n\\t\\t\\t\\t\\r\\n\\t\\t\\t</td>\\r\\n\\t\\t\\t<td style=\"display:none;\">2024-07-02</td><td style=\"white-space:nowrap;\">210</td><td></td></tr><tr class=\"uci Flatt\">\\r\\n\\t\\t\\t<td class=\"small\">01.07</td>\\r\\n\\t\\t\\t<td align=\"center\">38</td><td align=\"center\" style=\"color:#4a4a4a;font-size:0.8em;\">2</td><td width=\"2%\"></td>\\r\\n\\t\\t\\t<td style=\"font-size:0.95em;\">\\r\\n\\t\\t\\t\\t<img align=\"center\" src=\"img/mini/Flatt.svg\" title=\"Stage profile icon\" width=\"12\" height=\"12\" style=\"margin-right:2px;border-radius:5px;\" /> \\r\\n\\t\\t\\t\\t<a href=\"race.php?r=17&y=2024&e=03\">Tour de France</a> <span style=\"padding:0 1px;font-size:0.95em;\">|</span> <a href=\"race.php?r=17&y=2024&e=03\" style=\"font-size:0.95em;\">3rd stage</a>\\r\\n\\t\\t\\t\\t\\r\\n\\t\\t\\t</td>\\r\\n\\t\\t\\t<td style=\"display:none;\">2024-07-01</td><td style=\"white-space:nowrap;\"></td><td></td></tr><tr class=\"uci Smaakupert\">\\r\\n\\t\\t\\t<td class=\"small\">30.06</td>\\r\\n\\t\\t\\t<td align=\"center\">14</td><td align=\"center\" style=\"color:#4a4a4a;font-size:0.8em;\">1</td><td width=\"2%\"></td>\\r\\n\\t\\t\\t<td style=\"font-size:0.95em;\">\\r\\n\\t\\t\\t\\t<img align=\"center\" src=\"img/mini/Smaakupert.svg\" title=\"Stage profile icon\" width=\"12\" height=\"12\" style=\"margin-right:2px;border-radius:5px;\" /> \\r\\n\\t\\t\\t\\t<a href=\"race.php?r=17&y=2024&e=02\">Tour de France</a> <span style=\"padding:0 1px;font-size:0.95em;\">|</span> <a href=\"race.php?r=17&y=2024&e=02\" style=\"font-size:0.95em;\">2nd stage</a>\\r\\n\\t\\t\\t\\t\\r\\n\\t\\t\\t</td>\\r\\n\\t\\t\\t<td style=\"display:none;\">2024-06-30</td><td style=\"white-space:nowrap;\">10</td><td></td></tr><tr class=\"uci Smaakupert\">\\r\\n\\t\\t\\t<td class=\"small\">29.06</td>\\r\\n\\t\\t\\t<td align=\"center\">4</td><td align=\"center\" style=\"color:#4a4a4a;font-size:0.8em;\">4</td><td width=\"2%\"></td>\\r\\n\\t\\t\\t<td style=\"font-size:0.95em;\">\\r\\n\\t\\t\\t\\t<img align=\"center\" src=\"img/mini/Smaakupert.svg\" title=\"Stage profile icon\" width=\"12\" height=\"12\" style=\"margin-right:2px;border-radius:5px;\" /> \\r\\n\\t\\t\\t\\t<a href=\"race.php?r=17&y=2024&e=01\">Tour de France</a> <span style=\"padding:0 1px;font-size:0.95em;\">|</span> <a href=\"race.php?r=17&y=2024&e=01\" style=\"font-size:0.95em;\">1st stage</a>\\r\\n\\t\\t\\t\\t\\r\\n\\t\\t\\t</td>\\r\\n\\t\\t\\t<td style=\"display:none;\">2024-06-29</td><td style=\"white-space:nowrap;\">90</td><td></td></tr><tr class=\"uci Flatt\">\\r\\n\\t\\t\\t<td class=\"small\">26.05</td>\\r\\n\\t\\t\\t<td align=\"center\">74</td><td align=\"center\" style=\"color:#4a4a4a;font-size:0.8em;\">1</td><td width=\"2%\"></td>\\r\\n\\t\\t\\t<td style=\"font-size:0.95em;\">\\r\\n\\t\\t\\t\\t<img align=\"center\" src=\"img/mini/Flatt.svg\" title=\"Stage profile icon\" width=\"12\" height=\"12\" style=\"margin-right:2px;border-radius:5px;\" /> \\r\\n\\t\\t\\t\\t<a href=\"race.php?r=13&y=2024&e=21\">Giro d\\'Italia</a> <span style=\"padding:0 1px;font-size:0.95em;\">|</span> <a href=\"race.php?r=13&y=2024&e=21\" style=\"font-size:0.95em;\">21st stage</a>\\r\\n\\t\\t\\t\\t\\r\\n\\t\\t\\t</td>\\r\\n\\t\\t\\t<td style=\"display:none;\">2024-05-26</td><td style=\"white-space:nowrap;\"></td><td></td></tr><tr class=\"uci Fjell\">\\r\\n\\t\\t\\t<td class=\"small\">25.05</td>\\r\\n\\t\\t\\t<td align=\"center\"><span class=\"n\" style=\"background:#ffeb80;color:black;\">1</span></td><td align=\"center\" style=\"color:#4a4a4a;font-size:0.8em;\">1</td><td width=\"2%\"></td>\\r\\n\\t\\t\\t<td style=\"font-size:0.95em;\">\\r\\n\\t\\t\\t\\t<img align=\"center\" src=\"img/mini/Fjell.svg\" title=\"Stage profile icon\" width=\"12\" height=\"12\" style=\"margin-right:2px;border-radius:5px;\" /> \\r\\n\\t\\t\\t\\t<a href=\"race.php?r=13&y=2024&e=20\">Giro d\\'Italia</a> <span style=\"padding:0 1px;font-size:0.95em;\">|</span> <a href=\"race.php?r=13&y=2024&e=20\" style=\"font-size:0.95em;\">20th stage</a>\\r\\n\\t\\t\\t\\t\\r\\n\\t\\t\\t</td>\\r\\n\\t\\t\\t<td style=\"display:none;\">2024-05-25</td><td style=\"white-space:nowrap;\">180</td><td></td></tr><tr class=\"uci Fjell\">\\r\\n\\t\\t\\t<td class=\"small\">24.05</td>\\r\\n\\t\\t\\t<td align=\"center\">21</td><td align=\"center\" style=\"color:#4a4a4a;font-size:0.8em;\">1</td><td width=\"2%\"></td>\\r\\n\\t\\t\\t<td style=\"font-size:0.95em;\">\\r\\n\\t\\t\\t\\t<img align=\"center\" src=\"img/mini/Fjell.svg\" title=\"Stage profile icon\" width=\"12\" height=\"12\" style=\"margin-right:2px;border-radius:5px;\" /> \\r\\n\\t\\t\\t\\t<a href=\"race.php?r=13&y=2024&e=19\">Giro d\\'Italia</a> <span style=\"padding:0 1px;font-size:0.95em;\">|</span> <a href=\"race.php?r=13&y=2024&e=19\" style=\"font-size:0.95em;\">19th stage</a>\\r\\n\\t\\t\\t\\t\\r\\n\\t\\t\\t</td>\\r\\n\\t\\t\\t<td style=\"display:none;\">2024-05-24</td><td style=\"white-space:nowrap;\"></td><td></td></tr><tr class=\"uci Flatt\">\\r\\n\\t\\t\\t<td class=\"small\">23.05</td>\\r\\n\\t\\t\\t<td align=\"center\">30</td><td align=\"center\" style=\"color:#4a4a4a;font-size:0.8em;\">1</td><td width=\"2%\"></td>\\r\\n\\t\\t\\t<td style=\"font-size:0.95em;\">\\r\\n\\t\\t\\t\\t<img align=\"center\" src=\"img/mini/Flatt.svg\" title=\"Stage profile icon\" width=\"12\" height=\"12\" style=\"margin-right:2px;border-radius:5px;\" /> \\r\\n\\t\\t\\t\\t<a href=\"race.php?r=13&y=2024&e=18\">Giro d\\'Italia</a> <span style=\"padding:0 1px;font-size:0.95em;\">|</span> <a href=\"race.php?r=13&y=2024&e=18\" style=\"font-size:0.95em;\">18th stage</a>\\r\\n\\t\\t\\t\\t\\r\\n\\t\\t\\t</td>\\r\\n\\t\\t\\t<td style=\"display:none;\">2024-05-23</td><td style=\"white-space:nowrap;\"></td><td></td></tr><tr class=\"uci Fjell\">\\r\\n\\t\\t\\t<td class=\"small\">22.05</td>\\r\\n\\t\\t\\t<td align=\"center\">2</td><td align=\"center\" style=\"color:#4a4a4a;font-size:0.8em;\">1</td><td width=\"2%\"></td>\\r\\n\\t\\t\\t<td style=\"font-size:0.95em;\">\\r\\n\\t\\t\\t\\t<img align=\"center\" src=\"img/mini/Fjell-MF.svg\" title=\"Stage profile icon\" width=\"12\" height=\"12\" style=\"margin-right:2px;border-radius:5px;\" /> \\r\\n\\t\\t\\t\\t<a href=\"race.php?r=13&y=2024&e=17\">Giro d\\'Italia</a> <span style=\"padding:0 1px;font-size:0.95em;\">|</span> <a href=\"race.php?r=13&y=2024&e=17\" style=\"font-size:0.95em;\">17th stage</a>\\r\\n\\t\\t\\t\\t\\r\\n\\t\\t\\t</td>\\r\\n\\t\\t\\t<td style=\"display:none;\">2024-05-22</td><td style=\"white-space:nowrap;\">130</td><td></td></tr><tr class=\"uci Fjell\">\\r\\n\\t\\t\\t<td class=\"small\">21.05</td>\\r\\n\\t\\t\\t<td align=\"center\"><span class=\"n\" style=\"background:#ffeb80;color:black;\">1</span></td><td align=\"center\" style=\"color:#4a4a4a;font-size:0.8em;\">1</td><td width=\"2%\"></td>\\r\\n\\t\\t\\t<td style=\"font-size:0.95em;\">\\r\\n\\t\\t\\t\\t<img align=\"center\" src=\"img/mini/Fjell-MF.svg\" title=\"Stage profile icon\" width=\"12\" height=\"12\" style=\"margin-right:2px;border-radius:5px;\" /> \\r\\n\\t\\t\\t\\t<a href=\"race.php?r=13&y=2024&e=16\">Giro d\\'Italia</a> <span style=\"padding:0 1px;font-size:0.95em;\">|</span> <a href=\"race.php?r=13&y=2024&e=16\" style=\"font-size:0.95em;\">16th stage</a>\\r\\n\\t\\t\\t\\t\\r\\n\\t\\t\\t</td>\\r\\n\\t\\t\\t<td style=\"display:none;\">2024-05-21</td><td style=\"white-space:nowrap;\">180</td><td></td></tr><tr class=\"uci Fjell\">\\r\\n\\t\\t\\t<td class=\"small\">19.05</td>\\r\\n\\t\\t\\t<td align=\"center\"><span class=\"n\" style=\"background:#ffeb80;color:black;\">1</span></td><td align=\"center\" style=\"color:#4a4a4a;font-size:0.8em;\">1</td><td width=\"2%\"></td>\\r\\n\\t\\t\\t<td style=\"font-size:0.95em;\">\\r\\n\\t\\t\\t\\t<img align=\"center\" src=\"img/mini/Fjell-MF.svg\" title=\"Stage profile icon\" width=\"12\" height=\"12\" style=\"margin-right:2px;border-radius:5px;\" /> \\r\\n\\t\\t\\t\\t<a href=\"race.php?r=13&y=2024&e=15\">Giro d\\'Italia</a> <span style=\"padding:0 1px;font-size:0.95em;\">|</span> <a href=\"race.php?r=13&y=2024&e=15\" style=\"font-size:0.95em;\">15th stage</a>\\r\\n\\t\\t\\t\\t\\r\\n\\t\\t\\t</td>\\r\\n\\t\\t\\t<td style=\"display:none;\">2024-05-19</td><td style=\"white-space:nowrap;\">180</td><td></td></tr><tr class=\"uci Tempo\">\\r\\n\\t\\t\\t<td class=\"small\">18.05</td>\\r\\n\\t\\t\\t<td align=\"center\">2</td><td align=\"center\" style=\"color:#4a4a4a;font-size:0.8em;\">1</td><td width=\"2%\"></td>\\r\\n\\t\\t\\t<td style=\"font-size:0.95em;\">\\r\\n\\t\\t\\t\\t<img align=\"center\" src=\"img/mini/Tempo.svg\" title=\"Stage profile icon\" width=\"12\" height=\"12\" style=\"margin-right:2px;border-radius:5px;\" /> \\r\\n\\t\\t\\t\\t<a href=\"race.php?r=13&y=2024&e=14\">Giro d\\'Italia</a> <span style=\"padding:0 1px;font-size:0.95em;\">|</span> <a href=\"race.php?r=13&y=2024&e=14\" style=\"font-size:0.95em;\">14th stage</a>\\r\\n\\t\\t\\t\\t\\r\\n\\t\\t\\t</td>\\r\\n\\t\\t\\t<td style=\"display:none;\">2024-05-18</td><td style=\"white-space:nowrap;\">130</td><td></td></tr><tr class=\"uci Flatt\">\\r\\n\\t\\t\\t<td class=\"small\">17.05</td>\\r\\n\\t\\t\\t<td align=\"center\">20</td><td align=\"center\" style=\"color:#4a4a4a;font-size:0.8em;\">1</td><td width=\"2%\"></td>\\r\\n\\t\\t\\t<td style=\"font-size:0.95em;\">\\r\\n\\t\\t\\t\\t<img align=\"center\" src=\"img/mini/Flatt.svg\" title=\"Stage profile icon\" width=\"12\" height=\"12\" style=\"margin-right:2px;border-radius:5px;\" /> \\r\\n\\t\\t\\t\\t<a href=\"race.php?r=13&y=2024&e=13\">Giro d\\'Italia</a> <span style=\"padding:0 1px;font-size:0.95em;\">|</span> <a href=\"race.php?r=13&y=2024&e=13\" style=\"font-size:0.95em;\">13th stage</a>\\r\\n\\t\\t\\t\\t\\r\\n\\t\\t\\t</td>\\r\\n\\t\\t\\t<td style=\"display:none;\">2024-05-17</td><td style=\"white-space:nowrap;\"></td><td></td></tr><tr class=\"uci Smaakupert\">\\r\\n\\t\\t\\t<td class=\"small\">16.05</td>\\r\\n\\t\\t\\t<td align=\"center\">13</td><td align=\"center\" style=\"color:#4a4a4a;font-size:0.8em;\">1</td><td width=\"2%\"></td>\\r\\n\\t\\t\\t<td style=\"font-size:0.95em;\">\\r\\n\\t\\t\\t\\t<img align=\"center\" src=\"img/mini/Smaakupert.svg\" title=\"Stage profile icon\" width=\"12\" height=\"12\" style=\"margin-right:2px;border-radius:5px;\" /> \\r\\n\\t\\t\\t\\t<a href=\"race.php?r=13&y=2024&e=12\">Giro d\\'Italia</a> <span style=\"padding:0 1px;font-size:0.95em;\">|</span> <a href=\"race.php?r=13&y=2024&e=12\" style=\"font-size:0.95em;\">12th stage</a>\\r\\n\\t\\t\\t\\t\\r\\n\\t\\t\\t</td>\\r\\n\\t\\t\\t<td style=\"display:none;\">2024-05-16</td><td style=\"white-space:nowrap;\">10</td><td></td></tr><tr class=\"uci Flatt\">\\r\\n\\t\\t\\t<td class=\"small\">15.05</td>\\r\\n\\t\\t\\t<td align=\"center\">27</td><td align=\"center\" style=\"color:#4a4a4a;font-size:0.8em;\">1</td><td width=\"2%\"></td>\\r\\n\\t\\t\\t<td style=\"font-size:0.95em;\">\\r\\n\\t\\t\\t\\t<img align=\"center\" src=\"img/mini/Flatt.svg\" title=\"Stage profile icon\" width=\"12\" height=\"12\" style=\"margin-right:2px;border-radius:5px;\" /> \\r\\n\\t\\t\\t\\t<a href=\"race.php?r=13&y=2024&e=11\">Giro d\\'Italia</a> <span style=\"padding:0 1px;font-size:0.95em;\">|</span> <a href=\"race.php?r=13&y=2024&e=11\" style=\"font-size:0.95em;\">11th stage</a>\\r\\n\\t\\t\\t\\t\\r\\n\\t\\t\\t</td>\\r\\n\\t\\t\\t<td style=\"display:none;\">2024-05-15</td><td style=\"white-space:nowrap;\"></td><td></td></tr><tr class=\"uci Fjell\">\\r\\n\\t\\t\\t<td class=\"small\">14.05</td>\\r\\n\\t\\t\\t<td align=\"center\">17</td><td align=\"center\" style=\"color:#4a4a4a;font-size:0.8em;\">1</td><td width=\"2%\"></td>\\r\\n\\t\\t\\t<td style=\"font-size:0.95em;\">\\r\\n\\t\\t\\t\\t<img align=\"center\" src=\"img/mini/Fjell-MF.svg\" title=\"Stage profile icon\" width=\"12\" height=\"12\" style=\"margin-right:2px;border-radius:5px;\" /> \\r\\n\\t\\t\\t\\t<a href=\"race.php?r=13&y=2024&e=10\">Giro d\\'Italia</a> <span style=\"padding:0 1px;font-size:0.95em;\">|</span> <a href=\"race.php?r=13&y=2024&e=10\" style=\"font-size:0.95em;\">10th stage</a>\\r\\n\\t\\t\\t\\t\\r\\n\\t\\t\\t</td>\\r\\n\\t\\t\\t<td style=\"display:none;\">2024-05-14</td><td style=\"white-space:nowrap;\"></td><td></td></tr><tr class=\"uci Smaakupert\">\\r\\n\\t\\t\\t<td class=\"small\">12.05</td>\\r\\n\\t\\t\\t<td align=\"center\">27</td><td align=\"center\" style=\"color:#4a4a4a;font-size:0.8em;\">1</td><td width=\"2%\"></td>\\r\\n\\t\\t\\t<td style=\"font-size:0.95em;\">\\r\\n\\t\\t\\t\\t<img align=\"center\" src=\"img/mini/Smaakupert.svg\" title=\"Stage profile icon\" width=\"12\" height=\"12\" style=\"margin-right:2px;border-radius:5px;\" /> \\r\\n\\t\\t\\t\\t<a href=\"race.php?r=13&y=2024&e=09\">Giro d\\'Italia</a> <span style=\"padding:0 1px;font-size:0.95em;\">|</span> <a href=\"race.php?r=13&y=2024&e=09\" style=\"font-size:0.95em;\">9th stage</a>\\r\\n\\t\\t\\t\\t\\r\\n\\t\\t\\t</td>\\r\\n\\t\\t\\t<td style=\"display:none;\">2024-05-12</td><td style=\"white-space:nowrap;\"></td><td></td></tr><tr class=\"uci Fjell\">\\r\\n\\t\\t\\t<td class=\"small\">11.05</td>\\r\\n\\t\\t\\t<td align=\"center\"><span class=\"n\" style=\"background:#ffeb80;color:black;\">1</span></td><td align=\"center\" style=\"color:#4a4a4a;font-size:0.8em;\">1</td><td width=\"2%\"></td>\\r\\n\\t\\t\\t<td style=\"font-size:0.95em;\">\\r\\n\\t\\t\\t\\t<img align=\"center\" src=\"img/mini/Fjell-MF.svg\" title=\"Stage profile icon\" width=\"12\" height=\"12\" style=\"margin-right:2px;border-radius:5px;\" /> \\r\\n\\t\\t\\t\\t<a href=\"race.php?r=13&y=2024&e=08\">Giro d\\'Italia</a> <span style=\"padding:0 1px;font-size:0.95em;\">|</span> <a href=\"race.php?r=13&y=2024&e=08\" style=\"font-size:0.95em;\">8th stage</a>\\r\\n\\t\\t\\t\\t\\r\\n\\t\\t\\t</td>\\r\\n\\t\\t\\t<td style=\"display:none;\">2024-05-11</td><td style=\"white-space:nowrap;\">180</td><td></td></tr><tr class=\"uci Tempo\">\\r\\n\\t\\t\\t<td class=\"small\">10.05</td>\\r\\n\\t\\t\\t<td align=\"center\"><span class=\"n\" style=\"background:#ffeb80;color:black;\">1</span></td><td align=\"center\" style=\"color:#4a4a4a;font-size:0.8em;\">1</td><td width=\"2%\"></td>\\r\\n\\t\\t\\t<td style=\"font-size:0.95em;\">\\r\\n\\t\\t\\t\\t<img align=\"center\" src=\"img/mini/Tempo.svg\" title=\"Stage profile icon\" width=\"12\" height=\"12\" style=\"margin-right:2px;border-radius:5px;\" /> \\r\\n\\t\\t\\t\\t<a href=\"race.php?r=13&y=2024&e=07\">Giro d\\'Italia</a> <span style=\"padding:0 1px;font-size:0.95em;\">|</span> <a href=\"race.php?r=13&y=2024&e=07\" style=\"font-size:0.95em;\">7th stage</a>\\r\\n\\t\\t\\t\\t\\r\\n\\t\\t\\t</td>\\r\\n\\t\\t\\t<td style=\"display:none;\">2024-05-10</td><td style=\"white-space:nowrap;\">180</td><td></td></tr><tr class=\"uci Smaakupert\">\\r\\n\\t\\t\\t<td class=\"small\">09.05</td>\\r\\n\\t\\t\\t<td align=\"center\">18</td><td align=\"center\" style=\"color:#4a4a4a;font-size:0.8em;\">1</td><td width=\"2%\"></td>\\r\\n\\t\\t\\t<td style=\"font-size:0.95em;\">\\r\\n\\t\\t\\t\\t<img align=\"center\" src=\"img/mini/Smaakupert.svg\" title=\"Stage profile icon\" width=\"12\" height=\"12\" style=\"margin-right:2px;border-radius:5px;\" /> \\r\\n\\t\\t\\t\\t<a href=\"race.php?r=13&y=2024&e=06\">Giro d\\'Italia</a> <span style=\"padding:0 1px;font-size:0.95em;\">|</span> <a href=\"race.php?r=13&y=2024&e=06\" style=\"font-size:0.95em;\">6th stage</a>\\r\\n\\t\\t\\t\\t\\r\\n\\t\\t\\t</td>\\r\\n\\t\\t\\t<td style=\"display:none;\">2024-05-09</td><td style=\"white-space:nowrap;\"></td><td></td></tr><tr class=\"uci Flatt\">\\r\\n\\t\\t\\t<td class=\"small\">08.05</td>\\r\\n\\t\\t\\t<td align=\"center\">29</td><td align=\"center\" style=\"color:#4a4a4a;font-size:0.8em;\">1</td><td width=\"2%\"></td>\\r\\n\\t\\t\\t<td style=\"font-size:0.95em;\">\\r\\n\\t\\t\\t\\t<img align=\"center\" src=\"img/mini/Flatt.svg\" title=\"Stage profile icon\" width=\"12\" height=\"12\" style=\"margin-right:2px;border-radius:5px;\" /> \\r\\n\\t\\t\\t\\t<a href=\"race.php?r=13&y=2024&e=05\">Giro d\\'Italia</a> <span style=\"padding:0 1px;font-size:0.95em;\">|</span> <a href=\"race.php?r=13&y=2024&e=05\" style=\"font-size:0.95em;\">5th stage</a>\\r\\n\\t\\t\\t\\t\\r\\n\\t\\t\\t</td>\\r\\n\\t\\t\\t<td style=\"display:none;\">2024-05-08</td><td style=\"white-space:nowrap;\"></td><td></td></tr><tr class=\"uci Flatt\">\\r\\n\\t\\t\\t<td class=\"small\">07.05</td>\\r\\n\\t\\t\\t<td align=\"center\">30</td><td align=\"center\" style=\"color:#4a4a4a;font-size:0.8em;\">1</td><td width=\"2%\"></td>\\r\\n\\t\\t\\t<td style=\"font-size:0.95em;\">\\r\\n\\t\\t\\t\\t<img align=\"center\" src=\"img/mini/Flatt.svg\" title=\"Stage profile icon\" width=\"12\" height=\"12\" style=\"margin-right:2px;border-radius:5px;\" /> \\r\\n\\t\\t\\t\\t<a href=\"race.php?r=13&y=2024&e=04\">Giro d\\'Italia</a> <span style=\"padding:0 1px;font-size:0.95em;\">|</span> <a href=\"race.php?r=13&y=2024&e=04\" style=\"font-size:0.95em;\">4th stage</a>\\r\\n\\t\\t\\t\\t\\r\\n\\t\\t\\t</td>\\r\\n\\t\\t\\t<td style=\"display:none;\">2024-05-07</td><td style=\"white-space:nowrap;\"></td><td></td></tr><tr class=\"uci Flatt\">\\r\\n\\t\\t\\t<td class=\"small\">06.05</td>\\r\\n\\t\\t\\t<td align=\"center\">46</td><td align=\"center\" style=\"color:#4a4a4a;font-size:0.8em;\">1</td><td width=\"2%\"></td>\\r\\n\\t\\t\\t<td style=\"font-size:0.95em;\">\\r\\n\\t\\t\\t\\t<img align=\"center\" src=\"img/mini/Flatt.svg\" title=\"Stage profile icon\" width=\"12\" height=\"12\" style=\"margin-right:2px;border-radius:5px;\" /> \\r\\n\\t\\t\\t\\t<a href=\"race.php?r=13&y=2024&e=03\">Giro d\\'Italia</a> <span style=\"padding:0 1px;font-size:0.95em;\">|</span> <a href=\"race.php?r=13&y=2024&e=03\" style=\"font-size:0.95em;\">3rd stage</a>\\r\\n\\t\\t\\t\\t\\r\\n\\t\\t\\t</td>\\r\\n\\t\\t\\t<td style=\"display:none;\">2024-05-06</td><td style=\"white-space:nowrap;\"></td><td></td></tr><tr class=\"uci Fjell\">\\r\\n\\t\\t\\t<td class=\"small\">05.05</td>\\r\\n\\t\\t\\t<td align=\"center\"><span class=\"n\" style=\"background:#ffeb80;color:black;\">1</span></td><td align=\"center\" style=\"color:#4a4a4a;font-size:0.8em;\">1</td><td width=\"2%\"></td>\\r\\n\\t\\t\\t<td style=\"font-size:0.95em;\">\\r\\n\\t\\t\\t\\t<img align=\"center\" src=\"img/mini/Fjell-MF.svg\" title=\"Stage profile icon\" width=\"12\" height=\"12\" style=\"margin-right:2px;border-radius:5px;\" /> \\r\\n\\t\\t\\t\\t<a href=\"race.php?r=13&y=2024&e=02\">Giro d\\'Italia</a> <span style=\"padding:0 1px;font-size:0.95em;\">|</span> <a href=\"race.php?r=13&y=2024&e=02\" style=\"font-size:0.95em;\">2nd stage</a>\\r\\n\\t\\t\\t\\t\\r\\n\\t\\t\\t</td>\\r\\n\\t\\t\\t<td style=\"display:none;\">2024-05-05</td><td style=\"white-space:nowrap;\">180</td><td></td></tr><tr class=\"uci Smaakupert\">\\r\\n\\t\\t\\t<td class=\"small\">04.05</td>\\r\\n\\t\\t\\t<td align=\"center\">3</td><td align=\"center\" style=\"color:#4a4a4a;font-size:0.8em;\">3</td><td width=\"2%\"></td>\\r\\n\\t\\t\\t<td style=\"font-size:0.95em;\">\\r\\n\\t\\t\\t\\t<img align=\"center\" src=\"img/mini/Smaakupert.svg\" title=\"Stage profile icon\" width=\"12\" height=\"12\" style=\"margin-right:2px;border-radius:5px;\" /> \\r\\n\\t\\t\\t\\t<a href=\"race.php?r=13&y=2024&e=01\">Giro d\\'Italia</a> <span style=\"padding:0 1px;font-size:0.95em;\">|</span> <a href=\"race.php?r=13&y=2024&e=01\" style=\"font-size:0.95em;\">1st stage</a>\\r\\n\\t\\t\\t\\t\\r\\n\\t\\t\\t</td>\\r\\n\\t\\t\\t<td style=\"display:none;\">2024-05-04</td><td style=\"white-space:nowrap;\">95</td><td></td></tr><tr class=\"uci Smaakupert\">\\r\\n\\t\\t\\t<td class=\"small\">24.03</td>\\r\\n\\t\\t\\t<td align=\"center\"><span class=\"n\" style=\"background:#ffeb80;color:black;\">1</span></td><td align=\"center\" style=\"color:#4a4a4a;font-size:0.8em;\">1</td><td width=\"2%\"></td>\\r\\n\\t\\t\\t<td style=\"font-size:0.95em;\">\\r\\n\\t\\t\\t\\t<img align=\"center\" src=\"img/mini/Smaakupert.svg\" title=\"Stage profile icon\" width=\"12\" height=\"12\" style=\"margin-right:2px;border-radius:5px;\" /> \\r\\n\\t\\t\\t\\t<a href=\"race.php?r=14&y=2024&e=07\">Volta Catalunya</a> <span style=\"padding:0 1px;font-size:0.95em;\">|</span> <a href=\"race.php?r=14&y=2024&e=07\" style=\"font-size:0.95em;\">7th stage</a>\\r\\n\\t\\t\\t\\t\\r\\n\\t\\t\\t</td>\\r\\n\\t\\t\\t<td style=\"display:none;\">2024-03-24</td><td style=\"white-space:nowrap;\">50</td><td></td></tr><tr class=\"uci Fjell\">\\r\\n\\t\\t\\t<td class=\"small\">23.03</td>\\r\\n\\t\\t\\t<td align=\"center\"><span class=\"n\" style=\"background:#ffeb80;color:black;\">1</span></td><td align=\"center\" style=\"color:#4a4a4a;font-size:0.8em;\">1</td><td width=\"2%\"></td>\\r\\n\\t\\t\\t<td style=\"font-size:0.95em;\">\\r\\n\\t\\t\\t\\t<img align=\"center\" src=\"img/mini/Fjell-MF.svg\" title=\"Stage profile icon\" width=\"12\" height=\"12\" style=\"margin-right:2px;border-radius:5px;\" /> \\r\\n\\t\\t\\t\\t<a href=\"race.php?r=14&y=2024&e=06\">Volta Catalunya</a> <span style=\"padding:0 1px;font-size:0.95em;\">|</span> <a href=\"race.php?r=14&y=2024&e=06\" style=\"font-size:0.95em;\">6th stage</a>\\r\\n\\t\\t\\t\\t\\r\\n\\t\\t\\t</td>\\r\\n\\t\\t\\t<td style=\"display:none;\">2024-03-23</td><td style=\"white-space:nowrap;\">50</td><td></td></tr><tr class=\"uci Smaakupert\">\\r\\n\\t\\t\\t<td class=\"small\">22.03</td>\\r\\n\\t\\t\\t<td align=\"center\">31</td><td align=\"center\" style=\"color:#4a4a4a;font-size:0.8em;\">1</td><td width=\"2%\"></td>\\r\\n\\t\\t\\t<td style=\"font-size:0.95em;\">\\r\\n\\t\\t\\t\\t<img align=\"center\" src=\"img/mini/Smaakupert.svg\" title=\"Stage profile icon\" width=\"12\" height=\"12\" style=\"margin-right:2px;border-radius:5px;\" /> \\r\\n\\t\\t\\t\\t<a href=\"race.php?r=14&y=2024&e=05\">Volta Catalunya</a> <span style=\"padding:0 1px;font-size:0.95em;\">|</span> <a href=\"race.php?r=14&y=2024&e=05\" style=\"font-size:0.95em;\">5th stage</a>\\r\\n\\t\\t\\t\\t\\r\\n\\t\\t\\t</td>\\r\\n\\t\\t\\t<td style=\"display:none;\">2024-03-22</td><td style=\"white-space:nowrap;\"></td><td></td></tr><tr class=\"uci Flatt\">\\r\\n\\t\\t\\t<td class=\"small\">21.03</td>\\r\\n\\t\\t\\t<td align=\"center\">25</td><td align=\"center\" style=\"color:#4a4a4a;font-size:0.8em;\">1</td><td width=\"2%\"></td>\\r\\n\\t\\t\\t<td style=\"font-size:0.95em;\">\\r\\n\\t\\t\\t\\t<img align=\"center\" src=\"img/mini/Flatt.svg\" title=\"Stage profile icon\" width=\"12\" height=\"12\" style=\"margin-right:2px;border-radius:5px;\" /> \\r\\n\\t\\t\\t\\t<a href=\"race.php?r=14&y=2024&e=04\">Volta Catalunya</a> <span style=\"padding:0 1px;font-size:0.95em;\">|</span> <a href=\"race.php?r=14&y=2024&e=04\" style=\"font-size:0.95em;\">4th stage</a>\\r\\n\\t\\t\\t\\t\\r\\n\\t\\t\\t</td>\\r\\n\\t\\t\\t<td style=\"display:none;\">2024-03-21</td><td style=\"white-space:nowrap;\"></td><td></td></tr><tr class=\"uci Fjell\">\\r\\n\\t\\t\\t<td class=\"small\">20.03</td>\\r\\n\\t\\t\\t<td align=\"center\"><span class=\"n\" style=\"background:#ffeb80;color:black;\">1</span></td><td align=\"center\" style=\"color:#4a4a4a;font-size:0.8em;\">1</td><td width=\"2%\"></td>\\r\\n\\t\\t\\t<td style=\"font-size:0.95em;\">\\r\\n\\t\\t\\t\\t<img align=\"center\" src=\"img/mini/Fjell-MF.svg\" title=\"Stage profile icon\" width=\"12\" height=\"12\" style=\"margin-right:2px;border-radius:5px;\" /> \\r\\n\\t\\t\\t\\t<a href=\"race.php?r=14&y=2024&e=03\">Volta Catalunya</a> <span style=\"padding:0 1px;font-size:0.95em;\">|</span> <a href=\"race.php?r=14&y=2024&e=03\" style=\"font-size:0.95em;\">3rd stage</a>\\r\\n\\t\\t\\t\\t\\r\\n\\t\\t\\t</td>\\r\\n\\t\\t\\t<td style=\"display:none;\">2024-03-20</td><td style=\"white-space:nowrap;\">50</td><td></td></tr><tr class=\"uci Fjell\">\\r\\n\\t\\t\\t<td class=\"small\">19.03</td>\\r\\n\\t\\t\\t<td align=\"center\"><span class=\"n\" style=\"background:#ffeb80;color:black;\">1</span></td><td align=\"center\" style=\"color:#4a4a4a;font-size:0.8em;\">1</td><td width=\"2%\"></td>\\r\\n\\t\\t\\t<td style=\"font-size:0.95em;\">\\r\\n\\t\\t\\t\\t<img align=\"center\" src=\"img/mini/Fjell-MF.svg\" title=\"Stage profile icon\" width=\"12\" height=\"12\" style=\"margin-right:2px;border-radius:5px;\" /> \\r\\n\\t\\t\\t\\t<a href=\"race.php?r=14&y=2024&e=02\">Volta Catalunya</a> <span style=\"padding:0 1px;font-size:0.95em;\">|</span> <a href=\"race.php?r=14&y=2024&e=02\" style=\"font-size:0.95em;\">2nd stage</a>\\r\\n\\t\\t\\t\\t\\r\\n\\t\\t\\t</td>\\r\\n\\t\\t\\t<td style=\"display:none;\">2024-03-19</td><td style=\"white-space:nowrap;\">50</td><td></td></tr><tr class=\"uci Flatt\">\\r\\n\\t\\t\\t<td class=\"small\">18.03</td>\\r\\n\\t\\t\\t<td align=\"center\">2</td><td align=\"center\" style=\"color:#4a4a4a;font-size:0.8em;\">2</td><td width=\"2%\"></td>\\r\\n\\t\\t\\t<td style=\"font-size:0.95em;\">\\r\\n\\t\\t\\t\\t<img align=\"center\" src=\"img/mini/Flatt.svg\" title=\"Stage profile icon\" width=\"12\" height=\"12\" style=\"margin-right:2px;border-radius:5px;\" /> \\r\\n\\t\\t\\t\\t<a href=\"race.php?r=14&y=2024&e=01\">Volta Catalunya</a> <span style=\"padding:0 1px;font-size:0.95em;\">|</span> <a href=\"race.php?r=14&y=2024&e=01\" style=\"font-size:0.95em;\">1st stage</a>\\r\\n\\t\\t\\t\\t\\r\\n\\t\\t\\t</td>\\r\\n\\t\\t\\t<td style=\"display:none;\">2024-03-18</td><td style=\"white-space:nowrap;\">30</td><td></td></tr>\\t</tbody>\\r\\n</table>\\r\\n\\r\\n<script type=\"text/javascript\">\\r\\n\\t$(document).ready(function(){\\r\\n\\t\\t$(\".sortTabell\").tablesorter( {\\r\\n\\t\\t\\t\\t\\tsortList: [[5,1]]\\r\\n\\t\\t\\t\\t});\\r\\n\\t    $(\\'.sport20242191\\').click(function(){\\r\\n\\t    \\tvar tab = ($(this).attr(\"value\"));\\r\\n\\t    \\tif(tab == \\'Alle\\')\\r\\n\\t    \\t{\\r\\n\\t    \\t\\t$(\\'.uci\\').show();\\r\\n\\t    \\t\\t$(\\'.other\\').show();\\r\\n\\t    \\t\\t$(\\'.displayUCI20242191\\').prop( \"checked\", false );\\r\\n\\t    \\t}\\r\\n\\t    \\telse\\r\\n\\t    \\t{\\r\\n\\t\\t    \\t$(\\'.uci\\').hide();\\r\\n\\t\\t    \\t$(\\'.other\\').hide();\\r\\n\\t    \\t\\t$(\\'.displayUCI20242191\\').prop( \"checked\", false );\\r\\n\\t\\t    \\t$(\\'.\\'+tab).show();\\r\\n\\t\\t    }\\r\\n\\t    });\\r\\n\\t    $(\\'.displayUCI20242191\\').click(function(){\\r\\n\\t\\t\\tif($(\\'.displayUCI20242191\\').prop(\\'checked\\')== true) {\\r\\n\\t      \\t\\t$(\\'.other\\').hide();\\r\\n\\t\\t\\t}\\r\\n\\t\\t\\telse {\\r\\n\\t\\t\\t\\t$(\\'.displayUCI20242191\\').attr(\\'checked\\', false);\\r\\n\\t      \\t\\t$(\\'.other\\').show();\\r\\n\\t\\t\\t}\\r\\n\\t    });\\r\\n\\t});\\r\\n</script></div>\\r\\n\\r\\n\\r\\n<script src=\"js/jquery.tablesorter2.min.js\" type=\"text/javascript\"></script>\\r\\n\\r\\n<script type=\"text/javascript\">\\r\\n$(document).ready(function(){\\r\\n\\t$(\\'.year\\').click(function(){\\r\\n\\t\\tvar str=$(this).attr(\\'name\\');\\r\\n\\t\\t$.ajax({\\r\\n\\t\\t\\tmethod:\\'get\\',\\r\\n\\t\\t\\turl:\"rider/riderYearData2.php\",\\r\\n\\t\\t\\tdata:\\'y=\\'+str+\\'&r=\\'+45992+\\'&lang=en&uci=3&gender=M\\',\\r\\n\\t\\t\\tsuccess:function(data){\\r\\n\\t\\t        $(\\'.year\\').siblings().removeClass(\"valgt\");\\r\\n\\t\\t        $(\\'.\\'+str).addClass(\"valgt\");\\r\\n\\t\\t\\t\\t$(\\'.yearData\\').hide();\\r\\n\\t\\t\\t\\t$(\\'#yearData\\').fadeIn(\\'fast\\').append(data);\\r\\n\\t\\t\\t}\\r\\n\\t\\t});\\r\\n\\t});\\r\\n});\\r\\n</script></div>\\r\\n</div>\\r\\n\\r\\n\\r\\n\\r\\n<div class=\"cont720\" style=\"clear:both;width:816px;margin-top:6px;\">\\r\\n\\r\\n\\t\\r\\n\\r\\n</div></div>\\r\\n\\r\\n\\r\\n</div>\\r\\n\\r\\n</div>\\r\\n</div>\\r\\n\\r\\n<div id=\\'footer\\' style=\\'bottom:0;background:#FAFAFA;height:8em;padding-bottom:70px;\\'>\\r\\n\\t<div id=\\'footerInner\\' style=\\'overflow: hidden;padding-top:25px;text-align:center;\\'>\\r\\n\\t\\t<p>\\r\\n\\t\\t\\t<a href=\\'mailto:info@firstcycling.com\\' title=\\'Email us\\'>info@firstcycling.com</a>\\r\\n\\t\\t\\t<span style=\"padding:0 1px;color:grey;\">|</span>\\r\\n\\t\\t\\t<a href=\"http://www.twitter.com/firstcycling\" title=\\'Follow us on twitter\\' target=\\'_blank\\'><img src=\"img/mini/twitter.png\" title=\"Twitter\" width=\"14\" height=\"14\" align=\"center\" /> FirstCycling</a>\\r\\n\\t\\t\\t<span style=\"padding:0 1px;color:grey;\">|</span>\\r\\n\\t\\t\\t<a href=\\'privacypolicy.php\\' title=\\'Privacy Policy\\'>Privacy Policy</a>\\r\\n\\t\\t\\t<span style=\"padding:0 1px;color:grey;\">|</span>\\r\\n\\t\\t\\t&copy; 2025 FirstCycling.com\\r\\n\\t\\t</p>\\r\\n\\r\\n\\t</div>\\r\\n</div>\\r\\n</body>\\r\\n</html>'\n"
     ]
    }
   ],
   "source": [
    "fc = FirstCyclingAPI()\n",
    "rider_data = fc.get_rider_endpoint(rider_id = '45992')\n",
    "print(rider_data)"
   ]
  },
  {
   "cell_type": "code",
   "execution_count": 50,
   "id": "7b8d1335-3243-4e3a-9755-c71b21f17c2f",
   "metadata": {},
   "outputs": [],
   "source": [
    "class ParsedEndpoint(Endpoint):\n",
    "    def __init__(self, response):\n",
    "        super().__init__(response)\n",
    "        self._parse_result()\n",
    "\n",
    "    def _parse_result(self):\n",
    "        if self.response:  # Make sure response isn't None\n",
    "            self.soup = bs4.BeautifulSoup(self.response, 'html.parser')\n",
    "            self._parse_soup()\n",
    "        else:\n",
    "            print(\"No response data to parse\")\n",
    "\n",
    "    def _parse_soup(self):\n",
    "        # Assuming you're trying to extract specific data\n",
    "        # This is where you can customize your parsing logic\n",
    "        if self.soup:\n",
    "            # Example of extracting text from a <title> tag\n",
    "            self.parsed_data = self.soup.title.text if self.soup.title else 'No title'\n",
    "        else:\n",
    "            self.parsed_data = 'Soup parsing failed'\n",
    "\n",
    "    def get_json(self):\n",
    "        return json.dumps({'parsed_data': self.parsed_data})\n"
   ]
  },
  {
   "cell_type": "code",
   "execution_count": 52,
   "id": "3321d0be-da1a-45eb-99b0-fd0ef7912779",
   "metadata": {},
   "outputs": [
    {
     "name": "stdout",
     "output_type": "stream",
     "text": [
      "{\"parsed_data\": \"Tadej Pogacar | FirstCycling\"}\n"
     ]
    }
   ],
   "source": [
    "parsed_data = ParsedEndpoint(rider_data)\n",
    "print(parsed_data.get_json())"
   ]
  },
  {
   "cell_type": "code",
   "execution_count": 54,
   "id": "df0dfa0c-ab25-4f0f-af1b-d8183fc23528",
   "metadata": {},
   "outputs": [
    {
     "name": "stderr",
     "output_type": "stream",
     "text": [
      "C:\\Users\\mrmik\\OneDrive\\Desktop\\Cycling capstone\\Datasets\\FirstCyclingAPI\\first_cycling_api\\parser.py:65: FutureWarning: Passing literal html to 'read_html' is deprecated and will be removed in a future version. To read from a literal string, wrap it in a 'StringIO' object.\n",
      "C:\\Users\\mrmik\\OneDrive\\Desktop\\Cycling capstone\\Datasets\\FirstCyclingAPI\\first_cycling_api\\parser.py:65: FutureWarning: Passing literal html to 'read_html' is deprecated and will be removed in a future version. To read from a literal string, wrap it in a 'StringIO' object.\n"
     ]
    },
    {
     "data": {
      "text/html": [
       "<div>\n",
       "<style scoped>\n",
       "    .dataframe tbody tr th:only-of-type {\n",
       "        vertical-align: middle;\n",
       "    }\n",
       "\n",
       "    .dataframe tbody tr th {\n",
       "        vertical-align: top;\n",
       "    }\n",
       "\n",
       "    .dataframe thead th {\n",
       "        text-align: right;\n",
       "    }\n",
       "</style>\n",
       "<table border=\"1\" class=\"dataframe\">\n",
       "  <thead>\n",
       "    <tr style=\"text-align: right;\">\n",
       "      <th></th>\n",
       "      <th>Pos</th>\n",
       "      <th>Rider</th>\n",
       "      <th>Team</th>\n",
       "      <th>UCI</th>\n",
       "      <th>Time</th>\n",
       "      <th>Team_ID</th>\n",
       "    </tr>\n",
       "  </thead>\n",
       "  <tbody>\n",
       "    <tr>\n",
       "      <th>0</th>\n",
       "      <td>1</td>\n",
       "      <td>van der Poel Mathieu</td>\n",
       "      <td>Corendon - Circus</td>\n",
       "      <td>500.0</td>\n",
       "      <td>06:28:18</td>\n",
       "      <td>13279</td>\n",
       "    </tr>\n",
       "    <tr>\n",
       "      <th>1</th>\n",
       "      <td>2</td>\n",
       "      <td>Clarke Simon</td>\n",
       "      <td>EF Education First</td>\n",
       "      <td>400.0</td>\n",
       "      <td>+ 00</td>\n",
       "      <td>13208</td>\n",
       "    </tr>\n",
       "    <tr>\n",
       "      <th>2</th>\n",
       "      <td>3</td>\n",
       "      <td>Fuglsang Jakob</td>\n",
       "      <td>Astana Pro Team</td>\n",
       "      <td>325.0</td>\n",
       "      <td>+ 00</td>\n",
       "      <td>13198</td>\n",
       "    </tr>\n",
       "    <tr>\n",
       "      <th>3</th>\n",
       "      <td>4</td>\n",
       "      <td>Alaphilippe Julian</td>\n",
       "      <td>Deceuninck-Quick Step</td>\n",
       "      <td>275.0</td>\n",
       "      <td>+ 00</td>\n",
       "      <td>13206</td>\n",
       "    </tr>\n",
       "    <tr>\n",
       "      <th>4</th>\n",
       "      <td>5</td>\n",
       "      <td>Schachmann Max</td>\n",
       "      <td>Bora - Hansgrohe</td>\n",
       "      <td>225.0</td>\n",
       "      <td>+ 00</td>\n",
       "      <td>13200</td>\n",
       "    </tr>\n",
       "  </tbody>\n",
       "</table>\n",
       "</div>"
      ],
      "text/plain": [
       "  Pos                 Rider                   Team    UCI      Time  Team_ID\n",
       "0   1  van der Poel Mathieu      Corendon - Circus  500.0  06:28:18    13279\n",
       "1   2          Clarke Simon     EF Education First  400.0      + 00    13208\n",
       "2   3        Fuglsang Jakob        Astana Pro Team  325.0      + 00    13198\n",
       "3   4    Alaphilippe Julian  Deceuninck-Quick Step  275.0      + 00    13206\n",
       "4   5        Schachmann Max       Bora - Hansgrohe  225.0      + 00    13200"
      ]
     },
     "execution_count": 54,
     "metadata": {},
     "output_type": "execute_result"
    }
   ],
   "source": [
    "from first_cycling_api import RaceEdition\n",
    "amstel_2019 = RaceEdition(race_id=9, year=2019) # The race_id comes from the race page URL\n",
    "amstel_2019.results().results_table.head() # A pandas DataFrame of the race results"
   ]
  },
  {
   "cell_type": "code",
   "execution_count": 56,
   "id": "a27b4c42-3591-4897-8670-089a88ca9ae2",
   "metadata": {},
   "outputs": [
    {
     "name": "stderr",
     "output_type": "stream",
     "text": [
      "C:\\Users\\mrmik\\OneDrive\\Desktop\\Cycling capstone\\Datasets\\FirstCyclingAPI\\first_cycling_api\\parser.py:65: FutureWarning: Passing literal html to 'read_html' is deprecated and will be removed in a future version. To read from a literal string, wrap it in a 'StringIO' object.\n"
     ]
    },
    {
     "data": {
      "text/html": [
       "<div>\n",
       "<style scoped>\n",
       "    .dataframe tbody tr th:only-of-type {\n",
       "        vertical-align: middle;\n",
       "    }\n",
       "\n",
       "    .dataframe tbody tr th {\n",
       "        vertical-align: top;\n",
       "    }\n",
       "\n",
       "    .dataframe thead th {\n",
       "        text-align: right;\n",
       "    }\n",
       "</style>\n",
       "<table border=\"1\" class=\"dataframe\">\n",
       "  <thead>\n",
       "    <tr style=\"text-align: right;\">\n",
       "      <th></th>\n",
       "      <th>Date</th>\n",
       "      <th>Pos</th>\n",
       "      <th>GC</th>\n",
       "      <th>Race</th>\n",
       "      <th>UCI</th>\n",
       "      <th>Unnamed: 6</th>\n",
       "      <th>Race_ID</th>\n",
       "    </tr>\n",
       "  </thead>\n",
       "  <tbody>\n",
       "    <tr>\n",
       "      <th>0</th>\n",
       "      <td>21.06</td>\n",
       "      <td>1</td>\n",
       "      <td>NaN</td>\n",
       "      <td>Slovenia RR | CN</td>\n",
       "      <td>100.0</td>\n",
       "      <td>Show more</td>\n",
       "      <td>2127</td>\n",
       "    </tr>\n",
       "    <tr>\n",
       "      <th>1</th>\n",
       "      <td>8.11</td>\n",
       "      <td>NaN</td>\n",
       "      <td>NaN</td>\n",
       "      <td>Vuelta a España | 2.UWT</td>\n",
       "      <td>NaN</td>\n",
       "      <td>Show more</td>\n",
       "      <td>None</td>\n",
       "    </tr>\n",
       "    <tr>\n",
       "      <th>2</th>\n",
       "      <td>8.11</td>\n",
       "      <td>1</td>\n",
       "      <td>NaN</td>\n",
       "      <td>Vuelta a España | Overall</td>\n",
       "      <td>850.0</td>\n",
       "      <td>NaN</td>\n",
       "      <td>23</td>\n",
       "    </tr>\n",
       "    <tr>\n",
       "      <th>3</th>\n",
       "      <td>4.10</td>\n",
       "      <td>1</td>\n",
       "      <td>NaN</td>\n",
       "      <td>Liège-Bastogne-Liège | 1.UWT</td>\n",
       "      <td>500.0</td>\n",
       "      <td>Show more</td>\n",
       "      <td>11</td>\n",
       "    </tr>\n",
       "    <tr>\n",
       "      <th>4</th>\n",
       "      <td>20.09</td>\n",
       "      <td>NaN</td>\n",
       "      <td>NaN</td>\n",
       "      <td>Tour de France | 2.UWT</td>\n",
       "      <td>NaN</td>\n",
       "      <td>Show more</td>\n",
       "      <td>None</td>\n",
       "    </tr>\n",
       "  </tbody>\n",
       "</table>\n",
       "</div>"
      ],
      "text/plain": [
       "    Date  Pos  GC                          Race    UCI Unnamed: 6 Race_ID\n",
       "0  21.06    1 NaN              Slovenia RR | CN  100.0  Show more    2127\n",
       "1   8.11  NaN NaN       Vuelta a España | 2.UWT    NaN  Show more    None\n",
       "2   8.11    1 NaN     Vuelta a España | Overall  850.0        NaN      23\n",
       "3   4.10    1 NaN  Liège-Bastogne-Liège | 1.UWT  500.0  Show more      11\n",
       "4  20.09  NaN NaN        Tour de France | 2.UWT    NaN  Show more    None"
      ]
     },
     "execution_count": 56,
     "metadata": {},
     "output_type": "execute_result"
    }
   ],
   "source": [
    ">>> from first_cycling_api import Rider\n",
    ">>> roglic = Rider(18655) # The rider ID comes from the rider page URL\n",
    ">>> roglic.year_results(2020).results_df.head() # A pandas DataFrame of Roglic's 2020 results"
   ]
  },
  {
   "cell_type": "code",
   "execution_count": 124,
   "id": "374c933a-e64d-4e55-b768-cf9716689dea",
   "metadata": {},
   "outputs": [
    {
     "name": "stderr",
     "output_type": "stream",
     "text": [
      "C:\\Users\\mrmik\\OneDrive\\Desktop\\Cycling capstone\\Datasets\\FirstCyclingAPI\\first_cycling_api\\parser.py:65: FutureWarning: Passing literal html to 'read_html' is deprecated and will be removed in a future version. To read from a literal string, wrap it in a 'StringIO' object.\n"
     ]
    },
    {
     "data": {
      "text/html": [
       "<div>\n",
       "<style scoped>\n",
       "    .dataframe tbody tr th:only-of-type {\n",
       "        vertical-align: middle;\n",
       "    }\n",
       "\n",
       "    .dataframe tbody tr th {\n",
       "        vertical-align: top;\n",
       "    }\n",
       "\n",
       "    .dataframe thead th {\n",
       "        text-align: right;\n",
       "    }\n",
       "</style>\n",
       "<table border=\"1\" class=\"dataframe\">\n",
       "  <thead>\n",
       "    <tr style=\"text-align: right;\">\n",
       "      <th></th>\n",
       "      <th>Pos</th>\n",
       "      <th>Rider</th>\n",
       "      <th>Nation</th>\n",
       "      <th>Team</th>\n",
       "      <th>Points</th>\n",
       "      <th>Rider_ID</th>\n",
       "      <th>Team_ID</th>\n",
       "    </tr>\n",
       "  </thead>\n",
       "  <tbody>\n",
       "    <tr>\n",
       "      <th>0</th>\n",
       "      <td>1</td>\n",
       "      <td>Pogacar Tadej</td>\n",
       "      <td>Slovenia</td>\n",
       "      <td>UAE Team Emirates</td>\n",
       "      <td>11655</td>\n",
       "      <td>45992</td>\n",
       "      <td>21841</td>\n",
       "    </tr>\n",
       "    <tr>\n",
       "      <th>1</th>\n",
       "      <td>2</td>\n",
       "      <td>Evenepoel Remco</td>\n",
       "      <td>Belgium</td>\n",
       "      <td>Soudal Quick-Step</td>\n",
       "      <td>6062</td>\n",
       "      <td>84019</td>\n",
       "      <td>26329</td>\n",
       "    </tr>\n",
       "    <tr>\n",
       "      <th>2</th>\n",
       "      <td>3</td>\n",
       "      <td>Philipsen Jasper</td>\n",
       "      <td>Belgium</td>\n",
       "      <td>Alpecin-Deceuninck</td>\n",
       "      <td>479</td>\n",
       "      <td>45363</td>\n",
       "      <td>28019</td>\n",
       "    </tr>\n",
       "    <tr>\n",
       "      <th>3</th>\n",
       "      <td>4</td>\n",
       "      <td>O'Connor Ben</td>\n",
       "      <td>Australia</td>\n",
       "      <td>Decathlon AG2R La Mondiale</td>\n",
       "      <td>4131</td>\n",
       "      <td>42186</td>\n",
       "      <td>23295</td>\n",
       "    </tr>\n",
       "    <tr>\n",
       "      <th>4</th>\n",
       "      <td>5</td>\n",
       "      <td>van der Poel Mathieu</td>\n",
       "      <td>Netherlands</td>\n",
       "      <td>Alpecin-Deceuninck</td>\n",
       "      <td>4053</td>\n",
       "      <td>16672</td>\n",
       "      <td>28019</td>\n",
       "    </tr>\n",
       "    <tr>\n",
       "      <th>...</th>\n",
       "      <td>...</td>\n",
       "      <td>...</td>\n",
       "      <td>...</td>\n",
       "      <td>...</td>\n",
       "      <td>...</td>\n",
       "      <td>...</td>\n",
       "      <td>...</td>\n",
       "    </tr>\n",
       "    <tr>\n",
       "      <th>95</th>\n",
       "      <td>96</td>\n",
       "      <td>Storer Michael</td>\n",
       "      <td>Australia</td>\n",
       "      <td>Tudor Pro Cycling Team</td>\n",
       "      <td>9680</td>\n",
       "      <td>37447</td>\n",
       "      <td>34245</td>\n",
       "    </tr>\n",
       "    <tr>\n",
       "      <th>96</th>\n",
       "      <td>97</td>\n",
       "      <td>Baudin Alex</td>\n",
       "      <td>France</td>\n",
       "      <td>Decathlon AG2R La Mondiale</td>\n",
       "      <td>9630</td>\n",
       "      <td>100033</td>\n",
       "      <td>23295</td>\n",
       "    </tr>\n",
       "    <tr>\n",
       "      <th>97</th>\n",
       "      <td>98</td>\n",
       "      <td>Segaert Alec</td>\n",
       "      <td>Belgium</td>\n",
       "      <td>Lotto Dstny</td>\n",
       "      <td>9430</td>\n",
       "      <td>139003</td>\n",
       "      <td>27882</td>\n",
       "    </tr>\n",
       "    <tr>\n",
       "      <th>98</th>\n",
       "      <td>99</td>\n",
       "      <td>Albanese Vincenzo</td>\n",
       "      <td>Italy</td>\n",
       "      <td>ARKEA-B&amp;B HOTELS</td>\n",
       "      <td>9350</td>\n",
       "      <td>37351</td>\n",
       "      <td>27967</td>\n",
       "    </tr>\n",
       "    <tr>\n",
       "      <th>99</th>\n",
       "      <td>100</td>\n",
       "      <td>Ackermann Pascal</td>\n",
       "      <td>Germany</td>\n",
       "      <td>Israel-Premier Tech</td>\n",
       "      <td>9330</td>\n",
       "      <td>9746</td>\n",
       "      <td>27923</td>\n",
       "    </tr>\n",
       "  </tbody>\n",
       "</table>\n",
       "<p>100 rows × 7 columns</p>\n",
       "</div>"
      ],
      "text/plain": [
       "    Pos                 Rider       Nation                        Team  \\\n",
       "0     1         Pogacar Tadej     Slovenia           UAE Team Emirates   \n",
       "1     2       Evenepoel Remco      Belgium           Soudal Quick-Step   \n",
       "2     3      Philipsen Jasper      Belgium          Alpecin-Deceuninck   \n",
       "3     4          O'Connor Ben    Australia  Decathlon AG2R La Mondiale   \n",
       "4     5  van der Poel Mathieu  Netherlands          Alpecin-Deceuninck   \n",
       "..  ...                   ...          ...                         ...   \n",
       "95   96        Storer Michael    Australia      Tudor Pro Cycling Team   \n",
       "96   97           Baudin Alex       France  Decathlon AG2R La Mondiale   \n",
       "97   98          Segaert Alec      Belgium                 Lotto Dstny   \n",
       "98   99     Albanese Vincenzo        Italy            ARKEA-B&B HOTELS   \n",
       "99  100      Ackermann Pascal      Germany         Israel-Premier Tech   \n",
       "\n",
       "    Points  Rider_ID  Team_ID  \n",
       "0    11655     45992    21841  \n",
       "1     6062     84019    26329  \n",
       "2      479     45363    28019  \n",
       "3     4131     42186    23295  \n",
       "4     4053     16672    28019  \n",
       "..     ...       ...      ...  \n",
       "95    9680     37447    34245  \n",
       "96    9630    100033    23295  \n",
       "97    9430    139003    27882  \n",
       "98    9350     37351    27967  \n",
       "99    9330      9746    27923  \n",
       "\n",
       "[100 rows x 7 columns]"
      ]
     },
     "execution_count": 124,
     "metadata": {},
     "output_type": "execute_result"
    }
   ],
   "source": [
    ">>> from first_cycling_api import Ranking\n",
    ">>> ranking = Ranking(h=1, rank=1, y=2024, page=1) # Parameters from corresponding URL\n",
    ">>> ranking.table # A pandas DataFrame of the rankings table"
   ]
  },
  {
   "cell_type": "code",
   "execution_count": 64,
   "id": "d13469fb-126f-47a8-ba77-3fbf45a5b502",
   "metadata": {},
   "outputs": [
    {
     "data": {
      "text/plain": [
       "<first_cycling_api.race.endpoints.RaceEndpoint at 0x26aea4e4140>"
      ]
     },
     "execution_count": 64,
     "metadata": {},
     "output_type": "execute_result"
    }
   ],
   "source": [
    "from first_cycling_api import RaceEdition\n",
    "tour_de_swiss = RaceEdition(race_id = 16, year=2024)\n",
    "tour_de_swiss.stage_profiles()"
   ]
  },
  {
   "cell_type": "code",
   "execution_count": 66,
   "id": "95b76f6c-7a8d-42ad-b3d6-642e6dd7794a",
   "metadata": {},
   "outputs": [
    {
     "name": "stdout",
     "output_type": "stream",
     "text": [
      "RaceEdition(2024 16)\n"
     ]
    }
   ],
   "source": [
    "print(tour_de_swiss)"
   ]
  },
  {
   "cell_type": "code",
   "execution_count": 68,
   "id": "32c15035-5295-429f-85dd-63a0467fbc16",
   "metadata": {},
   "outputs": [
    {
     "data": {
      "text/plain": [
       "<first_cycling_api.race.endpoints.RaceEndpoint at 0x26a8d1c1c70>"
      ]
     },
     "execution_count": 68,
     "metadata": {},
     "output_type": "execute_result"
    }
   ],
   "source": [
    "profiles = tour_de_swiss.stage_profiles()\n",
    "profiles"
   ]
  },
  {
   "cell_type": "code",
   "execution_count": null,
   "id": "b2a69bc2-a0de-45dd-8801-ab26b6b01934",
   "metadata": {},
   "outputs": [],
   "source": []
  }
 ],
 "metadata": {
  "kernelspec": {
   "display_name": "Python 3 (ipykernel)",
   "language": "python",
   "name": "python3"
  },
  "language_info": {
   "codemirror_mode": {
    "name": "ipython",
    "version": 3
   },
   "file_extension": ".py",
   "mimetype": "text/x-python",
   "name": "python",
   "nbconvert_exporter": "python",
   "pygments_lexer": "ipython3",
   "version": "3.12.7"
  }
 },
 "nbformat": 4,
 "nbformat_minor": 5
}
