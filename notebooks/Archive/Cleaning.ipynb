{
 "cells": [
  {
   "cell_type": "code",
   "execution_count": null,
   "id": "53045047-23eb-4cfd-afce-61dc2430ef77",
   "metadata": {},
   "outputs": [],
   "source": [
    "import pandas as pd\n",
    "import requests\n",
    "from bs4 import BeautifulSoup"
   ]
  },
  {
   "cell_type": "code",
   "execution_count": null,
   "id": "2a9521b3-db75-42aa-8e17-75cb859168f0",
   "metadata": {},
   "outputs": [],
   "source": [
    "#code to webscrape PC for race class\n",
    "\n",
    "url = \"https://www.procyclingstats.com/races.php?year=2025&month=&xnation=&filter=Filter&p=gravel&s=gravel-calendar\"\n",
    "\n",
    "headers = {\n",
    "    \"User-Agent\": \"Mozilla/5.0 (Windows NT 10.0; Win64; x64) AppleWebKit/537.36 (KHTML, like Gecko) Chrome/91.0.4472.124 Safari/537.36\"\n",
    "}\n",
    "\n",
    "response = requests.get(url, headers=headers)\n",
    "soup = BeautifulSoup(response.text, \"html.parser\")\n",
    "\n",
    "table = soup.find(\"table\", {\"class\": \"basic\"})\n",
    "\n",
    "headers = [th.text.strip() for th in table.find_all(\"th\")]\n",
    "\n",
    "data = []\n",
    "for row in table.find_all(\"tr\")[1:]:\n",
    "    cells = row.find_all(\"td\")\n",
    "    data.append([cell.text.strip() for cell in cells])\n",
    "\n",
    "df = pd.DataFrame(data, columns=headers)\n",
    "df.to_excel(\"uci_gravel_race_classifications_2025.xlsx\", index=False)"
   ]
  },
  {
   "cell_type": "code",
   "execution_count": null,
   "id": "800962ca-8ce5-4c88-95ba-770b3cccd87f",
   "metadata": {},
   "outputs": [],
   "source": [
    "core_df = pd.read_excel(r\"C:\\Users\\mrmik\\OneDrive\\Desktop\\NSS\\Python\\Projects\\Cycling_Capstone\\data\\structured_course_data.xlsx\")\n",
    "core_df"
   ]
  },
  {
   "cell_type": "code",
   "execution_count": null,
   "id": "76534ff4-6893-46e4-82dd-5b740c1a5601",
   "metadata": {
    "scrolled": true
   },
   "outputs": [],
   "source": [
    "class_df = pd.read_excel(r\"C:\\Users\\mrmik\\OneDrive\\Desktop\\NSS\\Python\\Projects\\Cycling_Capstone\\notebooks\\Output\\uci_race_classifications_total.xlsx\")\n",
    "class_df = class_df.rename(columns={'Race': 'Race Name', 'Class': 'Race Level'})\n",
    "class_df"
   ]
  },
  {
   "cell_type": "code",
   "execution_count": null,
   "id": "4964099e-1be1-478d-a525-833e911d189e",
   "metadata": {},
   "outputs": [],
   "source": [
    "from thefuzz import process"
   ]
  },
  {
   "cell_type": "code",
   "execution_count": null,
   "id": "2111d609-2ae6-47c4-a980-029abc3c6883",
   "metadata": {},
   "outputs": [],
   "source": [
    "def match_race_name(race_name, choices, threshold=90):\n",
    "    match, score = process.extractOne(race_name, choices)\n",
    "    return match if score >= threshold else None"
   ]
  },
  {
   "cell_type": "code",
   "execution_count": null,
   "id": "bfaece14-c113-48bf-a062-08ec8ac3b867",
   "metadata": {},
   "outputs": [],
   "source": [
    "core_df['Matched Race Name'] = core_df['Race Name'].apply(lambda x: match_race_name(x, class_df['Race Name'].tolist()))"
   ]
  },
  {
   "cell_type": "code",
   "execution_count": null,
   "id": "dfc2aabb-e735-4d81-8d71-52f48da4abca",
   "metadata": {},
   "outputs": [],
   "source": [
    "merged_df = core_df.merge(class_df, left_on='Matched Race Name', right_on='Race Name', how='left', suffixes=('_old', ''))"
   ]
  },
  {
   "cell_type": "code",
   "execution_count": null,
   "id": "eb0e93ab-a321-4c72-8256-47eca8f28822",
   "metadata": {},
   "outputs": [],
   "source": [
    "merged_df = merged_df.drop(columns=['Race Name_old', 'Matched Race Name']).rename(columns={'Race Name': 'Race Name', 'Race Level': 'Race Level'})"
   ]
  },
  {
   "cell_type": "code",
   "execution_count": null,
   "id": "30a9ca19-3ec5-42c3-ba3f-ea174dff82fe",
   "metadata": {},
   "outputs": [],
   "source": [
    "merged_df.to_excel('reset_threshold_matched_Race_Name.xlsx')"
   ]
  },
  {
   "cell_type": "code",
   "execution_count": null,
   "id": "8174f8c8-0e65-4a7e-bfe8-7b86405faafa",
   "metadata": {},
   "outputs": [],
   "source": [
    "core_df = pd.read_excel(r\"C:\\Users\\mrmik\\OneDrive\\Desktop\\NSS\\Python\\Projects\\Cycling_Capstone\\notebooks\\core.xlsx\")"
   ]
  },
  {
   "cell_type": "code",
   "execution_count": null,
   "id": "23cc6f87-388b-4687-ab51-d7e366619d0e",
   "metadata": {},
   "outputs": [],
   "source": [
    "core_df"
   ]
  },
  {
   "cell_type": "code",
   "execution_count": null,
   "id": "ee646daa-670f-4089-9c16-53c64ea1e098",
   "metadata": {},
   "outputs": [],
   "source": [
    "core_df = core_df.drop('Race Level_old', axis=1)"
   ]
  },
  {
   "cell_type": "code",
   "execution_count": null,
   "id": "74ec2f20-5ca2-4222-bf5f-6df0df7cae4c",
   "metadata": {},
   "outputs": [],
   "source": [
    "core_df = core_df.drop('Unnamed: 0', axis=1)\t"
   ]
  },
  {
   "cell_type": "code",
   "execution_count": null,
   "id": "bb0310f6-ebb7-4319-92ff-397ec9c57c03",
   "metadata": {},
   "outputs": [],
   "source": [
    "core_df = core_df[['Race Name', 'Dates', 'Race Type', 'Race Level', 'Gender', 'Distance', 'Street',\t'Road',\t'Paved','Asphalt', 'Path', 'Cycleway', 'Unpaved', 'State Road',\t'Cobblestones',\t'Unknown', 'Compacted Gravel', 'Off-grid (unknown)', 'Singletrack',\t'Access Road', 'Alpine', 'Net Gain', 'Lowest Elevation', 'Highest Elevation', 'Vertical Gain', 'Downhill'\n",
    "]]"
   ]
  },
  {
   "cell_type": "code",
   "execution_count": null,
   "id": "59c87ef8-9f12-4086-bae5-0464a9d08672",
   "metadata": {},
   "outputs": [],
   "source": [
    "core_df.to_excel('core.xlsx')"
   ]
  },
  {
   "cell_type": "code",
   "execution_count": null,
   "id": "19a6b31f-5b36-4c06-904f-b7fd805bbe85",
   "metadata": {},
   "outputs": [],
   "source": [
    "no_class_df = pd.read_excel(r\"C:\\Users\\mrmik\\OneDrive\\Desktop\\NSS\\Python\\Projects\\Cycling_Capstone\\notebooks\\core_dataframe.xlsx\")\n",
    "no_class_df"
   ]
  },
  {
   "cell_type": "code",
   "execution_count": null,
   "id": "4db4da31-d36a-4bf5-b2d6-8352ea392d64",
   "metadata": {},
   "outputs": [],
   "source": [
    "no_class_df['Year'] = no_class_df['Race Name'].str.extract(r'(\\d{4})')"
   ]
  },
  {
   "cell_type": "code",
   "execution_count": null,
   "id": "6a5adec3-9ee4-468c-bce7-7daa815ed724",
   "metadata": {},
   "outputs": [],
   "source": [
    "no_class_df['Year'].unique()"
   ]
  },
  {
   "cell_type": "code",
   "execution_count": null,
   "id": "21c58650-ce5c-4c31-bb6f-df1d2e9eb4c0",
   "metadata": {},
   "outputs": [],
   "source": [
    "no_class_df['Race Name'] = no_class_df['Race Name'].str.replace(r'\\d{4}', '', regex=True).str.strip()"
   ]
  },
  {
   "cell_type": "code",
   "execution_count": null,
   "id": "2fc91013-4121-4f93-8464-80e9670a0c12",
   "metadata": {},
   "outputs": [],
   "source": [
    "no_class_df['Race Level'] = ''"
   ]
  },
  {
   "cell_type": "code",
   "execution_count": null,
   "id": "b6f542b5-953d-46c7-a193-f77f8b7445ea",
   "metadata": {},
   "outputs": [],
   "source": [
    "import json\n",
    "with open(r\"C:\\Users\\mrmik\\OneDrive\\Desktop\\NSS\\Python\\Projects\\Cycling_Capstone\\notebooks\\race_dict.json\", \"r\") as f:\n",
    "    race_dict = json.load(f)"
   ]
  },
  {
   "cell_type": "code",
   "execution_count": null,
   "id": "ad1c6d99-73bf-4c8b-b28b-d3442058b4e0",
   "metadata": {},
   "outputs": [],
   "source": [
    "no_class_df['Race Level'] = no_class_df['Race Name'].map(race_dict)"
   ]
  },
  {
   "cell_type": "code",
   "execution_count": null,
   "id": "84554815-46cc-4346-a3cc-e738ce39871a",
   "metadata": {},
   "outputs": [],
   "source": [
    "no_class_df['Race Level'].unique()"
   ]
  },
  {
   "cell_type": "code",
   "execution_count": null,
   "id": "d0e56062-9601-43f0-bd67-2c0449ff1e5f",
   "metadata": {},
   "outputs": [],
   "source": [
    "no_class_df['Race Level'].describe()"
   ]
  },
  {
   "cell_type": "code",
   "execution_count": null,
   "id": "aae44613-5331-4c33-8092-f779b305e4bc",
   "metadata": {},
   "outputs": [],
   "source": [
    "no_class_df['Matched Race Name'] = no_class_df['Race Name'].apply(lambda x: match_race_name(x, list(race_dict.keys())))"
   ]
  },
  {
   "cell_type": "code",
   "execution_count": null,
   "id": "9c51752b-3d18-4051-a7c8-719bc2bc5b1c",
   "metadata": {},
   "outputs": [],
   "source": [
    "no_class_df['Race Level'] = no_class_df['Matched Race Name'].map(race_dict)"
   ]
  },
  {
   "cell_type": "code",
   "execution_count": null,
   "id": "6eda9d71-f87f-4c6a-b83f-f064434a6441",
   "metadata": {},
   "outputs": [],
   "source": [
    "no_class_df['Race Name'] = no_class_df['Matched Race Name'].fillna(no_class_df['Race Name'])"
   ]
  },
  {
   "cell_type": "code",
   "execution_count": null,
   "id": "406b7d8f-4e10-4f50-8ae7-8745ee084443",
   "metadata": {},
   "outputs": [],
   "source": [
    "no_class_df['Race Level'].unique()"
   ]
  },
  {
   "cell_type": "code",
   "execution_count": null,
   "id": "d5ed4d90-3d96-45a4-85ae-0a8014ae6857",
   "metadata": {},
   "outputs": [],
   "source": [
    "no_class_df['Matched Race Name'] = no_class_df['Race Name'].apply(lambda x: match_race_name(x, class_df['Race Name'].tolist()))\n",
    "no_class_df = no_class_df.merge(class_df, left_on='Matched Race Name', right_on='Race Name', how='left', suffixes=('_old', ''))\n",
    "no_class_df['Race Name'] = no_class_df['Matched Race Name'].fillna(no_class_df['Race Name'])\n",
    "no_class_df['Race Level'] = no_class_df['Race Level'].fillna(no_class_df['Race Level_old'])"
   ]
  },
  {
   "cell_type": "code",
   "execution_count": null,
   "id": "c7233243-5c80-4413-8eb5-15fb7bda3fea",
   "metadata": {},
   "outputs": [],
   "source": [
    "no_class_df = no_class_df.drop(columns=['Race Level_old', 'Matched Race Name'])"
   ]
  },
  {
   "cell_type": "code",
   "execution_count": null,
   "id": "e59d7fb2-5c60-4265-9bd0-7b0b3d279bfb",
   "metadata": {},
   "outputs": [],
   "source": [
    "no_class_df = no_class_df.rename(columns={'Race Name_old':'Race Name'})"
   ]
  },
  {
   "cell_type": "code",
   "execution_count": null,
   "id": "7558bedc-c3d0-497d-b93e-0d53098568c2",
   "metadata": {},
   "outputs": [],
   "source": [
    "no_class_df.to_excel(r'no_class_df.xlsx')"
   ]
  },
  {
   "cell_type": "code",
   "execution_count": null,
   "id": "0f5c495a-4958-48e7-86aa-99aed50f3b7c",
   "metadata": {},
   "outputs": [],
   "source": [
    "gravel = pd.read_excel(r\"C:\\Users\\mrmik\\OneDrive\\Desktop\\NSS\\Python\\Projects\\Cycling_Capstone\\data\\uci_gravel_race_classifications.xlsx\")"
   ]
  },
  {
   "cell_type": "code",
   "execution_count": null,
   "id": "a229dfa8-0839-41ee-b047-eada41bfc458",
   "metadata": {},
   "outputs": [],
   "source": [
    "gravel = gravel[gravel['Category'] == 'ME']"
   ]
  },
  {
   "cell_type": "code",
   "execution_count": null,
   "id": "ab1a52d5-3703-42fd-a764-ef6c601207e9",
   "metadata": {},
   "outputs": [],
   "source": [
    "gravel.to_excel('mens_gravel_races.xlsx')"
   ]
  },
  {
   "cell_type": "code",
   "execution_count": null,
   "id": "5f22125f-4d9d-4c9e-8edc-e1dc0c732899",
   "metadata": {},
   "outputs": [],
   "source": []
  }
 ],
 "metadata": {
  "kernelspec": {
   "display_name": "Python 3 (ipykernel)",
   "language": "python",
   "name": "python3"
  },
  "language_info": {
   "codemirror_mode": {
    "name": "ipython",
    "version": 3
   },
   "file_extension": ".py",
   "mimetype": "text/x-python",
   "name": "python",
   "nbconvert_exporter": "python",
   "pygments_lexer": "ipython3",
   "version": "3.12.7"
  }
 },
 "nbformat": 4,
 "nbformat_minor": 5
}
