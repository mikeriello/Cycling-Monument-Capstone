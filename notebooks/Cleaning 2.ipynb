{
 "cells": [
  {
   "cell_type": "code",
   "execution_count": null,
   "id": "b068bf82-f43d-4971-8a0a-4626fb5629d7",
   "metadata": {},
   "outputs": [],
   "source": [
    "import pandas as pd\n",
    "import requests\n",
    "from bs4 import BeautifulSoup\n",
    "import re"
   ]
  },
  {
   "cell_type": "code",
   "execution_count": null,
   "id": "0ba67e27-318e-4342-bcad-5a6e9afd083b",
   "metadata": {
    "scrolled": true
   },
   "outputs": [],
   "source": [
    "core_df = pd.read_excel(r\"C:\\Users\\mrmik\\OneDrive\\Desktop\\NSS\\Python\\Projects\\Cycling_Capstone\\data\\structured_course_data.xlsx\")\n",
    "core_df"
   ]
  },
  {
   "cell_type": "code",
   "execution_count": null,
   "id": "4dc78214-bf4e-44c3-8ecd-c97cb9e2e4db",
   "metadata": {},
   "outputs": [],
   "source": [
    "core_df['cleaned race names'] = core_df['Race Name'].str.replace(r'\\b\\d{4}\\b', '', regex=True)"
   ]
  },
  {
   "cell_type": "code",
   "execution_count": null,
   "id": "feee447d-9d01-4329-9d0e-44e911786732",
   "metadata": {},
   "outputs": [],
   "source": [
    "core_df['cleaned race names'] = core_df['cleaned race names'].str.replace('Stage', '', regex=False)"
   ]
  },
  {
   "cell_type": "code",
   "execution_count": null,
   "id": "6a046c63-a323-49ad-9418-f4aa76827432",
   "metadata": {},
   "outputs": [],
   "source": [
    "core_df['cleaned race names'] = core_df['cleaned race names'].str.replace(r'\\d+', '', regex=True)"
   ]
  },
  {
   "cell_type": "code",
   "execution_count": null,
   "id": "0efccf27-9704-47cc-b834-2fcb9e88df47",
   "metadata": {},
   "outputs": [],
   "source": [
    "cleaned_names = core_df[['cleaned race names']]\n",
    "cleaned_names"
   ]
  },
  {
   "cell_type": "code",
   "execution_count": null,
   "id": "577d515b-ec30-4e05-990e-5e80646a707a",
   "metadata": {},
   "outputs": [],
   "source": [
    "cleaned_names.to_excel('cleaned_names.xlsx')"
   ]
  },
  {
   "cell_type": "code",
   "execution_count": null,
   "id": "0fabae61-f48e-4865-92b0-ea3d4028f494",
   "metadata": {},
   "outputs": [],
   "source": [
    "cleaned_names['cleaned race names'] = cleaned_names['cleaned race names'].str.replace('-', '')"
   ]
  },
  {
   "cell_type": "code",
   "execution_count": null,
   "id": "4313d3a8-01df-418c-9a27-0c7f6541e89e",
   "metadata": {},
   "outputs": [],
   "source": [
    "cleaned_names"
   ]
  },
  {
   "cell_type": "code",
   "execution_count": null,
   "id": "ddf60ead-4185-4190-bdcf-11adef111405",
   "metadata": {},
   "outputs": [],
   "source": [
    "# going to try and pull just the race names themselves from the PCS api"
   ]
  },
  {
   "cell_type": "code",
   "execution_count": null,
   "id": "951bceb9-0239-4d8b-9d0e-81b56fe2b5ae",
   "metadata": {},
   "outputs": [],
   "source": [
    "pip install procyclingstats"
   ]
  },
  {
   "cell_type": "code",
   "execution_count": null,
   "id": "20c78824-2093-43f4-b4d9-d797ae2442c5",
   "metadata": {},
   "outputs": [],
   "source": [
    "import procyclingstats as pcs"
   ]
  },
  {
   "cell_type": "code",
   "execution_count": null,
   "id": "c1bdd0bf-503e-497e-8f7d-96c401bc1c4a",
   "metadata": {},
   "outputs": [],
   "source": []
  },
  {
   "cell_type": "code",
   "execution_count": null,
   "id": "ce488940-d8c0-4cd4-9a75-20dcdc06805e",
   "metadata": {},
   "outputs": [],
   "source": [
    "core_df['Year'] = core_df['Race Name'].str.extract(r'(\\d{4})')"
   ]
  },
  {
   "cell_type": "code",
   "execution_count": null,
   "id": "f2018558-c570-4f97-86f2-2fa8e92c16b0",
   "metadata": {},
   "outputs": [],
   "source": [
    "core_df['Year'].value_counts()"
   ]
  },
  {
   "cell_type": "code",
   "execution_count": null,
   "id": "6b3b02dc-a2bf-422e-a4f9-40f7e1d76b27",
   "metadata": {},
   "outputs": [],
   "source": [
    "core_2017 = core_df[core_df['Year'] == 2017]\n",
    "core_2018 = core_df[core_df['Year'] == 2018]\n",
    "core_2019 = core_df[core_df['Year'] == 2019]\n",
    "core_2020 = core_df[core_df['Year'] == 2020]\n",
    "core_2021 = core_df[core_df['Year'] == 2021]\n",
    "core_2022 = core_df[core_df['Year'] == 2022]\n",
    "core_2023 = core_df[core_df['Year'] == 2023]"
   ]
  },
  {
   "cell_type": "code",
   "execution_count": null,
   "id": "4c933b37-d681-4a44-9b0f-4352d8b76cdf",
   "metadata": {},
   "outputs": [],
   "source": [
    "core_df.info()"
   ]
  },
  {
   "cell_type": "code",
   "execution_count": null,
   "id": "79ffa429-8370-4848-b519-183a3eef220c",
   "metadata": {},
   "outputs": [],
   "source": [
    "core_df['Year'] = core_df['Year'].astype(int)"
   ]
  },
  {
   "cell_type": "code",
   "execution_count": null,
   "id": "6f6320fb-c942-4f68-90b1-25d043bec4d8",
   "metadata": {},
   "outputs": [],
   "source": [
    "core_2017"
   ]
  },
  {
   "cell_type": "code",
   "execution_count": null,
   "id": "33e9a0ee-f6fb-4c70-94fd-83925d5a7a58",
   "metadata": {},
   "outputs": [],
   "source": [
    "core_2017.to_excel('core_2017.xlsx')\n",
    "core_2018.to_excel('core_2018.xlsx')\n",
    "core_2019.to_excel('core_2019.xlsx')\n",
    "core_2020.to_excel('core_2020.xlsx')\n",
    "core_2021.to_excel('core_2021.xlsx')\n",
    "core_2022.to_excel('core_2022.xlsx')\n",
    "core_2023.to_excel('core_2023.xlsx')"
   ]
  },
  {
   "cell_type": "code",
   "execution_count": null,
   "id": "c415ac59-4a26-443f-bb33-e13f98b8e4cf",
   "metadata": {
    "scrolled": true
   },
   "outputs": [],
   "source": [
    "import requests\n",
    "import csv\n",
    "import time\n",
    "\n",
    "def fetch_race_data(url, year, circuit):\n",
    "    response = requests.get(url, headers={\"User-Agent\": \"Mozilla/5.0\"})\n",
    "    soup = BeautifulSoup(response.text, 'html.parser')\n",
    "    race_table = soup.find('table', {'class': 'basic'})\n",
    "    \n",
    "    if not race_table:\n",
    "        return []\n",
    "\n",
    "    races = []\n",
    "    for row in race_table.find_all('tr')[1:]: \n",
    "        cols = row.find_all('td')\n",
    "        if len(cols) < 4:\n",
    "            continue\n",
    "\n",
    "        date = cols[0].get_text(strip=True)\n",
    "        race_name_tag = cols[1].find('a')\n",
    "        race_name = race_name_tag.get_text(strip=True) if race_name_tag else cols[1].get_text(strip=True)\n",
    "\n",
    "        race_classification = cols[-1].get_text(strip=True)\n",
    "\n",
    "        winner = cols[2].get_text(strip=True) if len(cols) > 2 else \"N/A\"\n",
    "        race_class = cols[3].get_text(strip=True) if len(cols) > 3 else \"N/A\"\n",
    "\n",
    "        races.append([year, circuit, date, race_name, race_classification, winner, race_class])\n",
    "\n",
    "    return races\n",
    "\n",
    "base_url = \"https://www.procyclingstats.com/races.php\"\n",
    "years = range(2017, 2024)\n",
    "circuits = [1, 2, 11, 12, 13, 14, 15, 16, 17, 18, 21, 24]\n",
    "\n",
    "all_races = []\n",
    "\n",
    "for year in years:\n",
    "    for circuit in circuits:\n",
    "        url = f\"{base_url}?year={year}&circuit={circuit}&class=&filter=Filter\"\n",
    "        races = fetch_race_data(url, year, circuit)\n",
    "        all_races.extend(races)\n",
    "\n",
    "with open('procyclingstats_races_2017_2023.csv', 'w', newline='', encoding='utf-8') as file:\n",
    "    writer = csv.writer(file)\n",
    "    writer.writerow(['Year', 'Circuit', 'Date', 'Date 2', 'Classification', 'Race Name', 'Winner'])\n",
    "    writer.writerows(all_races)\n",
    "\n",
    "print(\"Extraction complete\")"
   ]
  },
  {
   "cell_type": "code",
   "execution_count": null,
   "id": "f9319c61-24e3-4453-838e-377e2aa5e111",
   "metadata": {},
   "outputs": [],
   "source": [
    "def fetch_race_data(url, year, circuit):\n",
    "    response = requests.get(url, headers={\"User-Agent\": \"Mozilla/5.0\"})\n",
    "    soup = BeautifulSoup(response.text, 'html.parser')\n",
    "    race_table = soup.find('table', {'class': 'basic'})\n",
    "    \n",
    "    if not race_table:\n",
    "        return []\n",
    "\n",
    "    races = []\n",
    "    for row in race_table.find_all('tr')[1:]: \n",
    "        cols = row.find_all('td')\n",
    "        if len(cols) < 4:\n",
    "            continue\n",
    "\n",
    "        date = cols[0].get_text(strip=True)\n",
    "        race_name_tag = cols[1].find('a')\n",
    "        race_name = race_name_tag.get_text(strip=True) if race_name_tag else cols[1].get_text(strip=True)\n",
    "\n",
    "        race_classification = cols[-1].get_text(strip=True)\n",
    "\n",
    "        winner = cols[2].get_text(strip=True) if len(cols) > 2 else \"N/A\"\n",
    "        race_class = cols[3].get_text(strip=True) if len(cols) > 3 else \"N/A\"\n",
    "\n",
    "        races.append([year, circuit, date, race_name, race_classification, winner, race_class])\n",
    "\n",
    "    return races\n",
    "\n",
    "base_url = \"https://www.procyclingstats.com/races.php\"\n",
    "years = range(2017, 2024)\n",
    "circuits = [1]\n",
    "\n",
    "all_races = []\n",
    "\n",
    "for year in years:\n",
    "    for circuit in circuits:\n",
    "        url = f\"{base_url}?year={year}&circuit={circuit}&class=&filter=Filter\"\n",
    "        races = fetch_race_data(url, year, circuit)\n",
    "        all_races.extend(races)\n",
    "\n",
    "with open('procyclingstats_UCIworldtour_2017_2023.csv', 'w', newline='', encoding='utf-8') as file:\n",
    "    writer = csv.writer(file)\n",
    "    writer.writerow(['Year', 'Date', 'Date 2', 'Classification', 'Race Name', 'Winner'])\n",
    "    writer.writerows(all_races)\n",
    "\n",
    "print(\"Extraction complete\")"
   ]
  },
  {
   "cell_type": "code",
   "execution_count": null,
   "id": "0b955512-4a32-4818-a69f-e91e4bb39499",
   "metadata": {},
   "outputs": [],
   "source": []
  }
 ],
 "metadata": {
  "kernelspec": {
   "display_name": "Python 3 (ipykernel)",
   "language": "python",
   "name": "python3"
  },
  "language_info": {
   "codemirror_mode": {
    "name": "ipython",
    "version": 3
   },
   "file_extension": ".py",
   "mimetype": "text/x-python",
   "name": "python",
   "nbconvert_exporter": "python",
   "pygments_lexer": "ipython3",
   "version": "3.12.7"
  }
 },
 "nbformat": 4,
 "nbformat_minor": 5
}
