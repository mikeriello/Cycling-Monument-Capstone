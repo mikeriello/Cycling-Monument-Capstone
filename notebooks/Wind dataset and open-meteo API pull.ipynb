{
 "cells": [
  {
   "cell_type": "code",
   "execution_count": null,
   "id": "28919999-0a45-4c91-854b-cdb7f81eb22b",
   "metadata": {},
   "outputs": [],
   "source": [
    "import pandas as pd\n",
    "import requests\n",
    "from bs4 import BeautifulSoup"
   ]
  },
  {
   "cell_type": "code",
   "execution_count": null,
   "id": "1a5685cc-00fa-4af4-aa76-0a18372e7e9a",
   "metadata": {},
   "outputs": [],
   "source": [
    "baseline = pd.read_excel(r\"C:\\Users\\mrmik\\OneDrive\\Desktop\\NSS\\Python\\Projects\\Cycling_Capstone\\notebooks\\baseline_data.xlsx\")"
   ]
  },
  {
   "cell_type": "code",
   "execution_count": null,
   "id": "aecc59c5-310e-4c8e-b6d7-b38f28bb7358",
   "metadata": {},
   "outputs": [],
   "source": [
    "race_name_dict = baseline['Race Name'].to_dict()"
   ]
  },
  {
   "cell_type": "code",
   "execution_count": null,
   "id": "df40ad53-4718-4aff-acb9-30e84e8e3199",
   "metadata": {},
   "outputs": [],
   "source": [
    "race_name_mapping = dict(zip(baseline[\"PCS race entry\"], baseline[\"Race Name\"]))"
   ]
  },
  {
   "cell_type": "code",
   "execution_count": null,
   "id": "b9131207-455b-41a9-a2c4-3b1051a3f720",
   "metadata": {},
   "outputs": [],
   "source": [
    "# Following code pulls GPX coordinates from files"
   ]
  },
  {
   "cell_type": "code",
   "execution_count": null,
   "id": "78542f5a-3400-4c5c-b495-549a4923473a",
   "metadata": {
    "scrolled": true
   },
   "outputs": [],
   "source": [
    "import os\n",
    "import gpxpy\n",
    "\n",
    "gpx_folder = r\"C:\\Users\\mrmik\\OneDrive\\Desktop\\NSS\\Python\\Projects\\Cycling_Capstone\\data\\euro classics gpx\"\n",
    "\n",
    "def extract_gpx_coordinates(gpx_file, num_samples=10):\n",
    "    with open(gpx_file, \"r\") as f:\n",
    "        gpx = gpxpy.parse(f)\n",
    "    \n",
    "    coordinates = []\n",
    "    for track in gpx.tracks:\n",
    "        for segment in track.segments:\n",
    "            for point in segment.points:\n",
    "                coordinates.append((point.latitude, point.longitude))\n",
    "                if len(coordinates) == num_samples:\n",
    "                    return coordinates  \n",
    "    return coordinates \n",
    "\n",
    "gpx_data = {}\n",
    "\n",
    "for file in os.listdir(gpx_folder):\n",
    "    if file.endswith(\".gpx\"):\n",
    "        raw_name = file.replace(\".gpx\", \"\").strip().lower()  \n",
    "        formatted_name = raw_name.replace(\"_\", \"\").replace(\" \", \"\") \n",
    "        gpx_path = os.path.join(gpx_folder, file)\n",
    "        gpx_data[formatted_name] = extract_gpx_coordinates(gpx_path)\n",
    "\n",
    "gpx_df = pd.DataFrame(list(gpx_data.items()), columns=[\"PCS race entry\", \"race_coords\"])\n",
    "\n",
    "baseline = baseline.merge(gpx_df, on='PCS race entry', how='left')"
   ]
  },
  {
   "cell_type": "code",
   "execution_count": null,
   "id": "e90a49d8-95cd-4ab8-b3d9-ef279b74003f",
   "metadata": {},
   "outputs": [],
   "source": [
    "gpx_df[\"Race Name\"] = gpx_df[\"PCS race entry\"].map(race_name_mapping)"
   ]
  },
  {
   "cell_type": "code",
   "execution_count": null,
   "id": "ec8886c6-f014-4601-bd64-fe79546157be",
   "metadata": {},
   "outputs": [],
   "source": [
    "gpx_df['Year'] = gpx_df['PCS race entry'].str.extract(r'(\\d{4})').astype(int)"
   ]
  },
  {
   "cell_type": "code",
   "execution_count": null,
   "id": "be06aff3-cace-4f44-92c0-9a62298fd7de",
   "metadata": {},
   "outputs": [],
   "source": [
    "gpx_df.loc[98, \"Race Name\"] = \"Ronde van Vlaanderen\""
   ]
  },
  {
   "cell_type": "code",
   "execution_count": null,
   "id": "ef7735ef-4741-4461-9e3c-d5b48fc62188",
   "metadata": {},
   "outputs": [],
   "source": [
    "gpx_df = gpx_df.sort_values(by=['Race Name', 'Year'], ascending=[True, True])"
   ]
  },
  {
   "cell_type": "code",
   "execution_count": null,
   "id": "a46011c8-a266-4817-841a-0376d4b8911a",
   "metadata": {},
   "outputs": [],
   "source": [
    "subset_baseline = baseline[['PCS race entry']]\n",
    "subset_gpx = gpx_df[['PCS race entry']]"
   ]
  },
  {
   "cell_type": "code",
   "execution_count": null,
   "id": "f1732ec4-11e5-4d99-aa17-9adc776d82c3",
   "metadata": {},
   "outputs": [],
   "source": [
    "gpx_df[gpx_df.isnull().any(axis=1)]"
   ]
  },
  {
   "cell_type": "code",
   "execution_count": null,
   "id": "8adaefc1-6b0e-4eef-882a-dbb081e51761",
   "metadata": {},
   "outputs": [],
   "source": [
    "gpx_df.loc[49, \"Race Name\"] = \"Liege - Bastogne - Liege\"\n",
    "gpx_df.loc[68, \"Race Name\"] = \"Ronde van Vlaanderen\""
   ]
  },
  {
   "cell_type": "code",
   "execution_count": null,
   "id": "ec1663f4-fe43-4614-9702-850049a6a017",
   "metadata": {},
   "outputs": [],
   "source": [
    "# After realizing my original pull brought in all the coords for each race, I changed my approach to only include the first, middle, and last sets of coords"
   ]
  },
  {
   "cell_type": "code",
   "execution_count": null,
   "id": "0f451888-de0a-40e8-9d79-2db619ef827f",
   "metadata": {},
   "outputs": [],
   "source": [
    "pip install meteostat"
   ]
  },
  {
   "cell_type": "code",
   "execution_count": null,
   "id": "9a9da5e4-4365-41ea-ab0b-ed286949473b",
   "metadata": {},
   "outputs": [],
   "source": [
    "import time\n",
    "import os\n",
    "from meteostat import Point, Hourly"
   ]
  },
  {
   "cell_type": "code",
   "execution_count": null,
   "id": "51560dfd-8134-48bf-a8f9-ca143de6d047",
   "metadata": {
    "scrolled": true
   },
   "outputs": [],
   "source": [
    "def extract_points(gpx_file):\n",
    "    with open(gpx_file, 'r') as f:\n",
    "        gpx = gpxpy.parse(f)\n",
    "\n",
    "    points = gpx.tracks[0].segments[0].points\n",
    "    start = points[0]\n",
    "    mid = points[len(points) // 2]\n",
    "    end = points[-1]\n",
    "\n",
    "    return [\n",
    "        (start.latitude, start.longitude),\n",
    "        (mid.latitude, mid.longitude),\n",
    "        (end.latitude, end.longitude)\n",
    "    ]\n",
    "\n",
    "gpx_folder = r\"C:\\Users\\mrmik\\OneDrive\\Desktop\\NSS\\Python\\Projects\\Cycling_Capstone\\data\\euro classics gpx\"\n",
    "\n",
    "gpx_files = [os.path.join(gpx_folder, file) for file in os.listdir(gpx_folder) if file.endswith('.gpx')]\n",
    "total_points = {file: extract_points(file) for file in gpx_files}"
   ]
  },
  {
   "cell_type": "code",
   "execution_count": null,
   "id": "6cf3e78e-6a2f-4672-ba22-1ddb9592d0ed",
   "metadata": {
    "scrolled": true
   },
   "outputs": [],
   "source": [
    "total_points"
   ]
  },
  {
   "cell_type": "code",
   "execution_count": null,
   "id": "ed188402-2516-48d6-863e-242b2ba921e4",
   "metadata": {},
   "outputs": [],
   "source": [
    "import requests\n",
    "\n",
    "def get_wind_data(lat, lon):\n",
    "    url = f\"https://api.open-meteo.com/v1/forecast?latitude={lat}&longitude={lon}&hourly=windspeed_10m,winddirection_10m&timezone=auto\"\n",
    "    \n",
    "    response = requests.get(url)\n",
    "    data = response.json()\n",
    "\n",
    "    wind_speed = data[\"hourly\"][\"windspeed_10m\"][0] \n",
    "    wind_direction = data[\"hourly\"][\"winddirection_10m\"][0]\n",
    "\n",
    "    return wind_speed, wind_direction"
   ]
  },
  {
   "cell_type": "code",
   "execution_count": null,
   "id": "3a93ccd0-7b9c-4a35-bbae-00b53bbb79a5",
   "metadata": {},
   "outputs": [],
   "source": [
    "results = []\n",
    "\n",
    "for file, points in total_points.items():\n",
    "    for i, (lat, lon) in enumerate(points):\n",
    "        wind_speed, wind_dir = get_wind_data(lat, lon)\n",
    "        results.append([file, i, lat, lon, wind_speed, wind_dir])\n",
    "\n",
    "windspeed_df = pd.DataFrame(results, columns=[\"File\", \"Index\", \"Latitude\", \"Longitude\", \"Windspeed_kmh\", \"Wind_direction\"])\n",
    "print(windspeed_df)\n",
    "\n",
    "windspeed_df.to_csv(\"wind_speed.csv\", index=False)"
   ]
  },
  {
   "cell_type": "code",
   "execution_count": null,
   "id": "20a33c1d-01ae-4e8a-9bf5-8a55e131dbba",
   "metadata": {},
   "outputs": [],
   "source": [
    "windspeed_df['File']"
   ]
  },
  {
   "cell_type": "code",
   "execution_count": null,
   "id": "d4c795f5-a0a1-4941-a922-a835d2a9ff64",
   "metadata": {},
   "outputs": [],
   "source": [
    "#windspeed = pd.read_excel(r\"C:\\Users\\mrmik\\OneDrive\\Desktop\\NSS\\Python\\Projects\\Cycling_Capstone\\notebooks\\wind_speed.xlsx\")"
   ]
  },
  {
   "cell_type": "code",
   "execution_count": null,
   "id": "611e3b26-44eb-4c82-b81f-da0eafaf48f7",
   "metadata": {},
   "outputs": [],
   "source": [
    "windspeed_df['Cardinal_direction'] = ''"
   ]
  },
  {
   "cell_type": "code",
   "execution_count": null,
   "id": "83d7c85a-11e3-43d3-accf-0b443a92a035",
   "metadata": {},
   "outputs": [],
   "source": [
    "# Following code converts wind direction in degrees to compass direction"
   ]
  },
  {
   "cell_type": "code",
   "execution_count": null,
   "id": "ad784bf1-916b-4cd8-aaee-e33e1052c0f1",
   "metadata": {},
   "outputs": [],
   "source": [
    "def get_cardinal_direction(degrees):\n",
    "    directions = ['N', 'NNE', 'NE', 'ENE', 'E', 'ESE', 'SE', 'SSE', 'S', 'SSW', 'SW', 'WSW', 'W', 'WNW', 'NW', 'NNW', 'N']\n",
    "    index = round(degrees / 22.5) % 16\n",
    "    return directions[index]"
   ]
  },
  {
   "cell_type": "code",
   "execution_count": null,
   "id": "8b2dfeed-c52f-4dce-bfad-47143ce50370",
   "metadata": {},
   "outputs": [],
   "source": [
    "def get_cardinal_direction_df(df, wind_col='Wind_direction'):\n",
    "    df['Cardinal_direction'] = df[wind_col].apply(get_cardinal_direction)\n",
    "\n",
    "get_cardinal_direction_df(windspeed_df)"
   ]
  },
  {
   "cell_type": "code",
   "execution_count": null,
   "id": "8bda16c2-a50b-4587-9c18-8071e62144d2",
   "metadata": {},
   "outputs": [],
   "source": [
    "windspeed_df = windspeed_df.drop(columns=['Compass direction', 'Cardinel direction', 'Cardinal direction'])"
   ]
  },
  {
   "cell_type": "code",
   "execution_count": null,
   "id": "7e0dd282-2c1d-4f2a-9ad2-1592ea1d03cd",
   "metadata": {},
   "outputs": [],
   "source": [
    "windspeed_df.dtypes"
   ]
  },
  {
   "cell_type": "code",
   "execution_count": null,
   "id": "6095deac-ad31-4793-a287-f7d03f5ad423",
   "metadata": {},
   "outputs": [],
   "source": [
    "windspeed_df.at[0, 'File']"
   ]
  },
  {
   "cell_type": "code",
   "execution_count": null,
   "id": "276cdfcc-f756-491d-aed3-b8dc851812f2",
   "metadata": {},
   "outputs": [],
   "source": [
    "windspeed_df['File'] = windspeed_df['File'].apply(lambda x: os.path.splitext(os.path.basename(x))[0])"
   ]
  },
  {
   "cell_type": "code",
   "execution_count": null,
   "id": "f37502ac-3244-42f7-8aa9-b1633142464f",
   "metadata": {
    "scrolled": true
   },
   "outputs": [],
   "source": [
    "windspeed_df['File'].unique()"
   ]
  },
  {
   "cell_type": "code",
   "execution_count": null,
   "id": "1407ae34-7567-4c29-8e96-05f604300d39",
   "metadata": {},
   "outputs": [],
   "source": [
    "windspeed_df = windspeed_df.rename(columns={'File': 'Race Name'})"
   ]
  },
  {
   "cell_type": "code",
   "execution_count": null,
   "id": "6fe314df-afd8-4d61-92e8-ae6c74eb258c",
   "metadata": {},
   "outputs": [],
   "source": [
    "windspeed_df['Year'] = ''"
   ]
  },
  {
   "cell_type": "code",
   "execution_count": null,
   "id": "3ad97131-151e-4036-84bf-dbf064ca7ca6",
   "metadata": {},
   "outputs": [],
   "source": [
    "windspeed_df['Year'] = windspeed_df['Race Name'].str.extract(r'(\\d{4})').astype(int)"
   ]
  },
  {
   "cell_type": "code",
   "execution_count": null,
   "id": "e1203b18-8f05-4538-b258-fb0227f14c55",
   "metadata": {},
   "outputs": [],
   "source": [
    "windspeed_df.to_excel('windspeed_df.xlsx')"
   ]
  },
  {
   "cell_type": "code",
   "execution_count": null,
   "id": "8845ee46-84f9-4a86-be80-f073e55579a6",
   "metadata": {},
   "outputs": [],
   "source": [
    "windspeed_df = pd.read_excel(r\"C:\\Users\\mrmik\\OneDrive\\Desktop\\NSS\\Python\\Projects\\Cycling_Capstone\\notebooks\\windspeed_df.xlsx\")"
   ]
  },
  {
   "cell_type": "code",
   "execution_count": null,
   "id": "e274cd00-6ef2-4fc6-bc34-0726637e2bf0",
   "metadata": {},
   "outputs": [],
   "source": [
    "windspeed_df = windspeed_df.sort_values(by=['Race Name', 'Year'], ascending=[True, True])"
   ]
  },
  {
   "cell_type": "code",
   "execution_count": null,
   "id": "5a243714-6b48-412f-974a-315f3aad5d31",
   "metadata": {},
   "outputs": [],
   "source": [
    "pps = pd.read_excel(r\"C:\\Users\\mrmik\\OneDrive\\Desktop\\NSS\\Python\\Projects\\Cycling_Capstone\\notebooks\\rider_points.xlsx\")"
   ]
  },
  {
   "cell_type": "code",
   "execution_count": null,
   "id": "76d31b01-6199-44ad-b537-de73ad99af3d",
   "metadata": {},
   "outputs": [],
   "source": [
    "pps = pps.rename(columns={'Rider': 'Winner'})"
   ]
  },
  {
   "cell_type": "code",
   "execution_count": null,
   "id": "de65b05c-0571-435a-ace7-0a00ef85514e",
   "metadata": {},
   "outputs": [],
   "source": [
    "baseline = pd.merge(baseline, pps, on='Winner', how='inner')"
   ]
  },
  {
   "cell_type": "code",
   "execution_count": null,
   "id": "14a9a0bc-1d65-4f0f-af4d-58e2b3a46ba5",
   "metadata": {},
   "outputs": [],
   "source": [
    "for index, column_name in enumerate(baseline.columns):\n",
    "    print(f\"Column index: {index}, Column name: {column_name}\")"
   ]
  },
  {
   "cell_type": "code",
   "execution_count": null,
   "id": "e51f73f2-7d08-41e2-bdf3-3d14b2fd711f",
   "metadata": {},
   "outputs": [],
   "source": [
    "baseline = baseline.iloc[:, [0,1,2,3,4,25,26,27,28,29, 5,6,7,8,9, 10, 11,12,13,14,15,16,17,18,19,20,21,22,23]]"
   ]
  },
  {
   "cell_type": "code",
   "execution_count": null,
   "id": "83876b4e-e205-41b7-8212-bbe2f89fb5c4",
   "metadata": {},
   "outputs": [],
   "source": [
    "baseline = baseline.rename(columns={'gc': 'GC speciality points', 'time_trial': 'time_trial speciality points', 'sprint': 'sprint speciality points', 'climber': 'climber speciality points', 'hills': 'hills speciality points'})"
   ]
  },
  {
   "cell_type": "code",
   "execution_count": null,
   "id": "02b89337-f659-4217-80e0-de646403fe3a",
   "metadata": {},
   "outputs": [],
   "source": [
    "baseline.at[0, 'race_coords']"
   ]
  },
  {
   "cell_type": "code",
   "execution_count": null,
   "id": "4bec0bcb-d518-4cb0-bb9d-ee6442078d6d",
   "metadata": {},
   "outputs": [],
   "source": [
    "windspeed_df.at[0, 'File']"
   ]
  },
  {
   "cell_type": "code",
   "execution_count": null,
   "id": "d3d86ded-a2ee-4259-8f60-14990f007366",
   "metadata": {},
   "outputs": [],
   "source": [
    "baseline = baseline.drop(columns={'Unnamed: 0', 'race coords'})"
   ]
  },
  {
   "cell_type": "code",
   "execution_count": null,
   "id": "902cba7a-2b02-44b8-af24-35f0a3b79d1f",
   "metadata": {},
   "outputs": [],
   "source": [
    "baseline"
   ]
  },
  {
   "cell_type": "code",
   "execution_count": null,
   "id": "0ef9cbd0-a6a2-4c53-be57-9d30d6f4a6fc",
   "metadata": {},
   "outputs": [],
   "source": [
    "baseline.to_excel('baseline_data.xlsx')"
   ]
  },
  {
   "cell_type": "code",
   "execution_count": null,
   "id": "f95917c1-1415-4d01-8b35-2dc74f904d54",
   "metadata": {},
   "outputs": [],
   "source": [
    "# Race profiles in PCS were hardcoded as html images, so I converted those images into text so that I could use them in PowerBI"
   ]
  },
  {
   "cell_type": "code",
   "execution_count": null,
   "id": "d7e8f823-c97c-4447-98a2-4376d51de6ae",
   "metadata": {},
   "outputs": [],
   "source": [
    "profile_icons = {\n",
    "    'p1': 'Flat',\n",
    "    'p2': 'Hills, flat finish',\n",
    "    'p3': 'Hills, uphill finish',\n",
    "    'p4': 'Mountains, flat finish',\n",
    "    'p5': 'Mountains, uphill finish'\n",
    "}"
   ]
  },
  {
   "cell_type": "code",
   "execution_count": null,
   "id": "f38ffb1c-5948-4bbf-ab3a-5e9227d15b53",
   "metadata": {},
   "outputs": [],
   "source": [
    "baseline['profile_icon'] = baseline['profile_icon'].map(profile_icons)"
   ]
  },
  {
   "cell_type": "code",
   "execution_count": null,
   "id": "4ddab5da-e1d0-42ad-87f3-ffb8b4100e0a",
   "metadata": {},
   "outputs": [],
   "source": [
    "baseline.to_excel('baseline_data.xlsx')"
   ]
  },
  {
   "cell_type": "code",
   "execution_count": null,
   "id": "ec3c6403-828e-4eb9-a757-006fce1b524e",
   "metadata": {},
   "outputs": [],
   "source": [
    "baseline['profile_icon'].value_counts()"
   ]
  }
 ],
 "metadata": {
  "kernelspec": {
   "display_name": "Python 3 (ipykernel)",
   "language": "python",
   "name": "python3"
  },
  "language_info": {
   "codemirror_mode": {
    "name": "ipython",
    "version": 3
   },
   "file_extension": ".py",
   "mimetype": "text/x-python",
   "name": "python",
   "nbconvert_exporter": "python",
   "pygments_lexer": "ipython3",
   "version": "3.12.7"
  }
 },
 "nbformat": 4,
 "nbformat_minor": 5
}
