{
 "cells": [
  {
   "cell_type": "code",
   "execution_count": 1,
   "id": "4abdd295-efeb-4578-b25d-20d4729ec336",
   "metadata": {},
   "outputs": [],
   "source": [
    "import pandas as pd\n",
    "import requests\n",
    "from bs4 import BeautifulSoup"
   ]
  },
  {
   "cell_type": "code",
   "execution_count": 3,
   "id": "2170091e-91f8-496f-8954-522d1092f153",
   "metadata": {},
   "outputs": [],
   "source": [
    "baseline = pd.read_excel(r\"C:\\Users\\mrmik\\OneDrive\\Desktop\\NSS\\Python\\Projects\\Cycling_Capstone\\notebooks\\baseline data.xlsx\")"
   ]
  },
  {
   "cell_type": "code",
   "execution_count": 7,
   "id": "9c250435-11d6-42d1-a4d3-e1f7ddea1cb5",
   "metadata": {},
   "outputs": [],
   "source": [
    "baseline = baseline.drop(['Unnamed: 0.2', 'Unnamed: 0.1', 'Unnamed: 0'], axis=1)"
   ]
  },
  {
   "cell_type": "code",
   "execution_count": 15,
   "id": "196bc3e7-7205-401c-843c-53982af794c4",
   "metadata": {},
   "outputs": [],
   "source": [
    "baseline = baseline.sort_values(by=['Race Name', 'Year'], ascending=[True, True])"
   ]
  },
  {
   "cell_type": "code",
   "execution_count": 19,
   "id": "66867e35-2b09-44ae-95df-ad869517e9d2",
   "metadata": {},
   "outputs": [],
   "source": [
    "baseline.to_excel('baseline_data.xlsx')"
   ]
  },
  {
   "cell_type": "code",
   "execution_count": 21,
   "id": "24462010-4bee-4815-80c7-545076e2e513",
   "metadata": {},
   "outputs": [
    {
     "data": {
      "text/plain": [
       "94    Amstel Gold Race\n",
       "95    Amstel Gold Race\n",
       "96    Amstel Gold Race\n",
       "97    Amstel Gold Race\n",
       "98    Amstel Gold Race\n",
       "            ...       \n",
       "6       Strade Bianche\n",
       "0       Strade Bianche\n",
       "1       Strade Bianche\n",
       "2       Strade Bianche\n",
       "3       Strade Bianche\n",
       "Name: Race Name, Length: 100, dtype: object"
      ]
     },
     "execution_count": 21,
     "metadata": {},
     "output_type": "execute_result"
    }
   ],
   "source": [
    "baseline['Race Name']"
   ]
  },
  {
   "cell_type": "code",
   "execution_count": null,
   "id": "00319997-127d-4205-874e-e1f2e35c7640",
   "metadata": {},
   "outputs": [],
   "source": []
  }
 ],
 "metadata": {
  "kernelspec": {
   "display_name": "Python 3 (ipykernel)",
   "language": "python",
   "name": "python3"
  },
  "language_info": {
   "codemirror_mode": {
    "name": "ipython",
    "version": 3
   },
   "file_extension": ".py",
   "mimetype": "text/x-python",
   "name": "python",
   "nbconvert_exporter": "python",
   "pygments_lexer": "ipython3",
   "version": "3.12.7"
  }
 },
 "nbformat": 4,
 "nbformat_minor": 5
}
